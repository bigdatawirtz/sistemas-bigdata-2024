{
 "cells": [
  {
   "cell_type": "markdown",
   "id": "29cc9d9d-35c5-4b81-9f74-13acb8bfe25e",
   "metadata": {},
   "source": [
    "### Exercicios Extra de Scraping"
   ]
  },
  {
   "cell_type": "code",
   "execution_count": 1,
   "id": "63aaf230-7b2b-452b-9182-54a0c59317bd",
   "metadata": {},
   "outputs": [],
   "source": [
    "# 1.1 Extract the bitcoin price by scraping from the following website\n",
    "# https://awebanalysis.com/es/coin-details/bitcoin/"
   ]
  },
  {
   "cell_type": "code",
   "execution_count": 1,
   "id": "5c89f47d-041b-4367-98c3-f786c013aa9f",
   "metadata": {},
   "outputs": [],
   "source": [
    "from bs4 import BeautifulSoup\n",
    "import requests"
   ]
  },
  {
   "cell_type": "code",
   "execution_count": 3,
   "id": "1fcce0ca-e1ca-494b-aa54-388ef2098e5f",
   "metadata": {},
   "outputs": [],
   "source": [
    "url = 'https://awebanalysis.com/es/coin-details/bitcoin/'\n",
    "response = requests.get(url)\n",
    "soup = BeautifulSoup(response.content,'html.parser')"
   ]
  },
  {
   "cell_type": "code",
   "execution_count": null,
   "id": "bf8f20e1-4c00-4637-a6ff-e843ef3b4683",
   "metadata": {},
   "outputs": [],
   "source": [
    "result = soup.find('td',{'class': 'text-larger'})\n",
    "result.text"
   ]
  },
  {
   "cell_type": "code",
   "execution_count": null,
   "id": "c754aa61",
   "metadata": {},
   "outputs": [],
   "source": [
    "# Clean data and cast to float\n",
    "bitcoin_value = float(result.text.replace('$','').replace(',',''))\n",
    "bitcoin_value"
   ]
  },
  {
   "cell_type": "code",
   "execution_count": 7,
   "id": "6a8ed688",
   "metadata": {},
   "outputs": [],
   "source": [
    "# 1.2 Calculte the value of 5 bitcoins you have found cleaning the couch"
   ]
  },
  {
   "cell_type": "code",
   "execution_count": null,
   "id": "650a184b",
   "metadata": {},
   "outputs": [],
   "source": [
    "print(f'You have found 5 bitcoins with a value of {5*bitcoin_value}$')"
   ]
  },
  {
   "cell_type": "code",
   "execution_count": null,
   "id": "2453ceee",
   "metadata": {},
   "outputs": [],
   "source": [
    "# 1.3 Calculate how many Ethereums can you get with your new 5 bitcoins"
   ]
  },
  {
   "cell_type": "code",
   "execution_count": null,
   "id": "334d46d7",
   "metadata": {},
   "outputs": [],
   "source": [
    "url = 'https://awebanalysis.com/es/coin-details/ethereum/'\n",
    "response = requests.get(url)\n",
    "soup = BeautifulSoup(response.content,'html.parser')\n",
    "result = soup.find('td',{'class': 'text-larger'})\n",
    "result.text\n",
    "ethereum_value = float(result.text.replace('$','').replace(',',''))\n",
    "ethereum_value"
   ]
  },
  {
   "cell_type": "code",
   "execution_count": null,
   "id": "6ab0c921",
   "metadata": {},
   "outputs": [],
   "source": [
    "print(f'You have found 5 bitcoins with a value of {5*bitcoin_value/ethereum_value} ethereums')"
   ]
  },
  {
   "cell_type": "code",
   "execution_count": null,
   "id": "1a14fc77",
   "metadata": {},
   "outputs": [],
   "source": [
    "## Note from the editor: We absolutely disencourage the investiments in cryptocurrencies. This is only an exercise."
   ]
  },
  {
   "cell_type": "code",
   "execution_count": null,
   "id": "6beb0f88-c984-48e3-a10a-e245435e64c7",
   "metadata": {},
   "outputs": [],
   "source": [
    "# 2.1 Prints the titles of the entries/posts on the main page of \"Menéame\"\n",
    "# https://www.meneame.net/"
   ]
  },
  {
   "cell_type": "code",
   "execution_count": 2,
   "id": "0a21b0b5-7a7d-4ec3-8b2c-f602b505edda",
   "metadata": {},
   "outputs": [],
   "source": [
    "headers = { 'User-Agent' : 'Mozilla/5.0 (X11;Ubuntu;Linux x86_64;rv:94.0) Gecko/20100101 Firefox/94.0' }\n",
    "url = 'https://www.meneame.net/'\n",
    "response = requests.get(url, headers = headers)"
   ]
  },
  {
   "cell_type": "code",
   "execution_count": 3,
   "id": "68594b14-078b-4543-b2e4-dcf9c2c4ca35",
   "metadata": {},
   "outputs": [],
   "source": [
    "soup = BeautifulSoup(response.content,'html.parser')"
   ]
  },
  {
   "cell_type": "code",
   "execution_count": 4,
   "id": "05e97ed3",
   "metadata": {},
   "outputs": [],
   "source": [
    "result = soup.find_all('h2')\n",
    "#result"
   ]
  },
  {
   "cell_type": "code",
   "execution_count": 5,
   "id": "220ee8fd",
   "metadata": {},
   "outputs": [
    {
     "name": "stdout",
     "output_type": "stream",
     "text": [
      "  El Gobierno de Ayuso asigna más de 300.000 euros de ayudas para conciliación a los Legionarios de Cristo  \n",
      "  Google decide no seguir las normas y se niega a cumplir la ley de verificación de datos de la UE  \n",
      "  La Policía detiene a un hombre en València acusado de secuestrar a una mujer y sus dos hijas menores durante 20 días  \n",
      "  Esta basura pone 1 empresa de catering a los ancianos en la residencia de A Pontenova (Lugo)    \n",
      "  Séptimo vuelo de la Starship: segunda captura de un Super Heavy y destrucción de la S33  \n",
      "  Se entiende por qué la Banda y su camarilla se cachondean en toa nuestra cara    \n",
      "  Maldito enero  \n",
      "  Pobre rico, anarquista lleno: Rafael Barrett  \n",
      "  El grupo de León: la conexión entre Quirón, la pareja de Ayuso y el ático de Chamberí  \n",
      "  Rodrigo Cuevas abandera la cruzada por la igualdad en ‘La noche en 24 horas’: «Nos meteréis antes en nichos que en armarios»  \n",
      "  La librería de terror que lleva 20 años oculta en un piso de Madrid: \"No tiene sentido venir a por un libro de Pérez-Reverte\"  \n",
      "  Las redes sociales de código abierto compiten contra Instagram y TikTok  \n",
      "  La nueva derecha - Natascha Strobl    \n",
      "  España mueve ficha para que la geoda gigante de Pulpí o los grabados rupestres de La Palma sean Patrimonio Mundial  \n",
      "  ¡Mierda, git! (ENG)  \n",
      "  “Disney robó mi trabajo y lo vendió en sus parques de atracciones”    \n",
      "  Ministra canadiense advierte a estadounidenses sobre “impuesto arancelario de Trump”  \n",
      "  Acosó durante años a una antigua profesora colgando en redes fotos trucadas de carácter sexual: deberá pagar 35.000 euros  \n",
      "  La odisea de Uxía, la maestra gallega con discapacidad visual que rechaza Canarias  \n",
      "  Two girls, One cockroach    \n",
      "  Matan y exhiben dos lobos en Ponga  \n",
      "  Multitudinaria manifestación en Pamplona para rechazar la resignificación de los Caídos y reclamar su derribo  \n",
      "  Campaña unitaria 2025 «Por una escuela pública y laica. Religión fuera de la escuela»    \n",
      "  El negocio de la gestación subrogada en España: \"Si el bebé muere antes de cumplir 2 años, reiniciamos el proceso gratis\"  \n",
      "  La Fundación Hind Rajab presenta una denuncia por crímenes de guerra contra un soldado israelí en Barcelona (EN)    \n"
     ]
    }
   ],
   "source": [
    "for nova in result:\n",
    "    print(nova.text)"
   ]
  },
  {
   "cell_type": "code",
   "execution_count": 6,
   "id": "311ef9f7-deb9-4dca-b53c-f4771e0499dd",
   "metadata": {},
   "outputs": [],
   "source": [
    "# 2.2 Create a dataframe with the name and the link of the news source (elpais.es, abc.com etc)"
   ]
  },
  {
   "cell_type": "code",
   "execution_count": null,
   "id": "e53ab60b",
   "metadata": {},
   "outputs": [
    {
     "data": {
      "text/plain": [
       "[<div class=\"center-content\"> <h2> <a class=\"l:4019850 ga-event\" data-event-action=\"story\" data-event-label=\"source\" href=\"http://www.publico.es/politica/gobierno-ayuso-asigna-mas-300-000-euros-ayudas-conciliacion-legionarios-cristo.html\"> El Gobierno de Ayuso asigna más de 300.000 euros de ayudas para conciliación a los Legionarios de Cristo </a> </h2> <div class=\"news-submitted\"> <a class=\"tooltip u:128655\" href=\"/user/Esteban_Rosador\"><img alt=\"Esteban_Rosador\" class=\"lazy\" data-2x=\"s:-25.:-40.\" src=\"/cache/01/f6/128655-1732177169-25.jpg\"/></a>  por <a href=\"/user/Esteban_Rosador/history\">Esteban_Rosador</a>  a <span class=\"showmytitle\" title=\"http://www.publico.es/politica/gobierno-ayuso-asigna-mas-300-000-euros-ayudas-conciliacion-legionarios-cristo.html\">publico.es</span>     <span class=\"ts visible\" data-ts=\"1737290505\" title=\"enviado: \">____</span>  publicado:  <span class=\"ts visible\" data-ts=\"1737296402\" title=\"publicado: \">____</span> </div> <div class=\"news-content\"> Paradójicamente, parte del dinero destinado a este programa, pensado para apoyar a las familias más vulnerables y fomentar la sensibilización en el reparto de las tareas de cuidados –las cuales recaen mayoritariamente sobre los hombros de las mujeres–, ha terminado en manos de organizaciones religiosas ultraconservadoras.  </div> </div>,\n",
       " <div class=\"center-content\"> <h2> <a class=\"l:4019738 ga-event\" data-event-action=\"story\" data-event-label=\"source\" href=\"https://elchapuzasinformatico.com/2025/01/google-ley-verificacion-datos-ue/\"> Google decide no seguir las normas y se niega a cumplir la ley de verificación de datos de la UE </a> </h2> <div class=\"news-submitted\"> <a class=\"tooltip u:736666\" href=\"/user/fasta\"><img alt=\"fasta\" class=\"lazy\" data-2x=\"s:-25.:-40.\" src=\"//cdn.mnmstatic.net/v_149/img/mnm/no-gravatar-2-25.png\"/></a>  por <a href=\"/user/fasta/history\">fasta</a>  a <span class=\"showmytitle\" title=\"https://elchapuzasinformatico.com/2025/01/google-ley-verificacion-datos-ue/\">elchapuzasinformatico.com</span>     <span class=\"ts visible\" data-ts=\"1737258119\" title=\"enviado: \">____</span>  publicado:  <span class=\"ts visible\" data-ts=\"1737292502\" title=\"publicado: \">____</span> </div> <div class=\"news-content\"> Google ha dicho públicamente que ellos no elegirán cumplir con la ley de verificación de datos, ya que no es efectivo para sus servicios. La Unión Europea lleva un tiempo implementando una serie de normas que tienen diversos objetivos. Por una parte quieren que los clientes que compran de forma online o se suscriben a servicios tengan más opciones y facilidades para evitar estafas o cancelar la suscripción. Otro de los cambios que quieren hacer es que las grandes empresas dejen de ahogar al resto de compañías y tengan una presencia menos domin  </div> </div>,\n",
       " <div class=\"center-content\"> <h2> <a class=\"l:4019683 ga-event\" data-event-action=\"story\" data-event-label=\"source\" href=\"https://cadenaser.com/comunitat-valenciana/2025/01/18/la-policia-detiene-a-un-hombre-en-valencia-acusado-de-secuestrar-a-una-mujer-y-sus-dos-hijas-menores-durante-20-dias-radio-valencia/\"> La Policía detiene a un hombre en València acusado de secuestrar a una mujer y sus dos hijas menores durante 20 días </a> </h2> <div class=\"news-submitted\"> <a class=\"tooltip u:588015\" href=\"/user/Supercinexin\"><img alt=\"Supercinexin\" class=\"lazy\" data-2x=\"s:-25.:-40.\" src=\"/cache/08/f8/588015-1735637807-25.jpg\"/></a>  por <a href=\"/user/Supercinexin/history\">Supercinexin</a>  a <span class=\"showmytitle\" title=\"https://cadenaser.com/comunitat-valenciana/2025/01/18/la-policia-detiene-a-un-hombre-en-valencia-acusado-de-secuestrar-a-una-mujer-y-sus-dos-hijas-menores-durante-20-dias-radio-valencia/\">cadenaser.com</span>     <span class=\"ts visible\" data-ts=\"1737221038\" title=\"enviado: \">____</span>  publicado:  <span class=\"ts visible\" data-ts=\"1737291003\" title=\"publicado: \">____</span> </div> <div class=\"news-content\"> Tanto la mujer como las menores sufrían agresiones físicas de manera continuada desde hace varios meses.  </div> </div>,\n",
       " <div class=\"center-content no-padding\"> <h2> <a class=\"l:4019783 ga-event\" data-event-action=\"story\" data-event-label=\"source\" href=\"https://x.com/JuanmiGG_News/status/1880641143182139538\"> Esta basura pone 1 empresa de catering a los ancianos en la residencia de A Pontenova (Lugo) </a> <span class=\"wideonly\"> <i alt=\"vídeo\" class=\"fa fa-video-camera\" title=\"vídeo\"></i></span> </h2> <div class=\"news-submitted\"> <a class=\"tooltip u:181777\" href=\"/user/NPCmasacrado\"><img alt=\"NPCmasacrado\" class=\"lazy\" data-2x=\"s:-25.:-40.\" src=\"/cache/02/c6/181777-1734165510-25.jpg\"/></a>  por <a href=\"/user/NPCmasacrado/history\">NPCmasacrado</a>  a <span class=\"showmytitle\" title=\"https://x.com/JuanmiGG_News/status/1880641143182139538\">x.com</span>     <span class=\"ts visible\" data-ts=\"1737278789\" title=\"enviado: \">____</span>  publicado:  <span class=\"ts visible\" data-ts=\"1737288002\" title=\"publicado: \">____</span> </div> <div class=\"news-content\"> Esta basura pone 1 empresa de catering a los ancianos en la residencia de A Pontenova (Lugo), dependiente de la Xunta (PP). Problemas digestivos diarios. Pagan el 80% de su pensión. Los q pueden, salen y compran pan para bocadillos. Otros centros de Galicia igualmente afectados.  </div> </div>,\n",
       " <div class=\"center-content\"> <h2> <a class=\"l:4019477 ga-event\" data-event-action=\"story\" data-event-label=\"source\" href=\"https://danielmarin.naukas.com/2025/01/17/septimo-vuelo-de-la-starship-segunda-captura-de-un-super-heavy-y-destruccion-de-la-s33/\"> Séptimo vuelo de la Starship: segunda captura de un Super Heavy y destrucción de la S33 </a> </h2> <div class=\"news-submitted\"> <a class=\"tooltip u:234577\" href=\"/user/ccguy\"><img alt=\"ccguy\" class=\"lazy\" data-2x=\"s:-25.:-40.\" src=\"/cache/03/94/234577-1533681499-25.jpg\"/></a>  por <a href=\"/user/ccguy/history\">ccguy</a>  a <span class=\"showmytitle\" title=\"https://danielmarin.naukas.com/2025/01/17/septimo-vuelo-de-la-starship-segunda-captura-de-un-super-heavy-y-destruccion-de-la-s33/\">danielmarin.naukas.com</span>     <span class=\"ts visible\" data-ts=\"1737144708\" title=\"enviado: \">____</span>  publicado:  <span class=\"ts visible\" data-ts=\"1737286503\" title=\"publicado: \">____</span> </div> <div class=\"news-content\"> La telemetría de la S33 se congeló a los 8 minutos y 25 segundos, cuando la nave estaba a 146 kilómetros de altitud y se movía a 21 317 km/h. Previamente, a partir de los 7 minutos y 40 segundos de la misión, los motores Raptor de la S33 comenzaron a apagarse y se pudieron ver llamas saliendo de una de las bisagras del flap trasero derecho. Cuando se perdió la telemetría solamente quedaba activo un Raptor de vacío. Los restos de la S33 se observaron cayendo sobre las islas Turcas y Caicos, al norte de la República Dominicana.  </div> </div>,\n",
       " <div class=\"center-content no-padding\"> <h2> <a class=\"l:4019790 ga-event\" data-event-action=\"story\" data-event-label=\"source\" href=\"https://x.com/muzeriqui/status/1880678916291236321\"> Se entiende por qué la Banda y su camarilla se cachondean en toa nuestra cara </a> <span class=\"wideonly\"> <i alt=\"vídeo\" class=\"fa fa-video-camera\" title=\"vídeo\"></i></span> </h2> <div class=\"news-submitted\"> <a class=\"tooltip u:547136\" href=\"/user/Thornton\"><img alt=\"Thornton\" class=\"lazy\" data-2x=\"s:-25.:-40.\" src=\"/cache/08/59/547136-1497511916-25.jpg\"/></a>  por <a href=\"/user/Thornton/history\">Thornton</a>  a <span class=\"showmytitle\" title=\"https://x.com/muzeriqui/status/1880678916291236321\">x.com</span>     <span class=\"ts visible\" data-ts=\"1737280186\" title=\"enviado: \">____</span>  publicado:  <span class=\"ts visible\" data-ts=\"1737284403\" title=\"publicado: \">____</span> </div> <div class=\"news-content\"> Se entiende por qué la Banda y su camarilla se cachondean en toa nuestra cara...o hace falta un cursillo para que se entienda.  </div> </div>,\n",
       " <div class=\"center-content\"> <h2> <a class=\"l:4019756 ga-event\" data-event-action=\"story\" data-event-label=\"source\" href=\"https://www.revistamercurio.es/2025/01/19/maldito-enero/\"> Maldito enero </a> </h2> <div class=\"news-submitted\"> <a class=\"tooltip u:264708\" href=\"/user/imparsifal\"><img alt=\"imparsifal\" class=\"lazy\" data-2x=\"s:-25.:-40.\" src=\"/cache/04/0a/264708-1316764252-25.jpg\"/></a>  por <a href=\"/user/imparsifal/history\">imparsifal</a>  a <span class=\"showmytitle\" title=\"https://www.revistamercurio.es/2025/01/19/maldito-enero/\">revistamercurio.es</span>     <span class=\"ts visible\" data-ts=\"1737272568\" title=\"enviado: \">____</span>  publicado:  <span class=\"ts visible\" data-ts=\"1737283203\" title=\"publicado: \">____</span> </div> <div class=\"news-content\"> Textos ganador y finalistas del concurso de microrrelatos de Menéame  </div> </div>,\n",
       " <div class=\"center-content\"> <h2> <a class=\"l:4019736 ga-event\" data-event-action=\"story\" data-event-label=\"source\" href=\"https://lasoga.org/pobre-rico-anarquista-lleno-rafael-barrett///\"> Pobre rico, anarquista lleno: Rafael Barrett </a> </h2> <div class=\"news-submitted\"> <a class=\"tooltip u:490941\" href=\"/user/Cachopín\"><img alt=\"Cachopín\" class=\"lazy\" data-2x=\"s:-25.:-40.\" src=\"/cache/07/7d/490941-1453241832-25.jpg\"/></a>  por <a href=\"/user/Cachopín/history\">Cachopín</a>  a <span class=\"showmytitle\" title=\"https://lasoga.org/pobre-rico-anarquista-lleno-rafael-barrett///\">lasoga.org</span>     <span class=\"ts visible\" data-ts=\"1737244653\" title=\"enviado: \">____</span>  publicado:  <span class=\"ts visible\" data-ts=\"1737282302\" title=\"publicado: \">____</span> </div> <div class=\"news-content\"> Joven rico, pendenciero, abusón, camorrista, borracho y putero, se dio de bruces con la realidad. Aquel niño bien y mejor relacionado perdió su fortuna, se le dio por muerto y aprovechó para huir de Madrid al nuevo mundo, donde conoció la necesidad. Aquel ilustrado perdió lustre y pasó hambre, entendió y compartió la pobreza, fue encarcelado y varias veces exiliado.  </div> </div>,\n",
       " <div class=\"center-content\"> <h2> <a class=\"l:4019754 ga-event\" data-event-action=\"story\" data-event-label=\"source\" href=\"https://www.eldiario.es/politica/grupo-leon-conexion-quiron-pareja-ayuso-atico-chamberi_1_11973438.html\"> El grupo de León: la conexión entre Quirón, la pareja de Ayuso y el ático de Chamberí </a> </h2> <div class=\"news-submitted\"> <a class=\"tooltip u:520575\" href=\"/user/manuen\"><img alt=\"manuen\" class=\"lazy\" data-2x=\"s:-25.:-40.\" src=\"/cache/07/f1/520575-1468316933-25.jpg\"/></a>  por <a href=\"/user/manuen/history\">manuen</a>  a <span class=\"showmytitle\" title=\"https://www.eldiario.es/politica/grupo-leon-conexion-quiron-pareja-ayuso-atico-chamberi_1_11973438.html\">eldiario.es</span>     <span class=\"ts visible\" data-ts=\"1737270641\" title=\"enviado: \">____</span>  publicado:  <span class=\"ts visible\" data-ts=\"1737279902\" title=\"publicado: \">____</span> </div> <div class=\"news-content\"> Los secretos de Alberto González Amador descansan en el norte. Es en la ciudad de León donde residen, o de donde proceden, los empresarios y el fiscalista que conocen los negocios de quien comparte su vida con Isabel Díaz Ayuso. Los mismos que saben quién paga el ático de lujo que se sitúa justo encima del piso que compró González Amador tras cometer el fraude fiscal que ha reconocido y que utiliza la pareja. De momento solo han emergido cuatro nombres: el director de Quirón Prevención, Fernando Camino; su mujer, la farmacéutica Gloria Carrasco  </div> </div>,\n",
       " <div class=\"center-content\"> <h2> <a class=\"l:4019734 ga-event\" data-event-action=\"story\" data-event-label=\"source\" href=\"https://migijon.com/rodrigo-cuevas-abandera-la-cruzada-por-igualdad-en-la-noche-en-24-horas-nos-metereis-antes-en-nichos-que-en-armarios/?fbclid=IwZXh0bgNhZW0CMTEAAR1xFeJFT8nX52ZX5p8E6bhFpVtbu42EBdUbUdQ6t4xKj_xVjkGSVXm20es_aem_dybG9neTUEo1yPNhSJtZcg\"> Rodrigo Cuevas abandera la cruzada por la igualdad en ‘La noche en 24 horas’: «Nos meteréis antes en nichos que en armarios» </a> </h2> <div class=\"news-submitted\"> <a class=\"tooltip u:625026\" href=\"/user/Verdaderofalso\"><img alt=\"Verdaderofalso\" class=\"lazy\" data-2x=\"s:-25.:-40.\" src=\"/cache/09/89/625026-1631894067-25.jpg\"/></a>  por <a href=\"/user/Verdaderofalso/history\">Verdaderofalso</a>  a <span class=\"showmytitle\" title=\"https://migijon.com/rodrigo-cuevas-abandera-la-cruzada-por-igualdad-en-la-noche-en-24-horas-nos-metereis-antes-en-nichos-que-en-armarios/?fbclid=IwZXh0bgNhZW0CMTEAAR1xFeJFT8nX52ZX5p8E6bhFpVtbu42EBdUbUdQ6t4xKj_xVjkGSVXm20es_aem_dybG9neTUEo1yPNhSJtZcg\">migijon.com</span>     <span class=\"ts visible\" data-ts=\"1737243070\" title=\"enviado: \">____</span>  publicado:  <span class=\"ts visible\" data-ts=\"1737277502\" title=\"publicado: \">____</span> </div> <div class=\"news-content\"> El artista aprovechó su presencia en el espacio conducido por Xavier Fortes para hacer un alegato contra la intolerancia  </div> </div>,\n",
       " <div class=\"center-content\"> <h2> <a class=\"l:4019745 ga-event\" data-event-action=\"story\" data-event-label=\"source\" href=\"https://www.epe.es/es/cultura/20250118/libreria-terror-lleva-20-anos-113417278\"> La librería de terror que lleva 20 años oculta en un piso de Madrid: \"No tiene sentido venir a por un libro de Pérez-Reverte\" </a> </h2> <div class=\"news-submitted\"> <a class=\"tooltip u:600618\" href=\"/user/helia\"><img alt=\"helia\" class=\"lazy\" data-2x=\"s:-25.:-40.\" src=\"/cache/09/2a/600618-1737004567-25.jpg\"/></a>  por <a href=\"/user/helia/history\">helia</a>  a <span class=\"showmytitle\" title=\"https://www.epe.es/es/cultura/20250118/libreria-terror-lleva-20-anos-113417278\">epe.es</span>     <span class=\"ts visible\" data-ts=\"1737265049\" title=\"enviado: \">____</span>  publicado:  <span class=\"ts visible\" data-ts=\"1737276302\" title=\"publicado: \">____</span> </div> <div class=\"news-content\"> A esta altura de Madrid no suele haber librerías abiertas al público. Dos pisos por encima de la calle Alcalá, en un pequeño apartamento, bien luminoso, se esconde Opar. Es curioso que, pese a no estar a la vista, se haya convertido en un lugar de peregrinación para los amantes del terror. Lleva 20 inviernos haciendo del género una religión: de ahí que, aún sin redes sociales ni web, sólo con el correo electrónico, la hazaña de Alfredo Lara impresione tanto como los zarpazos de Mary Shelley, Bram Strocker y Edgar Allan Poe.  </div> </div>,\n",
       " <div class=\"center-content\"> <h2> <a class=\"l:4019746 ga-event\" data-event-action=\"story\" data-event-label=\"source\" href=\"https://somoslibres.org/index.php/44-nieuws/tecnologia/13501-las-redes-sociales-de-codigo-abierto-compiten-contra-instagram-y-tiktok\"> Las redes sociales de código abierto compiten contra Instagram y TikTok </a> </h2> <div class=\"news-submitted\"> <a class=\"tooltip u:834931\" href=\"/user/Filemón314\"><img alt=\"Filemón314\" class=\"lazy\" data-2x=\"s:-25.:-40.\" src=\"/cache/0c/bd/834931-1737104931-25.jpg\"/></a>  por <a href=\"/user/Filemón314/history\">Filemón314</a>  a <span class=\"showmytitle\" title=\"https://somoslibres.org/index.php/44-nieuws/tecnologia/13501-las-redes-sociales-de-codigo-abierto-compiten-contra-instagram-y-tiktok\">somoslibres.org</span>     <span class=\"ts visible\" data-ts=\"1737265382\" title=\"enviado: \">____</span>  publicado:  <span class=\"ts visible\" data-ts=\"1737275403\" title=\"publicado: \">____</span> </div> <div class=\"news-content\"> En el mundo dominado por gigantes como Instagram y TikTok, las redes sociales de  código abierto están ganando terreno como una alternativa innovadora y ética. Estas plataformas, impulsadas por la comunidad y con énfasis en la privacidad y la transparencia, buscan ofrecer a los usuarios un control real sobre su experiencia en línea. ¿Cómo se comparan estas redes frente a las plataformas líderes? Aquí exploramos su impacto y potencial.  </div> </div>,\n",
       " <div class=\"center-content\"> <h2> <a class=\"l:4019730 ga-event\" data-event-action=\"story\" data-event-label=\"source\" href=\"https://www.youtube.com/watch?si=_gYziYwJKXpEgymn&amp;v=xZRJvMP8Jjk\"> La nueva derecha - Natascha Strobl </a> <span class=\"wideonly\"> <i alt=\"vídeo\" class=\"fa fa-video-camera\" title=\"vídeo\"></i></span> </h2> <div class=\"news-submitted\"> <a class=\"tooltip u:416661\" href=\"/user/vicus.\"><img alt=\"vicus.\" class=\"lazy\" data-2x=\"s:-25.:-40.\" src=\"/cache/06/5b/416661-1467119548-25.jpg\"/></a>  por <a href=\"/user/vicus./history\">vicus.</a>  a <span class=\"showmytitle\" title=\"https://www.youtube.com/watch?si=_gYziYwJKXpEgymn&amp;v=xZRJvMP8Jjk\">youtube.com</span>     <span class=\"ts visible\" data-ts=\"1737239737\" title=\"enviado: \">____</span>  publicado:  <span class=\"ts visible\" data-ts=\"1737273608\" title=\"publicado: \">____</span> </div> <div class=\"news-content\"> Desarrollo del libro \"La Nueva Derecha\", bajo el subtítulo de “Un análisis del conservadurismo radicalizado”, escrito por la politóloga austríaca Natascha Strobl, catedrática de la Universidad de Viena, publicado en alemán en 2021 y traducido al español en 2022 y editado por Editorial KATZ. Se trata de un recorrido por el proceso que ha conducido a una fusión del conservadurismo clásico y las nuevas formaciones de extrema derecha, dando forma a la nueva expresión política a la que llama \"conservadurismo radicalizado\", que se expande por Europa  </div> </div>,\n",
       " <div class=\"center-content\"> <h2> <a class=\"l:4019592 ga-event\" data-event-action=\"story\" data-event-label=\"source\" href=\"https://www.eldiario.es/cultura/espana-mueve-ficha-geoda-gigante-pulpi-grabados-rupestres-palma-sean-patrimonio-mundial_1_11973269.html\"> España mueve ficha para que la geoda gigante de Pulpí o los grabados rupestres de La Palma sean Patrimonio Mundial </a> </h2> <div class=\"news-submitted\"> <a class=\"tooltip u:650539\" href=\"/user/Skar2791\"><img alt=\"Skar2791\" class=\"lazy\" data-2x=\"s:-25.:-40.\" src=\"/cache/09/ed/650539-1590076251-25.jpg\"/></a>  por <a href=\"/user/Skar2791/history\">Skar2791</a>  a <span class=\"showmytitle\" title=\"https://www.eldiario.es/cultura/espana-mueve-ficha-geoda-gigante-pulpi-grabados-rupestres-palma-sean-patrimonio-mundial_1_11973269.html\">eldiario.es</span>     <span class=\"ts visible\" data-ts=\"1737194569\" title=\"enviado: \">____</span>  publicado:  <span class=\"ts visible\" data-ts=\"1737268211\" title=\"publicado: \">____</span> </div> <div class=\"news-content\"> La Geoda Gigante (Pulpí, Almería), la Universidad Laboral (Gijón), los grabados rupestres (La Palma) y los primeros ingenios azucareros del Atlántico (Canarias) serán esos cuatro bienes patrimoniales  </div> </div>,\n",
       " <div class=\"center-content no-padding\"> <h2> <a class=\"l:4019679 ga-event\" data-event-action=\"story\" data-event-label=\"source\" href=\"https://ohshitgit.com/\"> ¡Mierda, git! (ENG) </a> </h2> <div class=\"news-submitted\"> <a class=\"tooltip u:234577\" href=\"/user/ccguy\"><img alt=\"ccguy\" class=\"lazy\" data-2x=\"s:-25.:-40.\" src=\"/cache/03/94/234577-1533681499-25.jpg\"/></a>  por <a href=\"/user/ccguy/history\">ccguy</a>  a <span class=\"showmytitle\" title=\"https://ohshitgit.com/\">ohshitgit.com</span>     <span class=\"ts visible\" data-ts=\"1737220777\" title=\"enviado: \">____</span>  publicado:  <span class=\"ts visible\" data-ts=\"1737263402\" title=\"publicado: \">____</span> </div> <div class=\"news-content\"> Git es difícil: meter la pata es fácil, y averiguar cómo solucionar tus errores es jodidamente imposible. La documentación de Git tiene este problema del huevo y la gallina en el que no puedes buscar cómo salir de un lío, a menos que ya sepas el nombre de la cosa que necesitas saber para solucionar tu problema. Así que aquí hay algunas malas situaciones en las que me he metido, y cómo finalmente salí de ellas en lenguaje sencillo.  </div> </div>,\n",
       " <div class=\"center-content no-padding\"> <h2> <a class=\"l:4019715 ga-event\" data-event-action=\"story\" data-event-label=\"source\" href=\"https://www.tiktok.com/@monstercaesarstudios/video/7461244948441058566\"> “Disney robó mi trabajo y lo vendió en sus parques de atracciones” </a> <span class=\"wideonly\"> <i alt=\"vídeo\" class=\"fa fa-video-camera\" title=\"vídeo\"></i></span> </h2> <div class=\"news-submitted\"> <a class=\"tooltip u:239132\" href=\"/user/Marco_Pagot\"><img alt=\"Marco_Pagot\" class=\"lazy\" data-2x=\"s:-25.:-40.\" src=\"/cache/03/a6/239132-1616458199-25.jpg\"/></a>  por <a href=\"/user/Marco_Pagot/history\">Marco_Pagot</a>  a <span class=\"showmytitle\" title=\"https://www.tiktok.com/@monstercaesarstudios/video/7461244948441058566\">tiktok.com</span>     <span class=\"ts visible\" data-ts=\"1737233110\" title=\"enviado: \">____</span>  publicado:  <span class=\"ts visible\" data-ts=\"1737259502\" title=\"publicado: \">____</span> </div> <div class=\"news-content\"> El escultor Andrew Martin denuncia en un vídeo cómo un empleado de Disney robó uno de sus trabajos con licencia Creative Commons y fue vendido por parte de la empresa del ratón como una caja de música conmemorativa de su aniversario en parques Disney. [Vídeo en inglés, se recomienda activar subtitulos]  </div> </div>,\n",
       " <div class=\"center-content\"> <h2> <a class=\"l:4019531 ga-event\" data-event-action=\"story\" data-event-label=\"source\" href=\"https://www.latimes.com/espanol/eeuu/articulo/2025-01-17/ministra-canadiense-advierte-a-estadounidenses-sobre-impuesto-arancelario-de-trump\"> Ministra canadiense advierte a estadounidenses sobre “impuesto arancelario de Trump” </a> </h2> <div class=\"news-submitted\"> <a class=\"tooltip u:54419\" href=\"/user/Gry\"><img alt=\"Gry\" class=\"lazy\" data-2x=\"s:-25.:-40.\" src=\"/cache/00/d4/54419-1554798657-25.jpg\"/></a>  por <a href=\"/user/Gry/history\">Gry</a>  a <span class=\"showmytitle\" title=\"https://www.latimes.com/espanol/eeuu/articulo/2025-01-17/ministra-canadiense-advierte-a-estadounidenses-sobre-impuesto-arancelario-de-trump\">latimes.com</span>     <span class=\"ts visible\" data-ts=\"1737181907\" title=\"enviado: \">____</span>  publicado:  <span class=\"ts visible\" data-ts=\"1737256803\" title=\"publicado: \">____</span> </div> <div class=\"news-content\"> La ministra Mélanie Joly dijo el viernes que Canadá está listo para tomar represalias y ejercer la máxima presión sobre Estados Unidos. “Si necesitamos tomar represalias, lo haremos. Y los estadounidenses descubrirán el impuesto arancelario de Trump”. “Productores de naranjas de Florida, fabricantes de lavavajillas de Michigan y productores de lácteos de Wisconsin: prepárense. Canadá es el mayor mercado de exportación de Estados Unidos, más grande que China, Japón, Reino Unido y Francia combinados\"  </div> </div>,\n",
       " <div class=\"center-content\"> <h2> <a class=\"l:4019631 ga-event\" data-event-action=\"story\" data-event-label=\"source\" href=\"https://www.lavozdeasturias.es/noticia/oviedo/2025/01/17/acosodurante-anos-antigua-profesora-colgando-redes-fotos-trucadas-caracter-sexual-debera-pagar-35000-euros/00031737119956934334532.htm\"> Acosó durante años a una antigua profesora colgando en redes fotos trucadas de carácter sexual: deberá pagar 35.000 euros </a> </h2> <div class=\"news-submitted\"> <a class=\"tooltip u:232598\" href=\"/user/Elnuberu\"><img alt=\"Elnuberu\" class=\"lazy\" data-2x=\"s:-25.:-40.\" src=\"/cache/03/8c/232598-1296125040-25.jpg\"/></a>  por <a href=\"/user/Elnuberu/history\">Elnuberu</a>  a <span class=\"showmytitle\" title=\"https://www.lavozdeasturias.es/noticia/oviedo/2025/01/17/acosodurante-anos-antigua-profesora-colgando-redes-fotos-trucadas-caracter-sexual-debera-pagar-35000-euros/00031737119956934334532.htm\">lavozdeasturias.es</span>     <span class=\"ts visible\" data-ts=\"1737206829\" title=\"enviado: \">____</span>  publicado:  <span class=\"ts visible\" data-ts=\"1737253802\" title=\"publicado: \">____</span> </div> <div class=\"news-content\"> Un vecino de Oviedo reconoció este viernes haber acosado durante años a una antigua profesora del colegio con falsos perfiles en redes sociales en los que colgaba fotografías trucadas de la maestra de carácter sexual. El reconocimiento de los hechos que le atribuían la Fiscalía del Principado de Asturias y la acusación particular fue ratificado en el Juzgado de lo Penal número 2 de Oviedo. El acusado, nacido en 1987, fue alumno de un colegio concertado de Oviedo. El 15 de abril de 2018 creó un perfil en una red social haciéndose pasar.  </div> </div>,\n",
       " <div class=\"center-content\"> <h2> <a class=\"l:4019718 ga-event\" data-event-action=\"story\" data-event-label=\"source\" href=\"https://www.lavozdegalicia.es/noticia/coruna/2025/01/18/uxia-garcia-freire/00031737196558676667673.htm\"> La odisea de Uxía, la maestra gallega con discapacidad visual que rechaza Canarias </a> </h2> <div class=\"news-submitted\"> <a class=\"tooltip u:75762\" href=\"/user/TomPetty\"><img alt=\"TomPetty\" class=\"lazy\" data-2x=\"s:-25.:-40.\" src=\"/cache/01/27/75762-1733668988-25.jpg\"/></a>  por <a href=\"/user/TomPetty/history\">TomPetty</a>  a <span class=\"showmytitle\" title=\"https://www.lavozdegalicia.es/noticia/coruna/2025/01/18/uxia-garcia-freire/00031737196558676667673.htm\">lavozdegalicia.es</span>     <span class=\"ts visible\" data-ts=\"1737233888\" title=\"enviado: \">____</span>  publicado:  <span class=\"ts visible\" data-ts=\"1737250203\" title=\"publicado: \">____</span> </div> <div class=\"news-content\"> La coruñesa, que aprobó las oposiciones el pasado verano, ha sido cesada por su grado de ceguera. «Me dijeron que se podía caer un niño por la ventana, cuando todas tienen barrotes en el colegio», asegura  </div> </div>,\n",
       " <div class=\"center-content\"> <h2> <a class=\"l:4019486 ga-event\" data-event-action=\"story\" data-event-label=\"source\" href=\"https://www.youtube.com/watch?feature=shared&amp;v=yWGjytbji-s\"> Two girls, One cockroach </a> <span class=\"wideonly\"> <i alt=\"vídeo\" class=\"fa fa-video-camera\" title=\"vídeo\"></i></span> </h2> <div class=\"news-submitted\"> <a class=\"tooltip u:815826\" href=\"/user/Leclercia_adecarboxylata\"><img alt=\"Leclercia_adecarboxylata\" class=\"lazy\" data-2x=\"s:-25.:-40.\" src=\"//cdn.mnmstatic.net/v_149/img/mnm/no-gravatar-2-25.png\"/></a>  por <a href=\"/user/Leclercia_adecarboxylata/history\">Leclercia_adecarboxylata</a>  a <span class=\"showmytitle\" title=\"https://www.youtube.com/watch?feature=shared&amp;v=yWGjytbji-s\">youtube.com</span>     <span class=\"ts visible\" data-ts=\"1737145959\" title=\"enviado: \">____</span>  publicado:  <span class=\"ts visible\" data-ts=\"1737247203\" title=\"publicado: \">____</span> </div> <div class=\"news-content\"> Dos mujeres soplan a través de extremos opuestos de un mismo tubo con una cucaracha dentro tratando de no tragársela en un programa de la televisión japonesa.  </div> </div>,\n",
       " <div class=\"center-content\"> <h2> <a class=\"l:4019717 ga-event\" data-event-action=\"story\" data-event-label=\"source\" href=\"https://www.elfielato.es/articulo/comarca-picos-de-europa/matan-exhiben-dos-lobos-ponga/20250118122138074628.html\"> Matan y exhiben dos lobos en Ponga </a> </h2> <div class=\"news-submitted\"> <a class=\"tooltip u:612653\" href=\"/user/Chabelitaenanita\"><img alt=\"Chabelitaenanita\" class=\"lazy\" data-2x=\"s:-25.:-40.\" src=\"//cdn.mnmstatic.net/v_149/img/mnm/no-gravatar-2-25.png\"/></a>  por <a href=\"/user/Chabelitaenanita/history\">Chabelitaenanita</a>  a <span class=\"showmytitle\" title=\"https://www.elfielato.es/articulo/comarca-picos-de-europa/matan-exhiben-dos-lobos-ponga/20250118122138074628.html\">elfielato.es</span>     <span class=\"ts visible\" data-ts=\"1737233685\" title=\"enviado: \">____</span>  publicado:  <span class=\"ts visible\" data-ts=\"1737244203\" title=\"publicado: \">____</span> </div> <div class=\"news-content\"> Los cuerpos de los animales aparecieron colgados en uno de los carteles informativos de la Ruta de Arcenoriu.  </div> </div>,\n",
       " <div class=\"center-content\"> <h2> <a class=\"l:4019716 ga-event\" data-event-action=\"story\" data-event-label=\"source\" href=\"https://www.noticiasdenavarra.com/pamplona/2025/01/18/manifestacion-rechaza-resignificacion-monumento-caidos-derribo-9171878.html\"> Multitudinaria manifestación en Pamplona para rechazar la resignificación de los Caídos y reclamar su derribo </a> </h2> <div class=\"news-submitted\"> <a class=\"tooltip u:75762\" href=\"/user/TomPetty\"><img alt=\"TomPetty\" class=\"lazy\" data-2x=\"s:-25.:-40.\" src=\"/cache/01/27/75762-1733668988-25.jpg\"/></a>  por <a href=\"/user/TomPetty/history\">TomPetty</a>  a <span class=\"showmytitle\" title=\"https://www.noticiasdenavarra.com/pamplona/2025/01/18/manifestacion-rechaza-resignificacion-monumento-caidos-derribo-9171878.html\">noticiasdenavarra.com</span>     <span class=\"ts visible\" data-ts=\"1737233447\" title=\"enviado: \">____</span>  publicado:  <span class=\"ts visible\" data-ts=\"1737243302\" title=\"publicado: \">____</span> </div> <div class=\"news-content\"> Los 33 colectivos convovantes piden a los partidos que \"recapaciten, que rectifiquen y que cambien el acuerdo\"  </div> </div>,\n",
       " <div class=\"center-content\"> <h2> <a class=\"l:4019669 ga-event\" data-event-action=\"story\" data-event-label=\"source\" href=\"https://laicismo.org/campana-unitaria-2025-por-una-escuela-publica-y-laica-religion-fuera-de-la-escuela/302022\"> Campaña unitaria 2025 «Por una escuela pública y laica. Religión fuera de la escuela» </a> <span class=\"wideonly\"> <i alt=\"imagen\" class=\"fa fa-camera\" title=\"imagen\"></i></span> </h2> <div class=\"news-submitted\"> <a class=\"tooltip u:38549\" href=\"/user/javierchiclana\"><img alt=\"javierchiclana\" class=\"lazy\" data-2x=\"s:-25.:-40.\" src=\"/cache/00/96/38549-1276349531-25.jpg\"/></a>  por <a href=\"/user/javierchiclana/history\">javierchiclana</a>  a <span class=\"showmytitle\" title=\"https://laicismo.org/campana-unitaria-2025-por-una-escuela-publica-y-laica-religion-fuera-de-la-escuela/302022\">laicismo.org</span>     <span class=\"ts visible\" data-ts=\"1737218124\" title=\"enviado: \">____</span>  publicado:  <span class=\"ts visible\" data-ts=\"1737242402\" title=\"publicado: \">____</span> </div> <div class=\"news-content\"> ...Las organizaciones sociales, políticas y sindicales que suscriben esta declaración hacen un llamamiento...lograr la plena implantación del principio de laicidad en el sistema educativo, a fin de preservar la libertad de conciencia del alumnado y la no segregación por motivos ideológicos o culturales en el ámbito escolar... (infografía para difusión)  </div> </div>,\n",
       " <div class=\"center-content\"> <h2> <a class=\"l:4019702 ga-event\" data-event-action=\"story\" data-event-label=\"source\" href=\"https://cadenaser.com/nacional/2025/01/18/el-negocio-de-la-gestacion-subrogada-en-espana-si-el-bebe-muere-antes-de-los-2-anos-reiniciamos-el-proceso-gratis-cadena-ser/\"> El negocio de la gestación subrogada en España: \"Si el bebé muere antes de cumplir 2 años, reiniciamos el proceso gratis\" </a> </h2> <div class=\"news-submitted\"> <a class=\"tooltip u:394275\" href=\"/user/mis_cojones_33\"><img alt=\"mis_cojones_33\" class=\"lazy\" data-2x=\"s:-25.:-40.\" src=\"/cache/06/04/394275-1690373012-25.jpg\"/></a>  por <a href=\"/user/mis_cojones_33/history\">mis_cojones_33</a>  a <span class=\"showmytitle\" title=\"https://cadenaser.com/nacional/2025/01/18/el-negocio-de-la-gestacion-subrogada-en-espana-si-el-bebe-muere-antes-de-los-2-anos-reiniciamos-el-proceso-gratis-cadena-ser/\">cadenaser.com</span>     <span class=\"ts visible\" data-ts=\"1737228017\" title=\"enviado: \">____</span>  publicado:  <span class=\"ts visible\" data-ts=\"1737240303\" title=\"publicado: \">____</span> </div> <div class=\"news-content\"> Fuentes del Ministerio de Igualdad confirman a la Cadena SER que están estudiando acciones legales contra las agencias de intermediarios que facilitan la gestación subrogada en España  </div> </div>,\n",
       " <div class=\"center-content\"> <h2> <a class=\"l:4019720 ga-event\" data-event-action=\"story\" data-event-label=\"source\" href=\"https://www.hindrajabfoundation.org/perpetrators/hind-rajab-foundation-files-war-crimes-complaint-against-israeli-soldier-in-barcelona\"> La Fundación Hind Rajab presenta una denuncia por crímenes de guerra contra un soldado israelí en Barcelona (EN) </a> <span class=\"wideonly\"> <i alt=\"imagen\" class=\"fa fa-camera\" title=\"imagen\"></i></span> </h2> <div class=\"news-submitted\"> <a class=\"tooltip u:796244\" href=\"/user/Tkachenko\"><img alt=\"Tkachenko\" class=\"lazy\" data-2x=\"s:-25.:-40.\" src=\"/cache/0c/26/796244-1715190482-25.jpg\"/></a>  por <a href=\"/user/Tkachenko/history\">Tkachenko</a>  a <span class=\"showmytitle\" title=\"https://www.hindrajabfoundation.org/perpetrators/hind-rajab-foundation-files-war-crimes-complaint-against-israeli-soldier-in-barcelona\">hindrajabfoundation.org</span>     <span class=\"ts visible\" data-ts=\"1737234328\" title=\"enviado: \">____</span>  publicado:  <span class=\"ts visible\" data-ts=\"1737238503\" title=\"publicado: \">____</span> </div> <div class=\"news-content\"> La denuncia, presentada de conformidad con el derecho español e internacional, acusa a Keisar de genocidio, crímenes contra la humanidad y crímenes de guerra durante la operación militar israelí en Gaza.  </div> </div>]"
      ]
     },
     "execution_count": 11,
     "metadata": {},
     "output_type": "execute_result"
    }
   ],
   "source": [
    "# Each post is inside a span tag, with 'center-content' class\n",
    "result = soup.find_all(class_='center-content')\n",
    "result"
   ]
  },
  {
   "cell_type": "code",
   "execution_count": 46,
   "id": "a4b82bcd",
   "metadata": {},
   "outputs": [
    {
     "name": "stdout",
     "output_type": "stream",
     "text": [
      "publico.es\n",
      "http://www.publico.es/politica/gobierno-ayuso-asigna-mas-300-000-euros-ayudas-conciliacion-legionarios-cristo.html\n",
      "elchapuzasinformatico.com\n",
      "https://elchapuzasinformatico.com/2025/01/google-ley-verificacion-datos-ue/\n",
      "cadenaser.com\n",
      "https://cadenaser.com/comunitat-valenciana/2025/01/18/la-policia-detiene-a-un-hombre-en-valencia-acusado-de-secuestrar-a-una-mujer-y-sus-dos-hijas-menores-durante-20-dias-radio-valencia/\n",
      "x.com\n",
      "https://x.com/JuanmiGG_News/status/1880641143182139538\n",
      "danielmarin.naukas.com\n",
      "https://danielmarin.naukas.com/2025/01/17/septimo-vuelo-de-la-starship-segunda-captura-de-un-super-heavy-y-destruccion-de-la-s33/\n",
      "x.com\n",
      "https://x.com/muzeriqui/status/1880678916291236321\n",
      "revistamercurio.es\n",
      "https://www.revistamercurio.es/2025/01/19/maldito-enero/\n",
      "lasoga.org\n",
      "https://lasoga.org/pobre-rico-anarquista-lleno-rafael-barrett///\n",
      "eldiario.es\n",
      "https://www.eldiario.es/politica/grupo-leon-conexion-quiron-pareja-ayuso-atico-chamberi_1_11973438.html\n",
      "migijon.com\n",
      "https://migijon.com/rodrigo-cuevas-abandera-la-cruzada-por-igualdad-en-la-noche-en-24-horas-nos-metereis-antes-en-nichos-que-en-armarios/?fbclid=IwZXh0bgNhZW0CMTEAAR1xFeJFT8nX52ZX5p8E6bhFpVtbu42EBdUbUdQ6t4xKj_xVjkGSVXm20es_aem_dybG9neTUEo1yPNhSJtZcg\n",
      "epe.es\n",
      "https://www.epe.es/es/cultura/20250118/libreria-terror-lleva-20-anos-113417278\n",
      "somoslibres.org\n",
      "https://somoslibres.org/index.php/44-nieuws/tecnologia/13501-las-redes-sociales-de-codigo-abierto-compiten-contra-instagram-y-tiktok\n",
      "youtube.com\n",
      "https://www.youtube.com/watch?si=_gYziYwJKXpEgymn&v=xZRJvMP8Jjk\n",
      "eldiario.es\n",
      "https://www.eldiario.es/cultura/espana-mueve-ficha-geoda-gigante-pulpi-grabados-rupestres-palma-sean-patrimonio-mundial_1_11973269.html\n",
      "ohshitgit.com\n",
      "https://ohshitgit.com/\n",
      "tiktok.com\n",
      "https://www.tiktok.com/@monstercaesarstudios/video/7461244948441058566\n",
      "latimes.com\n",
      "https://www.latimes.com/espanol/eeuu/articulo/2025-01-17/ministra-canadiense-advierte-a-estadounidenses-sobre-impuesto-arancelario-de-trump\n",
      "lavozdeasturias.es\n",
      "https://www.lavozdeasturias.es/noticia/oviedo/2025/01/17/acosodurante-anos-antigua-profesora-colgando-redes-fotos-trucadas-caracter-sexual-debera-pagar-35000-euros/00031737119956934334532.htm\n",
      "lavozdegalicia.es\n",
      "https://www.lavozdegalicia.es/noticia/coruna/2025/01/18/uxia-garcia-freire/00031737196558676667673.htm\n",
      "youtube.com\n",
      "https://www.youtube.com/watch?feature=shared&v=yWGjytbji-s\n",
      "elfielato.es\n",
      "https://www.elfielato.es/articulo/comarca-picos-de-europa/matan-exhiben-dos-lobos-ponga/20250118122138074628.html\n",
      "noticiasdenavarra.com\n",
      "https://www.noticiasdenavarra.com/pamplona/2025/01/18/manifestacion-rechaza-resignificacion-monumento-caidos-derribo-9171878.html\n",
      "laicismo.org\n",
      "https://laicismo.org/campana-unitaria-2025-por-una-escuela-publica-y-laica-religion-fuera-de-la-escuela/302022\n",
      "cadenaser.com\n",
      "https://cadenaser.com/nacional/2025/01/18/el-negocio-de-la-gestacion-subrogada-en-espana-si-el-bebe-muere-antes-de-los-2-anos-reiniciamos-el-proceso-gratis-cadena-ser/\n",
      "hindrajabfoundation.org\n",
      "https://www.hindrajabfoundation.org/perpetrators/hind-rajab-foundation-files-war-crimes-complaint-against-israeli-soldier-in-barcelona\n"
     ]
    }
   ],
   "source": [
    "novas = []\n",
    "for nova in result:\n",
    "#    print(nova.find('span',{'class': 'showmytitle'}).text)\n",
    "#    print(nova.find('span',{'class': 'showmytitle'}).get(title))\n",
    "#    print(f'nova é de tipo {type(nova)}')\n",
    " #   print(f'o contido de nova é {nova}')\n",
    " #   print(f'nova showmytitle é de tipo {type(nova.find('span',{'class': 'showmytitle'}))}')\n",
    " #   print(f'o contido de nova showmytitle é {nova.find('span',{'class': 'showmytitle'})}')\n",
    "#    print(f'podo imprimir otexto de  nova showmytitle é {nova.find('span',{'class': 'showmytitle'}).text}')\n",
    "#    print(f'podo imprimir os atributos de  nova showmytitle, son:  {nova.find('span',{'class': 'showmytitle'}).get('title')}')\n",
    "    print(nova.find('span',{'class': 'showmytitle'}).text)\n",
    "    #print(cousa.title)\n",
    "    #print(type(cousa))\n",
    "    #print(cousa.text)\n",
    "    print(nova.find('span',{'class': 'showmytitle'}).get('title'))\n",
    "    #print(nova.find('span',{'class': 'showmytitle'}).atrrs['title'])\n",
    "\n",
    "    #if ( nova.find('span',{'class': 'showmytitle'}) == None):\n",
    "    #    nova.append('')\n",
    "    #else:\n",
    "    #    novas.append([nova.find('h2').text,nova.find('span',{'class': 'showmytitle'}).text.strip()])"
   ]
  },
  {
   "cell_type": "code",
   "execution_count": 47,
   "id": "c7a6c678",
   "metadata": {},
   "outputs": [],
   "source": [
    "novas = []\n",
    "for nova in result:\n",
    "    novas.append([nova.find('span',{'class': 'showmytitle'}).text,nova.find('span',{'class': 'showmytitle'}).get('title')])\n"
   ]
  },
  {
   "cell_type": "code",
   "execution_count": 49,
   "id": "b0c1b598",
   "metadata": {},
   "outputs": [
    {
     "data": {
      "text/html": [
       "<div>\n",
       "<style scoped>\n",
       "    .dataframe tbody tr th:only-of-type {\n",
       "        vertical-align: middle;\n",
       "    }\n",
       "\n",
       "    .dataframe tbody tr th {\n",
       "        vertical-align: top;\n",
       "    }\n",
       "\n",
       "    .dataframe thead th {\n",
       "        text-align: right;\n",
       "    }\n",
       "</style>\n",
       "<table border=\"1\" class=\"dataframe\">\n",
       "  <thead>\n",
       "    <tr style=\"text-align: right;\">\n",
       "      <th></th>\n",
       "      <th>medium</th>\n",
       "      <th>url</th>\n",
       "    </tr>\n",
       "  </thead>\n",
       "  <tbody>\n",
       "    <tr>\n",
       "      <th>0</th>\n",
       "      <td>publico.es</td>\n",
       "      <td>http://www.publico.es/politica/gobierno-ayuso-...</td>\n",
       "    </tr>\n",
       "    <tr>\n",
       "      <th>1</th>\n",
       "      <td>elchapuzasinformatico.com</td>\n",
       "      <td>https://elchapuzasinformatico.com/2025/01/goog...</td>\n",
       "    </tr>\n",
       "    <tr>\n",
       "      <th>2</th>\n",
       "      <td>cadenaser.com</td>\n",
       "      <td>https://cadenaser.com/comunitat-valenciana/202...</td>\n",
       "    </tr>\n",
       "    <tr>\n",
       "      <th>3</th>\n",
       "      <td>x.com</td>\n",
       "      <td>https://x.com/JuanmiGG_News/status/18806411431...</td>\n",
       "    </tr>\n",
       "    <tr>\n",
       "      <th>4</th>\n",
       "      <td>danielmarin.naukas.com</td>\n",
       "      <td>https://danielmarin.naukas.com/2025/01/17/sept...</td>\n",
       "    </tr>\n",
       "    <tr>\n",
       "      <th>5</th>\n",
       "      <td>x.com</td>\n",
       "      <td>https://x.com/muzeriqui/status/188067891629123...</td>\n",
       "    </tr>\n",
       "    <tr>\n",
       "      <th>6</th>\n",
       "      <td>revistamercurio.es</td>\n",
       "      <td>https://www.revistamercurio.es/2025/01/19/mald...</td>\n",
       "    </tr>\n",
       "    <tr>\n",
       "      <th>7</th>\n",
       "      <td>lasoga.org</td>\n",
       "      <td>https://lasoga.org/pobre-rico-anarquista-lleno...</td>\n",
       "    </tr>\n",
       "    <tr>\n",
       "      <th>8</th>\n",
       "      <td>eldiario.es</td>\n",
       "      <td>https://www.eldiario.es/politica/grupo-leon-co...</td>\n",
       "    </tr>\n",
       "    <tr>\n",
       "      <th>9</th>\n",
       "      <td>migijon.com</td>\n",
       "      <td>https://migijon.com/rodrigo-cuevas-abandera-la...</td>\n",
       "    </tr>\n",
       "    <tr>\n",
       "      <th>10</th>\n",
       "      <td>epe.es</td>\n",
       "      <td>https://www.epe.es/es/cultura/20250118/libreri...</td>\n",
       "    </tr>\n",
       "    <tr>\n",
       "      <th>11</th>\n",
       "      <td>somoslibres.org</td>\n",
       "      <td>https://somoslibres.org/index.php/44-nieuws/te...</td>\n",
       "    </tr>\n",
       "    <tr>\n",
       "      <th>12</th>\n",
       "      <td>youtube.com</td>\n",
       "      <td>https://www.youtube.com/watch?si=_gYziYwJKXpEg...</td>\n",
       "    </tr>\n",
       "    <tr>\n",
       "      <th>13</th>\n",
       "      <td>eldiario.es</td>\n",
       "      <td>https://www.eldiario.es/cultura/espana-mueve-f...</td>\n",
       "    </tr>\n",
       "    <tr>\n",
       "      <th>14</th>\n",
       "      <td>ohshitgit.com</td>\n",
       "      <td>https://ohshitgit.com/</td>\n",
       "    </tr>\n",
       "    <tr>\n",
       "      <th>15</th>\n",
       "      <td>tiktok.com</td>\n",
       "      <td>https://www.tiktok.com/@monstercaesarstudios/v...</td>\n",
       "    </tr>\n",
       "    <tr>\n",
       "      <th>16</th>\n",
       "      <td>latimes.com</td>\n",
       "      <td>https://www.latimes.com/espanol/eeuu/articulo/...</td>\n",
       "    </tr>\n",
       "    <tr>\n",
       "      <th>17</th>\n",
       "      <td>lavozdeasturias.es</td>\n",
       "      <td>https://www.lavozdeasturias.es/noticia/oviedo/...</td>\n",
       "    </tr>\n",
       "    <tr>\n",
       "      <th>18</th>\n",
       "      <td>lavozdegalicia.es</td>\n",
       "      <td>https://www.lavozdegalicia.es/noticia/coruna/2...</td>\n",
       "    </tr>\n",
       "    <tr>\n",
       "      <th>19</th>\n",
       "      <td>youtube.com</td>\n",
       "      <td>https://www.youtube.com/watch?feature=shared&amp;v...</td>\n",
       "    </tr>\n",
       "    <tr>\n",
       "      <th>20</th>\n",
       "      <td>elfielato.es</td>\n",
       "      <td>https://www.elfielato.es/articulo/comarca-pico...</td>\n",
       "    </tr>\n",
       "    <tr>\n",
       "      <th>21</th>\n",
       "      <td>noticiasdenavarra.com</td>\n",
       "      <td>https://www.noticiasdenavarra.com/pamplona/202...</td>\n",
       "    </tr>\n",
       "    <tr>\n",
       "      <th>22</th>\n",
       "      <td>laicismo.org</td>\n",
       "      <td>https://laicismo.org/campana-unitaria-2025-por...</td>\n",
       "    </tr>\n",
       "    <tr>\n",
       "      <th>23</th>\n",
       "      <td>cadenaser.com</td>\n",
       "      <td>https://cadenaser.com/nacional/2025/01/18/el-n...</td>\n",
       "    </tr>\n",
       "    <tr>\n",
       "      <th>24</th>\n",
       "      <td>hindrajabfoundation.org</td>\n",
       "      <td>https://www.hindrajabfoundation.org/perpetrato...</td>\n",
       "    </tr>\n",
       "  </tbody>\n",
       "</table>\n",
       "</div>"
      ],
      "text/plain": [
       "                       medium  \\\n",
       "0                  publico.es   \n",
       "1   elchapuzasinformatico.com   \n",
       "2               cadenaser.com   \n",
       "3                       x.com   \n",
       "4      danielmarin.naukas.com   \n",
       "5                       x.com   \n",
       "6          revistamercurio.es   \n",
       "7                  lasoga.org   \n",
       "8                 eldiario.es   \n",
       "9                 migijon.com   \n",
       "10                     epe.es   \n",
       "11            somoslibres.org   \n",
       "12                youtube.com   \n",
       "13                eldiario.es   \n",
       "14              ohshitgit.com   \n",
       "15                 tiktok.com   \n",
       "16                latimes.com   \n",
       "17         lavozdeasturias.es   \n",
       "18          lavozdegalicia.es   \n",
       "19                youtube.com   \n",
       "20               elfielato.es   \n",
       "21      noticiasdenavarra.com   \n",
       "22               laicismo.org   \n",
       "23              cadenaser.com   \n",
       "24    hindrajabfoundation.org   \n",
       "\n",
       "                                                  url  \n",
       "0   http://www.publico.es/politica/gobierno-ayuso-...  \n",
       "1   https://elchapuzasinformatico.com/2025/01/goog...  \n",
       "2   https://cadenaser.com/comunitat-valenciana/202...  \n",
       "3   https://x.com/JuanmiGG_News/status/18806411431...  \n",
       "4   https://danielmarin.naukas.com/2025/01/17/sept...  \n",
       "5   https://x.com/muzeriqui/status/188067891629123...  \n",
       "6   https://www.revistamercurio.es/2025/01/19/mald...  \n",
       "7   https://lasoga.org/pobre-rico-anarquista-lleno...  \n",
       "8   https://www.eldiario.es/politica/grupo-leon-co...  \n",
       "9   https://migijon.com/rodrigo-cuevas-abandera-la...  \n",
       "10  https://www.epe.es/es/cultura/20250118/libreri...  \n",
       "11  https://somoslibres.org/index.php/44-nieuws/te...  \n",
       "12  https://www.youtube.com/watch?si=_gYziYwJKXpEg...  \n",
       "13  https://www.eldiario.es/cultura/espana-mueve-f...  \n",
       "14                             https://ohshitgit.com/  \n",
       "15  https://www.tiktok.com/@monstercaesarstudios/v...  \n",
       "16  https://www.latimes.com/espanol/eeuu/articulo/...  \n",
       "17  https://www.lavozdeasturias.es/noticia/oviedo/...  \n",
       "18  https://www.lavozdegalicia.es/noticia/coruna/2...  \n",
       "19  https://www.youtube.com/watch?feature=shared&v...  \n",
       "20  https://www.elfielato.es/articulo/comarca-pico...  \n",
       "21  https://www.noticiasdenavarra.com/pamplona/202...  \n",
       "22  https://laicismo.org/campana-unitaria-2025-por...  \n",
       "23  https://cadenaser.com/nacional/2025/01/18/el-n...  \n",
       "24  https://www.hindrajabfoundation.org/perpetrato...  "
      ]
     },
     "execution_count": 49,
     "metadata": {},
     "output_type": "execute_result"
    }
   ],
   "source": [
    "df_novas = pd.DataFrame(novas,columns = ['medium','url'])\n",
    "df_novas"
   ]
  },
  {
   "cell_type": "code",
   "execution_count": null,
   "id": "1cc7ae41",
   "metadata": {},
   "outputs": [],
   "source": [
    "# 2.3 Add a column to the dataframe with your name and insert all data into the mysql database provided by the teacher"
   ]
  },
  {
   "cell_type": "code",
   "execution_count": 50,
   "id": "03e59921",
   "metadata": {},
   "outputs": [
    {
     "data": {
      "text/html": [
       "<div>\n",
       "<style scoped>\n",
       "    .dataframe tbody tr th:only-of-type {\n",
       "        vertical-align: middle;\n",
       "    }\n",
       "\n",
       "    .dataframe tbody tr th {\n",
       "        vertical-align: top;\n",
       "    }\n",
       "\n",
       "    .dataframe thead th {\n",
       "        text-align: right;\n",
       "    }\n",
       "</style>\n",
       "<table border=\"1\" class=\"dataframe\">\n",
       "  <thead>\n",
       "    <tr style=\"text-align: right;\">\n",
       "      <th></th>\n",
       "      <th>medium</th>\n",
       "      <th>url</th>\n",
       "      <th>your_name</th>\n",
       "    </tr>\n",
       "  </thead>\n",
       "  <tbody>\n",
       "    <tr>\n",
       "      <th>0</th>\n",
       "      <td>publico.es</td>\n",
       "      <td>http://www.publico.es/politica/gobierno-ayuso-...</td>\n",
       "      <td>dani</td>\n",
       "    </tr>\n",
       "    <tr>\n",
       "      <th>1</th>\n",
       "      <td>elchapuzasinformatico.com</td>\n",
       "      <td>https://elchapuzasinformatico.com/2025/01/goog...</td>\n",
       "      <td>dani</td>\n",
       "    </tr>\n",
       "    <tr>\n",
       "      <th>2</th>\n",
       "      <td>cadenaser.com</td>\n",
       "      <td>https://cadenaser.com/comunitat-valenciana/202...</td>\n",
       "      <td>dani</td>\n",
       "    </tr>\n",
       "    <tr>\n",
       "      <th>3</th>\n",
       "      <td>x.com</td>\n",
       "      <td>https://x.com/JuanmiGG_News/status/18806411431...</td>\n",
       "      <td>dani</td>\n",
       "    </tr>\n",
       "    <tr>\n",
       "      <th>4</th>\n",
       "      <td>danielmarin.naukas.com</td>\n",
       "      <td>https://danielmarin.naukas.com/2025/01/17/sept...</td>\n",
       "      <td>dani</td>\n",
       "    </tr>\n",
       "  </tbody>\n",
       "</table>\n",
       "</div>"
      ],
      "text/plain": [
       "                      medium  \\\n",
       "0                 publico.es   \n",
       "1  elchapuzasinformatico.com   \n",
       "2              cadenaser.com   \n",
       "3                      x.com   \n",
       "4     danielmarin.naukas.com   \n",
       "\n",
       "                                                 url your_name  \n",
       "0  http://www.publico.es/politica/gobierno-ayuso-...      dani  \n",
       "1  https://elchapuzasinformatico.com/2025/01/goog...      dani  \n",
       "2  https://cadenaser.com/comunitat-valenciana/202...      dani  \n",
       "3  https://x.com/JuanmiGG_News/status/18806411431...      dani  \n",
       "4  https://danielmarin.naukas.com/2025/01/17/sept...      dani  "
      ]
     },
     "execution_count": 50,
     "metadata": {},
     "output_type": "execute_result"
    }
   ],
   "source": [
    "df_novas['your_name'] = 'dani'\n",
    "df_novas.head()"
   ]
  },
  {
   "cell_type": "code",
   "execution_count": null,
   "id": "7d7755bf",
   "metadata": {},
   "outputs": [],
   "source": [
    "#!pip install mysql-connector-python pandas"
   ]
  },
  {
   "cell_type": "code",
   "execution_count": 50,
   "id": "43fcd7f1",
   "metadata": {},
   "outputs": [],
   "source": [
    "import mysql.connector\n",
    "\n",
    "# Define database credentials\n",
    "config = {\n",
    "    'host': 'x.y.z.w',\n",
    "    'user': '<user>',\n",
    "    'password': '<pass>',\n",
    "    'database': 'exercicio',\n",
    "    'charset': 'utf8mb4',\n",
    "    'collation': 'utf8mb4_general_ci'\n",
    "}\n",
    "\n",
    "table_name = 'meneame'"
   ]
  },
  {
   "cell_type": "code",
   "execution_count": null,
   "id": "36f2112f",
   "metadata": {},
   "outputs": [],
   "source": [
    "# Connect to the MySQL database\n",
    "conn = mysql.connector.connect(**config)\n",
    "cursor = conn.cursor()\n",
    "\n",
    "# Define the insert query\n",
    "insert_query = \"\"\"\n",
    "INSERT INTO meneame (news_name, url, your_name)\n",
    "VALUES (%s, %s, %s)\n",
    "\"\"\"\n",
    "\n",
    "# Iterate over the DataFrame rows and insert each row into the table\n",
    "for index, row in df_novas.iterrows():\n",
    "    cursor.execute(insert_query, (row['medium'], row['url'], row['your_name']))\n",
    "\n",
    "# Commit the transaction\n",
    "conn.commit()\n",
    "\n",
    "# Close the connection\n",
    "cursor.close()\n",
    "conn.close()\n",
    "\n",
    "print(\"Data inserted successfully!\")"
   ]
  },
  {
   "cell_type": "code",
   "execution_count": null,
   "id": "b7c9a187-4c2c-4134-b973-f0ba23f9a053",
   "metadata": {},
   "outputs": [],
   "source": [
    "# 3.1 Print the title and year of the IMDB Top 250 films\n",
    "# https://www.imdb.com/chart/top/"
   ]
  },
  {
   "cell_type": "code",
   "execution_count": null,
   "id": "3f6f34fb",
   "metadata": {},
   "outputs": [],
   "source": [
    "# Option 1: scraping only the 25 first films, before scrolling down"
   ]
  },
  {
   "cell_type": "code",
   "execution_count": 53,
   "id": "dc6c35b8-ccc1-468c-8b0b-1ca11997ae3a",
   "metadata": {},
   "outputs": [],
   "source": [
    "headers = { 'User-Agent' : 'Mozilla/5.0 (X11;Ubuntu;Linux x86_64;rv:94.0) Gecko/20100101 Firefox/94.0' }\n",
    "url = 'https://www.imdb.com/chart/top/'\n",
    "response = requests.get(url, headers = headers)\n",
    "soup = BeautifulSoup(response.content,'html.parser')\n"
   ]
  },
  {
   "cell_type": "code",
   "execution_count": null,
   "id": "13617e58",
   "metadata": {},
   "outputs": [],
   "source": [
    "result = soup.find_all('li',class_='ipc-metadata-list-summary-item')\n",
    "len(result)"
   ]
  },
  {
   "cell_type": "code",
   "execution_count": null,
   "id": "c5ae17ab",
   "metadata": {},
   "outputs": [],
   "source": [
    "for film in result:\n",
    "    title = film.h3.text.split(' ',1)[1]\n",
    "    year = film.find('span',class_='cli-title-metadata-item').text\n",
    "    print(f'{title} ({year})')"
   ]
  },
  {
   "cell_type": "code",
   "execution_count": null,
   "id": "b4dc6174",
   "metadata": {},
   "outputs": [],
   "source": [
    "# Option 2: using Selenium to simulate scroll down and then BeautifulSoup"
   ]
  },
  {
   "cell_type": "code",
   "execution_count": null,
   "id": "182f4d66",
   "metadata": {},
   "outputs": [],
   "source": [
    "#!pip install selenium"
   ]
  },
  {
   "cell_type": "code",
   "execution_count": null,
   "id": "66d6d607",
   "metadata": {},
   "outputs": [],
   "source": [
    "from selenium import webdriver\n",
    "from selenium.webdriver.common.by import By\n",
    "from selenium.webdriver.chrome.options import Options\n",
    "import time"
   ]
  },
  {
   "cell_type": "code",
   "execution_count": null,
   "id": "0321d820",
   "metadata": {},
   "outputs": [],
   "source": [
    "base_url = 'https://www.imdb.com/'\n",
    "url = 'https://www.imdb.com/chart/top/'"
   ]
  },
  {
   "cell_type": "code",
   "execution_count": null,
   "id": "415a911b",
   "metadata": {},
   "outputs": [],
   "source": [
    "options = Options()\n",
    "options.add_argument(\"--headless\")\n",
    "options.add_argument(\"--disable-gpu\")\n",
    "options.add_argument(\"--no-sandbox\")\n",
    "options.add_argument(\"user-agent=Mozilla/5.0 (Windows NT 10.0; Win64; x64) AppleWebKit/537.36 (KHTML, like Gecko) Chrome/113.0.0.0 Safari/537.36\")\n",
    "\n",
    "\n",
    "driver = webdriver.Chrome(options=options)\n",
    "driver.get(url)\n",
    "\n",
    "last_height = driver.execute_script(\"return document.body.scrollHeight\")\n",
    "while True:\n",
    "    driver.execute_script(\"window.scrollTo(0, document.body.scrollHeight);\")\n",
    "    time.sleep(0.5)\n",
    "    new_height = driver.execute_script(\"return document.body.scrollHeight\")\n",
    "    if new_height == last_height:\n",
    "        break\n",
    "    last_height = new_height\n",
    "\n",
    "\n",
    "print('Web downloaded. Parsing...')\n",
    "soup = BeautifulSoup(driver.page_source, 'html.parser')\n",
    "print('Parsing completed.')\n",
    "\n",
    "driver.close()\n",
    "print('Driver closed')"
   ]
  },
  {
   "cell_type": "code",
   "execution_count": null,
   "id": "81239c48",
   "metadata": {},
   "outputs": [],
   "source": [
    "result = soup.find_all('li',class_='ipc-metadata-list-summary-item')\n",
    "len(result)"
   ]
  },
  {
   "cell_type": "code",
   "execution_count": null,
   "id": "63ea5d7f",
   "metadata": {},
   "outputs": [],
   "source": [
    "for film in result:\n",
    "    title = film.h3.text.split(' ',1)[1]\n",
    "    year = film.find('span',class_='cli-title-metadata-item').text\n",
    "    print(f'{title} ({year})')"
   ]
  },
  {
   "cell_type": "code",
   "execution_count": null,
   "id": "2babf427",
   "metadata": {},
   "outputs": [],
   "source": [
    "# 3.2 Create a dataframe with collected data"
   ]
  },
  {
   "cell_type": "code",
   "execution_count": null,
   "id": "36d91f1c",
   "metadata": {},
   "outputs": [],
   "source": [
    "film_list = []\n",
    "for film in result:\n",
    "    title = film.h3.text.split(' ',1)[1]\n",
    "    year = film.find('span',class_='cli-title-metadata-item').text\n",
    "    film_list.append([title,year])\n",
    "df_films = pd.DataFrame(film_list,columns=['title','year'])"
   ]
  },
  {
   "cell_type": "code",
   "execution_count": null,
   "id": "80078e9a",
   "metadata": {},
   "outputs": [],
   "source": [
    "df_films.head()"
   ]
  },
  {
   "cell_type": "code",
   "execution_count": 74,
   "id": "3648a17f",
   "metadata": {},
   "outputs": [],
   "source": [
    "# 3.3 Add a column with your name to the dataset and insert the data from the dataset into a mongo database provided by the teacher"
   ]
  },
  {
   "cell_type": "code",
   "execution_count": null,
   "id": "58bdfbe2",
   "metadata": {},
   "outputs": [],
   "source": [
    "df_films['name'] = 'dani'\n",
    "df_films"
   ]
  },
  {
   "cell_type": "code",
   "execution_count": null,
   "id": "b64dbf07",
   "metadata": {},
   "outputs": [],
   "source": [
    "#!pip install pymongo"
   ]
  },
  {
   "cell_type": "code",
   "execution_count": 121,
   "id": "95baa360",
   "metadata": {},
   "outputs": [],
   "source": [
    "from pymongo import MongoClient"
   ]
  },
  {
   "cell_type": "code",
   "execution_count": 122,
   "id": "0bbc045e",
   "metadata": {},
   "outputs": [],
   "source": [
    "mongo_uri = \"mongodb://<user>:<pass>@x.y.z.w:27017\"\n",
    "mongo_db_name = \"exercicio\"\n",
    "mongo_db_collection_name = \"imdb\""
   ]
  },
  {
   "cell_type": "code",
   "execution_count": 123,
   "id": "0f1a9fd7",
   "metadata": {},
   "outputs": [],
   "source": [
    "# Set up MongoDB connection\n",
    "client = MongoClient(mongo_uri)\n",
    "db = client[mongo_db_name]\n",
    "collection = db[mongo_db_collection_name]"
   ]
  },
  {
   "cell_type": "code",
   "execution_count": null,
   "id": "1e9d6fbb",
   "metadata": {},
   "outputs": [],
   "source": [
    "# Convert DataFrame to a list of dictionaries\n",
    "data_dict = df_films.to_dict(\"records\")  \n",
    "data_dict"
   ]
  },
  {
   "cell_type": "code",
   "execution_count": null,
   "id": "1d8fe591",
   "metadata": {},
   "outputs": [],
   "source": [
    "# Insert DataFrame into MongoDB\n",
    "collection.insert_many(data_dict) \n",
    "\n",
    "print(\"Data inserted successfully!\")"
   ]
  },
  {
   "cell_type": "code",
   "execution_count": null,
   "id": "6b53411b",
   "metadata": {},
   "outputs": [],
   "source": []
  },
  {
   "cell_type": "code",
   "execution_count": 96,
   "id": "1c66c1f2",
   "metadata": {},
   "outputs": [],
   "source": []
  },
  {
   "cell_type": "code",
   "execution_count": 94,
   "id": "5f2ed4ab",
   "metadata": {},
   "outputs": [],
   "source": []
  },
  {
   "cell_type": "code",
   "execution_count": null,
   "id": "9f009ea0",
   "metadata": {},
   "outputs": [],
   "source": []
  },
  {
   "cell_type": "code",
   "execution_count": null,
   "id": "379eb9f7",
   "metadata": {},
   "outputs": [],
   "source": []
  },
  {
   "cell_type": "code",
   "execution_count": null,
   "id": "0164fcdd",
   "metadata": {},
   "outputs": [],
   "source": []
  },
  {
   "cell_type": "code",
   "execution_count": 118,
   "id": "fd774609",
   "metadata": {},
   "outputs": [],
   "source": []
  },
  {
   "cell_type": "code",
   "execution_count": null,
   "id": "ad284fc5",
   "metadata": {},
   "outputs": [],
   "source": []
  },
  {
   "cell_type": "code",
   "execution_count": null,
   "id": "a9c457c6",
   "metadata": {},
   "outputs": [],
   "source": []
  }
 ],
 "metadata": {
  "kernelspec": {
   "display_name": "sistemas24",
   "language": "python",
   "name": "python3"
  },
  "language_info": {
   "codemirror_mode": {
    "name": "ipython",
    "version": 3
   },
   "file_extension": ".py",
   "mimetype": "text/x-python",
   "name": "python",
   "nbconvert_exporter": "python",
   "pygments_lexer": "ipython3",
   "version": "3.13.0"
  }
 },
 "nbformat": 4,
 "nbformat_minor": 5
}

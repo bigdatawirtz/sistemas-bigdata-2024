{
 "cells": [
  {
   "cell_type": "markdown",
   "metadata": {},
   "source": [
    "# APIs. Exercise 1. SOLUTION"
   ]
  },
  {
   "cell_type": "code",
   "execution_count": 1,
   "id": "5b298500-6912-4bfb-a72f-602d5379fba6",
   "metadata": {},
   "outputs": [],
   "source": [
    "# Import the library to work with APIs\n",
    "import requests"
   ]
  },
  {
   "cell_type": "markdown",
   "metadata": {},
   "source": [
    "### Sample APIs\n",
    "\n",
    "https://sampleapis.com/\n",
    "\n",
    "A simple, no fuss, no mess, no auth playground for learning RESTful or GraphQL APIs."
   ]
  },
  {
   "cell_type": "code",
   "execution_count": 2,
   "id": "71e58e58-2738-4659-994d-d6bec6c3f227",
   "metadata": {},
   "outputs": [],
   "source": [
    "# Configure the endpoint\n",
    "# Page with sample APIs: https://sampleapis.com/\n",
    "# Use the endpoint url for hot coffees\n",
    "endpoint = 'https://api.sampleapis.com/coffee/hot'"
   ]
  },
  {
   "cell_type": "code",
   "execution_count": 3,
   "id": "6c50dc1d-2766-49e1-86bb-f07a968a1656",
   "metadata": {},
   "outputs": [
    {
     "data": {
      "text/plain": [
       "<Response [200]>"
      ]
     },
     "execution_count": 3,
     "metadata": {},
     "output_type": "execute_result"
    }
   ],
   "source": [
    "# Make a first request to the endpoint\n",
    "requests.get(endpoint)"
   ]
  },
  {
   "cell_type": "code",
   "execution_count": 4,
   "id": "2c355b0c-1171-4dce-b106-7a24e4310a98",
   "metadata": {},
   "outputs": [
    {
     "data": {
      "text/plain": [
       "200"
      ]
     },
     "execution_count": 4,
     "metadata": {},
     "output_type": "execute_result"
    }
   ],
   "source": [
    "# Check the status of the response\n",
    "response = requests.get(endpoint)\n",
    "response.status_code"
   ]
  },
  {
   "cell_type": "code",
   "execution_count": 5,
   "id": "713707fb-2e4f-4653-9f99-76a4867e8f7b",
   "metadata": {},
   "outputs": [
    {
     "data": {
      "text/plain": [
       "404"
      ]
     },
     "execution_count": 5,
     "metadata": {},
     "output_type": "execute_result"
    }
   ],
   "source": [
    "# Modify the endpoint and consult the status of the response after a request (force some failure)\n",
    "endpoint = 'https://api.sampleapis.com/coffees/hot' # extra character s added\n",
    "response = requests.get(endpoint)\n",
    "response.status_code"
   ]
  },
  {
   "cell_type": "code",
   "execution_count": 6,
   "id": "d1b27c5b",
   "metadata": {},
   "outputs": [],
   "source": [
    "# What is the meaning of that status code? \n",
    "# https://http.dog\n",
    "# 404 Not found"
   ]
  },
  {
   "cell_type": "code",
   "execution_count": 7,
   "id": "8636f3ee-cab8-496d-ab4b-c166fca6867a",
   "metadata": {},
   "outputs": [
    {
     "data": {
      "text/plain": [
       "b'[{\"title\":\"Black Coffee\",\"description\":\"Svart kaffe \\xc3\\xa4r s\\xc3\\xa5 enkelt som det kan bli med malda kaffeb\\xc3\\xb6nor dr\\xc3\\xa4nkta i hett vatten, serverat varmt. Och om du vill l\\xc3\\xa5ta fancy kan du kalla svart kaffe med sitt r\\xc3\\xa4tta namn: caf\\xc3\\xa9 noir.\",\"ingredients\":[\"Coffee\"],\"image\":\"https://images.unsplash.com/photo-1494314671902-399b18174975?auto=format&fit=crop&q=80&w=1887&ixlib=rb-4.0.3&ixid=M3wxMjA3fDB8MHxwaG90by1wYWdlfHx8fGVufDB8fHx8fA%3D%3D\",\"id\":1},{\"title\":\"Latte\",\"description\":\"Som den mest popul\\xc3\\xa4ra kaffedrycken d\\xc3\\xa4r ute best\\xc3\\xa5r latte av en skv\\xc3\\xa4tt espresso och \\xc3\\xa5ngad mj\\xc3\\xb6lk med bara en gnutta skum. Den kan best\\xc3\\xa4llas utan smak eller med smak av allt fr\\xc3\\xa5n vanilj till pumpa kryddor.\",\"ingredients\":[\"Espresso\",\"\\xc3\\x85ngad mj\\xc3\\xb6lk\"],\"image\":\"https://images.unsplash.com/photo-1561882468-9110e03e0f78?auto=format&fit=crop&q=60&w=800&ixlib=rb-4.0.3&ixid=M3wxMjA3fDB8MHxzZWFyY2h8MTl8fGxhdHRlfGVufDB8fDB8fHww\",\"id\":2},{\"title\":\"Caramel Latte\",\"description\":\"Om du gillar latte med en speciell smak kan karamell latte vara det b\\xc3\\xa4sta alternativet f\\xc3\\xb6r att ge dig en upplevelse av den naturliga s\\xc3\\xb6tman och kr\\xc3\\xa4migheten hos \\xc3\\xa5ngad mj\\xc3\\xb6lk och karamell.\",\"ingredients\":[\"Espresso\",\"\\xc3\\x85ngad mj\\xc3\\xb6lk\",\"Karamellsirap\"],\"image\":\"https://images.unsplash.com/photo-1599398054066-846f28917f38?auto=format&fit=crop&q=80&w=1887&ixlib=rb-4.0.3&ixid=M3wxMjA3fDB8MHxwaG90by1wYWdlfHx8fGVufDB8fHx8fA%3D%3D\",\"id\":3},{\"title\":\"Cappuccino\",\"description\":\"Cappuccino \\xc3\\xa4r en latte som \\xc3\\xa4r gjord med mer skum \\xc3\\xa4n \\xc3\\xa5ngad mj\\xc3\\xb6lk, ofta med ett str\\xc3\\xb6 av kakaopulver eller kanel p\\xc3\\xa5 toppen. Ibland kan du hitta variationer som anv\\xc3\\xa4nder gr\\xc3\\xa4dde ist\\xc3\\xa4llet f\\xc3\\xb6r mj\\xc3\\xb6lk eller s\\xc3\\xa5dana som tills\\xc3\\xa4tter smak\\xc3\\xa4mnen ocks\\xc3\\xa5.\",\"ingredients\":[\"Espresso\",\"\\xc3\\x85ngad mj\\xc3\\xb6lk\",\"Foam\"],\"image\":\"https://images.unsplash.com/photo-1557006021-b85faa2bc5e2?auto=format&fit=crop&q=80&w=1887&ixlib=rb-4.0.3&ixid=M3wxMjA3fDB8MHxwaG90by1wYWdlfHx8fGVufDB8fHx8fA%3D%3D\",\"id\":4},{\"title\":\"Americano\",\"description\":\"Med en liknande smak som svart kaffe best\\xc3\\xa5r americano av en espresso skott utsp\\xc3\\xa4tt med hett vatten.\",\"ingredients\":[\"Espresso\",\"Hett vatten\"],\"image\":\"https://images.unsplash.com/photo-1532004491497-ba35c367d634?auto=format&fit=crop&q=80&w=1887&ixlib=rb-4.0.3&ixid=M3wxMjA3fDB8MHxwaG90by1wYWdlfHx8fGVufDB8fHx8fA%3D%3D\",\"id\":5},{\"title\":\"Espresso\",\"description\":\"Ett espressoskott kan serveras ensamt eller anv\\xc3\\xa4ndas som grund f\\xc3\\xb6r de flesta kaffedrycker, som latte och macchiato.\",\"ingredients\":[\"Espresso\"],\"image\":\"https://images.unsplash.com/photo-1579992357154-faf4bde95b3d?auto=format&fit=crop&q=80&w=1887&ixlib=rb-4.0.3&ixid=M3wxMjA3fDB8MHxwaG90by1wYWdlfHx8fGVufDB8fHx8fA%3D%3D\",\"id\":6},{\"title\":\"Macchiato\",\"description\":\"Macchiaton \\xc3\\xa4r en annan espresso-baserad dryck som har en liten m\\xc3\\xa4ngd skum p\\xc3\\xa5 toppen. Det \\xc3\\xa4r det glada mellanrummet mellan en cappuccino och en doppio.\",\"ingredients\":[\"Espresso\",\"Foam\"],\"image\":\"https://images.unsplash.com/photo-1557772611-722dabe20327?auto=format&fit=crop&q=80&w=1887&ixlib=rb-4.0.3&ixid=M3wxMjA3fDB8MHxwaG90by1wYWdlfHx8fGVufDB8fHx8fA%3D%3D\",\"id\":7},{\"title\":\"Mocha\",\"description\":\"F\\xc3\\xb6r alla choklad\\xc3\\xa4lskare d\\xc3\\xa4r ute kommer ni att bli f\\xc3\\xb6r\\xc3\\xa4lskade i en mocha. Mocha \\xc3\\xa4r en choklad-espressodryck med \\xc3\\xa5ngad mj\\xc3\\xb6lk och skum.\",\"ingredients\":[\"Espresso\",\"\\xc3\\x85ngad mj\\xc3\\xb6lk\",\"Choklad\"],\"image\":\"https://images.unsplash.com/photo-1607260550778-aa9d29444ce1?auto=format&fit=crop&q=80&w=1887&ixlib=rb-4.0.3&ixid=M3wxMjA3fDB8MHxwaG90by1wYWdlfHx8fGVufDB8fHx8fA%3D%3D\",\"id\":8},{\"title\":\"Hot Chocolate\",\"description\":\"Under kalla vinterdagar f\\xc3\\xa5r en kopp varm choklad dig att k\\xc3\\xa4nna dig bekv\\xc3\\xa4m och lycklig. Den f\\xc3\\xa5r dig ocks\\xc3\\xa5 att m\\xc3\\xa5 bra eftersom den inneh\\xc3\\xa5ller energigivande koffein.\",\"ingredients\":[\"Choklad\",\"Mj\\xc3\\xb6lk\"],\"image\":\"https://images.unsplash.com/photo-1542990253-0d0f5be5f0ed?auto=format&fit=crop&q=60&w=800&ixlib=rb-4.0.3&ixid=M3wxMjA3fDB8MHxzZWFyY2h8NDh8fGhvdCUyMGNob2NvbGF0ZXxlbnwwfHwwfHx8MA%3D%3D\",\"id\":9},{\"title\":\"Chai Latte\",\"description\":\"Om du letar efter en smakfull varm dryck mitt i vintern, v\\xc3\\xa4lj chai latte. Kombinationen av kardemumma och kanel ger en underbar smak.\",\"ingredients\":[\"Te\",\"Mj\\xc3\\xb6lk\",\"Ingef\\xc3\\xa4ra\",\"Kardemumma\",\"Kanel\"],\"image\":\"https://images.unsplash.com/photo-1578899952107-9c390f1af1b7?w=900&auto=format&fit=crop&q=60&ixlib=rb-4.0.3&ixid=M3wxMjA3fDB8MHxzZWFyY2h8MTJ8fGNoYWklMjBsYXR0ZXxlbnwwfHwwfHx8MA%3D%3D\",\"id\":10},{\"title\":\"Matcha Latte\",\"description\":\"Matcha latte \\xc3\\xa4r en gr\\xc3\\xb6n, h\\xc3\\xa4lsosam kaffedryck med finkrossad matcha-te och mj\\xc3\\xb6lk, erbjuder mild s\\xc3\\xb6tma, en unik smak och en mild koffeinkick.\",\"ingredients\":[\"Matcha-pulver\",\"Mj\\xc3\\xb6lk\",\"Socker*\"],\"image\":\"https://images.unsplash.com/photo-1536256263959-770b48d82b0a?w=900&auto=format&fit=crop&q=60&ixlib=rb-4.0.3&ixid=M3wxMjA3fDB8MHxzZWFyY2h8M3x8bWF0Y2hhJTIwbGF0dGV8ZW58MHx8MHx8fDA%3D\",\"id\":11},{\"title\":\"Seasonal Brew\",\"description\":\"S\\xc3\\xa4songs kaffe med olika smaktoner som karamell, frukt och choklad\",\"ingredients\":[\"Kaffe\"],\"image\":\"https://images.unsplash.com/photo-1611162458324-aae1eb4129a4?w=900&auto=format&fit=crop&q=60&ixlib=rb-4.0.3&ixid=M3wxMjA3fDB8MHxzZWFyY2h8MTg1fHxibGFjayUyMGNvZmZlZXxlbnwwfHwwfHx8MA%3D%3D\",\"id\":12},{\"title\":\"Svart Te\",\"description\":\"Svart te f\\xc3\\xb6ddes i Kina. Det \\xc3\\xa4r tillverkat av blad fr\\xc3\\xa5n en v\\xc3\\xa4xt som kallas Camellia och kan smaks\\xc3\\xa4ttas olika med frukter till exempel. En trevlig, varm, smakfull och aromatisk dryck som passar till vardagen.\",\"ingredients\":[\"Te\"],\"image\":\"https://images.unsplash.com/photo-1576092768241-dec231879fc3?auto=format&fit=crop&q=60&w=800&ixlib=rb-4.0.3&ixid=M3wxMjA3fDB8MHxzZWFyY2h8MjB8fHRlYXxlbnwwfHwwfHx8MA%3D%3D\",\"id\":13},{\"title\":\"Islatte\",\"description\":\"Iced latte \\xc3\\xa4r en kyld kaffedryck som g\\xc3\\xb6rs genom att blanda espresso och kyld mj\\xc3\\xb6lk. Den serveras med isbitar och \\xc3\\xa4r \\xc3\\xa4ven k\\xc3\\xa4nd som caf\\xc3\\xa8 latte iced eller latte on the rocks.\",\"ingredients\":[\"Espresso\",\"Mj\\xc3\\xb6lk\",\"Is\",\"Sirap\"],\"image\":\"https://images.unsplash.com/photo-1517701550927-30cf4ba1dba5?auto=format&fit=crop&q=60&w=800&ixlib=rb-4.0.3&ixid=M3wxMjA3fDB8MHxzZWFyY2h8NHx8aWNlZCUyMGxhdHRlfGVufDB8fDB8fHww\",\"id\":14},{\"title\":\"Islatte Mocha\",\"description\":\"Iced latte Mocha \\xc3\\xa4r en kombination av latte och mocha, som i sig \\xc3\\xa4r en kombination av choklad och kaffe. Den ger kalla dryck\\xc3\\xa4lskare en l\\xc3\\xa4cker upplevelse av choklad och kaffe.\",\"ingredients\":[\"Espresso\",\"Is\",\"Mj\\xc3\\xb6lk\",\"Choklad \"],\"image\":\"https://images.unsplash.com/photo-1642647391072-6a2416f048e5?auto=format&fit=crop&q=60&w=800&ixlib=rb-4.0.3&ixid=M3wxMjA3fDB8MHxzZWFyY2h8Mzh8fGljZWQlMjBtb2NoYSUyMGxhdHRlfGVufDB8fDB8fHww\",\"id\":15},{\"title\":\"Frapino Caramel\",\"description\":\"Det \\xc3\\xa4r en blandad eller b\\xc3\\xa4ttre sagt skakad kaffe med vispad gr\\xc3\\xa4dde p\\xc3\\xa5 toppen. Ett m\\xc3\\xa5ste f\\xc3\\xb6r varma sommardagar.\",\"ingredients\":[\"coffee\",\"Is\",\"Mj\\xc3\\xb6lk\",\"Karamellsirap\",\"Vispgr\\xc3\\xa4dde*\",\"Karamells\\xc3\\xa5s\"],\"image\":\"https://images.unsplash.com/photo-1662047102608-a6f2e492411f?auto=format&fit=crop&q=60&w=800&ixlib=rb-4.0.3&ixid=M3wxMjA3fDB8MHxzZWFyY2h8NHx8ZnJhcGlubyUyMGNhcmFtZWx8ZW58MHx8MHx8fDA%3D\",\"id\":16},{\"title\":\"Frapino Mocka\",\"description\":\"\\xc3\\x84nnu en ber\\xc3\\xb6md och uts\\xc3\\xb6kt kall dryck f\\xc3\\xb6r dem som f\\xc3\\xb6redrar choklad. T\\xc3\\xa4nk dig smaken av en shake med choklad och vispad gr\\xc3\\xa4dde p\\xc3\\xa5 toppen.\",\"ingredients\":[\"Coffee\",\"Is\",\"Mj\\xc3\\xb6lk\",\"Cocoa\",\"Vispgr\\xc3\\xa4dde*\"],\"image\":\"https://images.unsplash.com/photo-1530373239216-42518e6b4063?auto=format&fit=crop&q=60&w=800&ixlib=rb-4.0.3&ixid=M3wxMjA3fDB8MHxzZWFyY2h8NHx8ZnJhcGlubyUyMG1vY2hhfGVufDB8fDB8fHww\",\"id\":17},{\"title\":\"Apelsinjuice\",\"description\":\"Vi har inget att s\\xc3\\xa4ga om v\\xc3\\xa5r nypressade apelsinjuice. Du m\\xc3\\xa5ste prova den sj\\xc3\\xa4lv.\",\"ingredients\":[\"F\\xc3\\xa4rska Apelsiner\",\"Is\"],\"image\":\"https://images.unsplash.com/photo-1600271886742-f049cd451bba?auto=format&fit=crop&q=60&w=800&ixlib=rb-4.0.3&ixid=M3wxMjA3fDB8MHxzZWFyY2h8NzF8fG9yYW5nZSUyMGp1aWNlfGVufDB8fDB8fHww\",\"id\":18},{\"title\":\"Frozen Lemonade\",\"description\":\"Frozen lemonade \\xc3\\xa4r en uppfriskande sommardryck som kombinerar f\\xc3\\xa4rskpressad citronsaft, is och s\\xc3\\xb6tning till en svalkande, syrlig och s\\xc3\\xb6tsyrlig smaksensation.\",\"ingredients\":[\"Citronsaft\",\"Is\",\"Socker*\"],\"image\":\"https://images.unsplash.com/photo-1523371054106-bbf80586c38c?w=900&auto=format&fit=crop&q=60&ixlib=rb-4.0.3&ixid=M3wxMjA3fDB8MHxzZWFyY2h8MTZ8fGxlbW9uYWRlJTIwd2l0aCUyMGljZXxlbnwwfHwwfHx8MA%3D%3D\",\"id\":19},{\"title\":\"Lemonad\",\"description\":\"Var k\\xc3\\xa4nd i Paris f\\xc3\\xb6rst och blev sedan mycket popul\\xc3\\xa4r i hela Europa. Denna s\\xc3\\xb6ta, f\\xc3\\xa4rgl\\xc3\\xb6sa, kolsyrade dryck g\\xc3\\xb6rs genom att blanda citronsaft och kolsyrat vatten.\",\"ingredients\":[\"Citronsaft\",\"Kolsyrat vatten\",\"Honung\"],\"image\":\"https://images.unsplash.com/photo-1621263764928-df1444c5e859?auto=format&fit=crop&q=60&w=800&ixlib=rb-4.0.3&ixid=M3wxMjA3fDB8MHxzZWFyY2h8Nnx8bGVtb25hZGV8ZW58MHx8MHx8fDA%3D\",\"id\":20}]'"
      ]
     },
     "execution_count": 7,
     "metadata": {},
     "output_type": "execute_result"
    }
   ],
   "source": [
    "# Check the correct endpoint again and check the raw content of the API response.\n",
    "endpoint = 'https://api.sampleapis.com/coffee/hot'\n",
    "response = requests.get(endpoint)\n",
    "response.content"
   ]
  },
  {
   "cell_type": "code",
   "execution_count": 8,
   "id": "8cd47564-8d1b-48c1-879b-cf0110e0531e",
   "metadata": {},
   "outputs": [
    {
     "data": {
      "text/plain": [
       "[{'title': 'Black Coffee',\n",
       "  'description': 'Svart kaffe är så enkelt som det kan bli med malda kaffebönor dränkta i hett vatten, serverat varmt. Och om du vill låta fancy kan du kalla svart kaffe med sitt rätta namn: café noir.',\n",
       "  'ingredients': ['Coffee'],\n",
       "  'image': 'https://images.unsplash.com/photo-1494314671902-399b18174975?auto=format&fit=crop&q=80&w=1887&ixlib=rb-4.0.3&ixid=M3wxMjA3fDB8MHxwaG90by1wYWdlfHx8fGVufDB8fHx8fA%3D%3D',\n",
       "  'id': 1},\n",
       " {'title': 'Latte',\n",
       "  'description': 'Som den mest populära kaffedrycken där ute består latte av en skvätt espresso och ångad mjölk med bara en gnutta skum. Den kan beställas utan smak eller med smak av allt från vanilj till pumpa kryddor.',\n",
       "  'ingredients': ['Espresso', 'Ångad mjölk'],\n",
       "  'image': 'https://images.unsplash.com/photo-1561882468-9110e03e0f78?auto=format&fit=crop&q=60&w=800&ixlib=rb-4.0.3&ixid=M3wxMjA3fDB8MHxzZWFyY2h8MTl8fGxhdHRlfGVufDB8fDB8fHww',\n",
       "  'id': 2},\n",
       " {'title': 'Caramel Latte',\n",
       "  'description': 'Om du gillar latte med en speciell smak kan karamell latte vara det bästa alternativet för att ge dig en upplevelse av den naturliga sötman och krämigheten hos ångad mjölk och karamell.',\n",
       "  'ingredients': ['Espresso', 'Ångad mjölk', 'Karamellsirap'],\n",
       "  'image': 'https://images.unsplash.com/photo-1599398054066-846f28917f38?auto=format&fit=crop&q=80&w=1887&ixlib=rb-4.0.3&ixid=M3wxMjA3fDB8MHxwaG90by1wYWdlfHx8fGVufDB8fHx8fA%3D%3D',\n",
       "  'id': 3},\n",
       " {'title': 'Cappuccino',\n",
       "  'description': 'Cappuccino är en latte som är gjord med mer skum än ångad mjölk, ofta med ett strö av kakaopulver eller kanel på toppen. Ibland kan du hitta variationer som använder grädde istället för mjölk eller sådana som tillsätter smakämnen också.',\n",
       "  'ingredients': ['Espresso', 'Ångad mjölk', 'Foam'],\n",
       "  'image': 'https://images.unsplash.com/photo-1557006021-b85faa2bc5e2?auto=format&fit=crop&q=80&w=1887&ixlib=rb-4.0.3&ixid=M3wxMjA3fDB8MHxwaG90by1wYWdlfHx8fGVufDB8fHx8fA%3D%3D',\n",
       "  'id': 4},\n",
       " {'title': 'Americano',\n",
       "  'description': 'Med en liknande smak som svart kaffe består americano av en espresso skott utspätt med hett vatten.',\n",
       "  'ingredients': ['Espresso', 'Hett vatten'],\n",
       "  'image': 'https://images.unsplash.com/photo-1532004491497-ba35c367d634?auto=format&fit=crop&q=80&w=1887&ixlib=rb-4.0.3&ixid=M3wxMjA3fDB8MHxwaG90by1wYWdlfHx8fGVufDB8fHx8fA%3D%3D',\n",
       "  'id': 5},\n",
       " {'title': 'Espresso',\n",
       "  'description': 'Ett espressoskott kan serveras ensamt eller användas som grund för de flesta kaffedrycker, som latte och macchiato.',\n",
       "  'ingredients': ['Espresso'],\n",
       "  'image': 'https://images.unsplash.com/photo-1579992357154-faf4bde95b3d?auto=format&fit=crop&q=80&w=1887&ixlib=rb-4.0.3&ixid=M3wxMjA3fDB8MHxwaG90by1wYWdlfHx8fGVufDB8fHx8fA%3D%3D',\n",
       "  'id': 6},\n",
       " {'title': 'Macchiato',\n",
       "  'description': 'Macchiaton är en annan espresso-baserad dryck som har en liten mängd skum på toppen. Det är det glada mellanrummet mellan en cappuccino och en doppio.',\n",
       "  'ingredients': ['Espresso', 'Foam'],\n",
       "  'image': 'https://images.unsplash.com/photo-1557772611-722dabe20327?auto=format&fit=crop&q=80&w=1887&ixlib=rb-4.0.3&ixid=M3wxMjA3fDB8MHxwaG90by1wYWdlfHx8fGVufDB8fHx8fA%3D%3D',\n",
       "  'id': 7},\n",
       " {'title': 'Mocha',\n",
       "  'description': 'För alla chokladälskare där ute kommer ni att bli förälskade i en mocha. Mocha är en choklad-espressodryck med ångad mjölk och skum.',\n",
       "  'ingredients': ['Espresso', 'Ångad mjölk', 'Choklad'],\n",
       "  'image': 'https://images.unsplash.com/photo-1607260550778-aa9d29444ce1?auto=format&fit=crop&q=80&w=1887&ixlib=rb-4.0.3&ixid=M3wxMjA3fDB8MHxwaG90by1wYWdlfHx8fGVufDB8fHx8fA%3D%3D',\n",
       "  'id': 8},\n",
       " {'title': 'Hot Chocolate',\n",
       "  'description': 'Under kalla vinterdagar får en kopp varm choklad dig att känna dig bekväm och lycklig. Den får dig också att må bra eftersom den innehåller energigivande koffein.',\n",
       "  'ingredients': ['Choklad', 'Mjölk'],\n",
       "  'image': 'https://images.unsplash.com/photo-1542990253-0d0f5be5f0ed?auto=format&fit=crop&q=60&w=800&ixlib=rb-4.0.3&ixid=M3wxMjA3fDB8MHxzZWFyY2h8NDh8fGhvdCUyMGNob2NvbGF0ZXxlbnwwfHwwfHx8MA%3D%3D',\n",
       "  'id': 9},\n",
       " {'title': 'Chai Latte',\n",
       "  'description': 'Om du letar efter en smakfull varm dryck mitt i vintern, välj chai latte. Kombinationen av kardemumma och kanel ger en underbar smak.',\n",
       "  'ingredients': ['Te', 'Mjölk', 'Ingefära', 'Kardemumma', 'Kanel'],\n",
       "  'image': 'https://images.unsplash.com/photo-1578899952107-9c390f1af1b7?w=900&auto=format&fit=crop&q=60&ixlib=rb-4.0.3&ixid=M3wxMjA3fDB8MHxzZWFyY2h8MTJ8fGNoYWklMjBsYXR0ZXxlbnwwfHwwfHx8MA%3D%3D',\n",
       "  'id': 10},\n",
       " {'title': 'Matcha Latte',\n",
       "  'description': 'Matcha latte är en grön, hälsosam kaffedryck med finkrossad matcha-te och mjölk, erbjuder mild sötma, en unik smak och en mild koffeinkick.',\n",
       "  'ingredients': ['Matcha-pulver', 'Mjölk', 'Socker*'],\n",
       "  'image': 'https://images.unsplash.com/photo-1536256263959-770b48d82b0a?w=900&auto=format&fit=crop&q=60&ixlib=rb-4.0.3&ixid=M3wxMjA3fDB8MHxzZWFyY2h8M3x8bWF0Y2hhJTIwbGF0dGV8ZW58MHx8MHx8fDA%3D',\n",
       "  'id': 11},\n",
       " {'title': 'Seasonal Brew',\n",
       "  'description': 'Säsongs kaffe med olika smaktoner som karamell, frukt och choklad',\n",
       "  'ingredients': ['Kaffe'],\n",
       "  'image': 'https://images.unsplash.com/photo-1611162458324-aae1eb4129a4?w=900&auto=format&fit=crop&q=60&ixlib=rb-4.0.3&ixid=M3wxMjA3fDB8MHxzZWFyY2h8MTg1fHxibGFjayUyMGNvZmZlZXxlbnwwfHwwfHx8MA%3D%3D',\n",
       "  'id': 12},\n",
       " {'title': 'Svart Te',\n",
       "  'description': 'Svart te föddes i Kina. Det är tillverkat av blad från en växt som kallas Camellia och kan smaksättas olika med frukter till exempel. En trevlig, varm, smakfull och aromatisk dryck som passar till vardagen.',\n",
       "  'ingredients': ['Te'],\n",
       "  'image': 'https://images.unsplash.com/photo-1576092768241-dec231879fc3?auto=format&fit=crop&q=60&w=800&ixlib=rb-4.0.3&ixid=M3wxMjA3fDB8MHxzZWFyY2h8MjB8fHRlYXxlbnwwfHwwfHx8MA%3D%3D',\n",
       "  'id': 13},\n",
       " {'title': 'Islatte',\n",
       "  'description': 'Iced latte är en kyld kaffedryck som görs genom att blanda espresso och kyld mjölk. Den serveras med isbitar och är även känd som cafè latte iced eller latte on the rocks.',\n",
       "  'ingredients': ['Espresso', 'Mjölk', 'Is', 'Sirap'],\n",
       "  'image': 'https://images.unsplash.com/photo-1517701550927-30cf4ba1dba5?auto=format&fit=crop&q=60&w=800&ixlib=rb-4.0.3&ixid=M3wxMjA3fDB8MHxzZWFyY2h8NHx8aWNlZCUyMGxhdHRlfGVufDB8fDB8fHww',\n",
       "  'id': 14},\n",
       " {'title': 'Islatte Mocha',\n",
       "  'description': 'Iced latte Mocha är en kombination av latte och mocha, som i sig är en kombination av choklad och kaffe. Den ger kalla dryckälskare en läcker upplevelse av choklad och kaffe.',\n",
       "  'ingredients': ['Espresso', 'Is', 'Mjölk', 'Choklad '],\n",
       "  'image': 'https://images.unsplash.com/photo-1642647391072-6a2416f048e5?auto=format&fit=crop&q=60&w=800&ixlib=rb-4.0.3&ixid=M3wxMjA3fDB8MHxzZWFyY2h8Mzh8fGljZWQlMjBtb2NoYSUyMGxhdHRlfGVufDB8fDB8fHww',\n",
       "  'id': 15},\n",
       " {'title': 'Frapino Caramel',\n",
       "  'description': 'Det är en blandad eller bättre sagt skakad kaffe med vispad grädde på toppen. Ett måste för varma sommardagar.',\n",
       "  'ingredients': ['coffee',\n",
       "   'Is',\n",
       "   'Mjölk',\n",
       "   'Karamellsirap',\n",
       "   'Vispgrädde*',\n",
       "   'Karamellsås'],\n",
       "  'image': 'https://images.unsplash.com/photo-1662047102608-a6f2e492411f?auto=format&fit=crop&q=60&w=800&ixlib=rb-4.0.3&ixid=M3wxMjA3fDB8MHxzZWFyY2h8NHx8ZnJhcGlubyUyMGNhcmFtZWx8ZW58MHx8MHx8fDA%3D',\n",
       "  'id': 16},\n",
       " {'title': 'Frapino Mocka',\n",
       "  'description': 'Ännu en berömd och utsökt kall dryck för dem som föredrar choklad. Tänk dig smaken av en shake med choklad och vispad grädde på toppen.',\n",
       "  'ingredients': ['Coffee', 'Is', 'Mjölk', 'Cocoa', 'Vispgrädde*'],\n",
       "  'image': 'https://images.unsplash.com/photo-1530373239216-42518e6b4063?auto=format&fit=crop&q=60&w=800&ixlib=rb-4.0.3&ixid=M3wxMjA3fDB8MHxzZWFyY2h8NHx8ZnJhcGlubyUyMG1vY2hhfGVufDB8fDB8fHww',\n",
       "  'id': 17},\n",
       " {'title': 'Apelsinjuice',\n",
       "  'description': 'Vi har inget att säga om vår nypressade apelsinjuice. Du måste prova den själv.',\n",
       "  'ingredients': ['Färska Apelsiner', 'Is'],\n",
       "  'image': 'https://images.unsplash.com/photo-1600271886742-f049cd451bba?auto=format&fit=crop&q=60&w=800&ixlib=rb-4.0.3&ixid=M3wxMjA3fDB8MHxzZWFyY2h8NzF8fG9yYW5nZSUyMGp1aWNlfGVufDB8fDB8fHww',\n",
       "  'id': 18},\n",
       " {'title': 'Frozen Lemonade',\n",
       "  'description': 'Frozen lemonade är en uppfriskande sommardryck som kombinerar färskpressad citronsaft, is och sötning till en svalkande, syrlig och sötsyrlig smaksensation.',\n",
       "  'ingredients': ['Citronsaft', 'Is', 'Socker*'],\n",
       "  'image': 'https://images.unsplash.com/photo-1523371054106-bbf80586c38c?w=900&auto=format&fit=crop&q=60&ixlib=rb-4.0.3&ixid=M3wxMjA3fDB8MHxzZWFyY2h8MTZ8fGxlbW9uYWRlJTIwd2l0aCUyMGljZXxlbnwwfHwwfHx8MA%3D%3D',\n",
       "  'id': 19},\n",
       " {'title': 'Lemonad',\n",
       "  'description': 'Var känd i Paris först och blev sedan mycket populär i hela Europa. Denna söta, färglösa, kolsyrade dryck görs genom att blanda citronsaft och kolsyrat vatten.',\n",
       "  'ingredients': ['Citronsaft', 'Kolsyrat vatten', 'Honung'],\n",
       "  'image': 'https://images.unsplash.com/photo-1621263764928-df1444c5e859?auto=format&fit=crop&q=60&w=800&ixlib=rb-4.0.3&ixid=M3wxMjA3fDB8MHxzZWFyY2h8Nnx8bGVtb25hZGV8ZW58MHx8MHx8fDA%3D',\n",
       "  'id': 20}]"
      ]
     },
     "execution_count": 8,
     "metadata": {},
     "output_type": "execute_result"
    }
   ],
   "source": [
    "# Visualize the content of the list in JSON format\n",
    "response.json()"
   ]
  },
  {
   "cell_type": "code",
   "execution_count": 9,
   "id": "dcdb7a34-b820-41b3-aafe-76ebbd47b62b",
   "metadata": {},
   "outputs": [
    {
     "data": {
      "text/plain": [
       "list"
      ]
     },
     "execution_count": 9,
     "metadata": {},
     "output_type": "execute_result"
    }
   ],
   "source": [
    "# Check the type of response\n",
    "type(response.json())"
   ]
  },
  {
   "cell_type": "code",
   "execution_count": 10,
   "id": "196dd16c-18da-4107-97be-6d1f7dad3156",
   "metadata": {},
   "outputs": [
    {
     "data": {
      "text/plain": [
       "{'title': 'Black Coffee',\n",
       " 'description': 'Svart kaffe är så enkelt som det kan bli med malda kaffebönor dränkta i hett vatten, serverat varmt. Och om du vill låta fancy kan du kalla svart kaffe med sitt rätta namn: café noir.',\n",
       " 'ingredients': ['Coffee'],\n",
       " 'image': 'https://images.unsplash.com/photo-1494314671902-399b18174975?auto=format&fit=crop&q=80&w=1887&ixlib=rb-4.0.3&ixid=M3wxMjA3fDB8MHxwaG90by1wYWdlfHx8fGVufDB8fHx8fA%3D%3D',\n",
       " 'id': 1}"
      ]
     },
     "execution_count": 10,
     "metadata": {},
     "output_type": "execute_result"
    }
   ],
   "source": [
    "# Access the first item on the list\n",
    "response.json()[0]"
   ]
  },
  {
   "cell_type": "code",
   "execution_count": 11,
   "id": "41ae6448-e57e-48b0-8b89-df6da577a477",
   "metadata": {},
   "outputs": [
    {
     "data": {
      "text/plain": [
       "dict"
      ]
     },
     "execution_count": 11,
     "metadata": {},
     "output_type": "execute_result"
    }
   ],
   "source": [
    "# Check the type of the first item in the list\n",
    "type(response.json()[0])"
   ]
  },
  {
   "cell_type": "code",
   "execution_count": 12,
   "id": "328b2e18-eea6-4428-bd48-b4dc61feda20",
   "metadata": {},
   "outputs": [
    {
     "data": {
      "text/plain": [
       "'Black Coffee'"
      ]
     },
     "execution_count": 12,
     "metadata": {},
     "output_type": "execute_result"
    }
   ],
   "source": [
    "# Consult the \"title\" of the first element returned by the endpoint\n",
    "response.json()[0]['title']"
   ]
  },
  {
   "cell_type": "code",
   "execution_count": 13,
   "id": "a7b1d8e6-7e3e-4ec7-9204-d7ea9f1f0d9c",
   "metadata": {},
   "outputs": [
    {
     "data": {
      "text/plain": [
       "'Frozen Lemonade'"
      ]
     },
     "execution_count": 13,
     "metadata": {},
     "output_type": "execute_result"
    }
   ],
   "source": [
    "# Query the \"title\" of the penultimate element returned by the endpoint\n",
    "response.json()[-2]['title']"
   ]
  },
  {
   "cell_type": "code",
   "execution_count": 14,
   "id": "3f71fd72",
   "metadata": {},
   "outputs": [
    {
     "data": {
      "text/html": [
       "<div>\n",
       "<style scoped>\n",
       "    .dataframe tbody tr th:only-of-type {\n",
       "        vertical-align: middle;\n",
       "    }\n",
       "\n",
       "    .dataframe tbody tr th {\n",
       "        vertical-align: top;\n",
       "    }\n",
       "\n",
       "    .dataframe thead th {\n",
       "        text-align: right;\n",
       "    }\n",
       "</style>\n",
       "<table border=\"1\" class=\"dataframe\">\n",
       "  <thead>\n",
       "    <tr style=\"text-align: right;\">\n",
       "      <th></th>\n",
       "      <th>title</th>\n",
       "      <th>description</th>\n",
       "      <th>ingredients</th>\n",
       "      <th>image</th>\n",
       "      <th>id</th>\n",
       "    </tr>\n",
       "  </thead>\n",
       "  <tbody>\n",
       "    <tr>\n",
       "      <th>0</th>\n",
       "      <td>Black Coffee</td>\n",
       "      <td>Svart kaffe är så enkelt som det kan bli med m...</td>\n",
       "      <td>[Coffee]</td>\n",
       "      <td>https://images.unsplash.com/photo-149431467190...</td>\n",
       "      <td>1</td>\n",
       "    </tr>\n",
       "    <tr>\n",
       "      <th>1</th>\n",
       "      <td>Latte</td>\n",
       "      <td>Som den mest populära kaffedrycken där ute bes...</td>\n",
       "      <td>[Espresso, Ångad mjölk]</td>\n",
       "      <td>https://images.unsplash.com/photo-1561882468-9...</td>\n",
       "      <td>2</td>\n",
       "    </tr>\n",
       "    <tr>\n",
       "      <th>2</th>\n",
       "      <td>Caramel Latte</td>\n",
       "      <td>Om du gillar latte med en speciell smak kan ka...</td>\n",
       "      <td>[Espresso, Ångad mjölk, Karamellsirap]</td>\n",
       "      <td>https://images.unsplash.com/photo-159939805406...</td>\n",
       "      <td>3</td>\n",
       "    </tr>\n",
       "    <tr>\n",
       "      <th>3</th>\n",
       "      <td>Cappuccino</td>\n",
       "      <td>Cappuccino är en latte som är gjord med mer sk...</td>\n",
       "      <td>[Espresso, Ångad mjölk, Foam]</td>\n",
       "      <td>https://images.unsplash.com/photo-1557006021-b...</td>\n",
       "      <td>4</td>\n",
       "    </tr>\n",
       "    <tr>\n",
       "      <th>4</th>\n",
       "      <td>Americano</td>\n",
       "      <td>Med en liknande smak som svart kaffe består am...</td>\n",
       "      <td>[Espresso, Hett vatten]</td>\n",
       "      <td>https://images.unsplash.com/photo-153200449149...</td>\n",
       "      <td>5</td>\n",
       "    </tr>\n",
       "    <tr>\n",
       "      <th>5</th>\n",
       "      <td>Espresso</td>\n",
       "      <td>Ett espressoskott kan serveras ensamt eller an...</td>\n",
       "      <td>[Espresso]</td>\n",
       "      <td>https://images.unsplash.com/photo-157999235715...</td>\n",
       "      <td>6</td>\n",
       "    </tr>\n",
       "    <tr>\n",
       "      <th>6</th>\n",
       "      <td>Macchiato</td>\n",
       "      <td>Macchiaton är en annan espresso-baserad dryck ...</td>\n",
       "      <td>[Espresso, Foam]</td>\n",
       "      <td>https://images.unsplash.com/photo-1557772611-7...</td>\n",
       "      <td>7</td>\n",
       "    </tr>\n",
       "    <tr>\n",
       "      <th>7</th>\n",
       "      <td>Mocha</td>\n",
       "      <td>För alla chokladälskare där ute kommer ni att ...</td>\n",
       "      <td>[Espresso, Ångad mjölk, Choklad]</td>\n",
       "      <td>https://images.unsplash.com/photo-160726055077...</td>\n",
       "      <td>8</td>\n",
       "    </tr>\n",
       "    <tr>\n",
       "      <th>8</th>\n",
       "      <td>Hot Chocolate</td>\n",
       "      <td>Under kalla vinterdagar får en kopp varm chokl...</td>\n",
       "      <td>[Choklad, Mjölk]</td>\n",
       "      <td>https://images.unsplash.com/photo-1542990253-0...</td>\n",
       "      <td>9</td>\n",
       "    </tr>\n",
       "    <tr>\n",
       "      <th>9</th>\n",
       "      <td>Chai Latte</td>\n",
       "      <td>Om du letar efter en smakfull varm dryck mitt ...</td>\n",
       "      <td>[Te, Mjölk, Ingefära, Kardemumma, Kanel]</td>\n",
       "      <td>https://images.unsplash.com/photo-157889995210...</td>\n",
       "      <td>10</td>\n",
       "    </tr>\n",
       "    <tr>\n",
       "      <th>10</th>\n",
       "      <td>Matcha Latte</td>\n",
       "      <td>Matcha latte är en grön, hälsosam kaffedryck m...</td>\n",
       "      <td>[Matcha-pulver, Mjölk, Socker*]</td>\n",
       "      <td>https://images.unsplash.com/photo-153625626395...</td>\n",
       "      <td>11</td>\n",
       "    </tr>\n",
       "    <tr>\n",
       "      <th>11</th>\n",
       "      <td>Seasonal Brew</td>\n",
       "      <td>Säsongs kaffe med olika smaktoner som karamell...</td>\n",
       "      <td>[Kaffe]</td>\n",
       "      <td>https://images.unsplash.com/photo-161116245832...</td>\n",
       "      <td>12</td>\n",
       "    </tr>\n",
       "    <tr>\n",
       "      <th>12</th>\n",
       "      <td>Svart Te</td>\n",
       "      <td>Svart te föddes i Kina. Det är tillverkat av b...</td>\n",
       "      <td>[Te]</td>\n",
       "      <td>https://images.unsplash.com/photo-157609276824...</td>\n",
       "      <td>13</td>\n",
       "    </tr>\n",
       "    <tr>\n",
       "      <th>13</th>\n",
       "      <td>Islatte</td>\n",
       "      <td>Iced latte är en kyld kaffedryck som görs geno...</td>\n",
       "      <td>[Espresso, Mjölk, Is, Sirap]</td>\n",
       "      <td>https://images.unsplash.com/photo-151770155092...</td>\n",
       "      <td>14</td>\n",
       "    </tr>\n",
       "    <tr>\n",
       "      <th>14</th>\n",
       "      <td>Islatte Mocha</td>\n",
       "      <td>Iced latte Mocha är en kombination av latte oc...</td>\n",
       "      <td>[Espresso, Is, Mjölk, Choklad ]</td>\n",
       "      <td>https://images.unsplash.com/photo-164264739107...</td>\n",
       "      <td>15</td>\n",
       "    </tr>\n",
       "    <tr>\n",
       "      <th>15</th>\n",
       "      <td>Frapino Caramel</td>\n",
       "      <td>Det är en blandad eller bättre sagt skakad kaf...</td>\n",
       "      <td>[coffee, Is, Mjölk, Karamellsirap, Vispgrädde*...</td>\n",
       "      <td>https://images.unsplash.com/photo-166204710260...</td>\n",
       "      <td>16</td>\n",
       "    </tr>\n",
       "    <tr>\n",
       "      <th>16</th>\n",
       "      <td>Frapino Mocka</td>\n",
       "      <td>Ännu en berömd och utsökt kall dryck för dem s...</td>\n",
       "      <td>[Coffee, Is, Mjölk, Cocoa, Vispgrädde*]</td>\n",
       "      <td>https://images.unsplash.com/photo-153037323921...</td>\n",
       "      <td>17</td>\n",
       "    </tr>\n",
       "    <tr>\n",
       "      <th>17</th>\n",
       "      <td>Apelsinjuice</td>\n",
       "      <td>Vi har inget att säga om vår nypressade apelsi...</td>\n",
       "      <td>[Färska Apelsiner, Is]</td>\n",
       "      <td>https://images.unsplash.com/photo-160027188674...</td>\n",
       "      <td>18</td>\n",
       "    </tr>\n",
       "    <tr>\n",
       "      <th>18</th>\n",
       "      <td>Frozen Lemonade</td>\n",
       "      <td>Frozen lemonade är en uppfriskande sommardryck...</td>\n",
       "      <td>[Citronsaft, Is, Socker*]</td>\n",
       "      <td>https://images.unsplash.com/photo-152337105410...</td>\n",
       "      <td>19</td>\n",
       "    </tr>\n",
       "    <tr>\n",
       "      <th>19</th>\n",
       "      <td>Lemonad</td>\n",
       "      <td>Var känd i Paris först och blev sedan mycket p...</td>\n",
       "      <td>[Citronsaft, Kolsyrat vatten, Honung]</td>\n",
       "      <td>https://images.unsplash.com/photo-162126376492...</td>\n",
       "      <td>20</td>\n",
       "    </tr>\n",
       "  </tbody>\n",
       "</table>\n",
       "</div>"
      ],
      "text/plain": [
       "              title                                        description  \\\n",
       "0      Black Coffee  Svart kaffe är så enkelt som det kan bli med m...   \n",
       "1             Latte  Som den mest populära kaffedrycken där ute bes...   \n",
       "2     Caramel Latte  Om du gillar latte med en speciell smak kan ka...   \n",
       "3        Cappuccino  Cappuccino är en latte som är gjord med mer sk...   \n",
       "4         Americano  Med en liknande smak som svart kaffe består am...   \n",
       "5          Espresso  Ett espressoskott kan serveras ensamt eller an...   \n",
       "6         Macchiato  Macchiaton är en annan espresso-baserad dryck ...   \n",
       "7             Mocha  För alla chokladälskare där ute kommer ni att ...   \n",
       "8     Hot Chocolate  Under kalla vinterdagar får en kopp varm chokl...   \n",
       "9        Chai Latte  Om du letar efter en smakfull varm dryck mitt ...   \n",
       "10     Matcha Latte  Matcha latte är en grön, hälsosam kaffedryck m...   \n",
       "11    Seasonal Brew  Säsongs kaffe med olika smaktoner som karamell...   \n",
       "12         Svart Te  Svart te föddes i Kina. Det är tillverkat av b...   \n",
       "13          Islatte  Iced latte är en kyld kaffedryck som görs geno...   \n",
       "14    Islatte Mocha  Iced latte Mocha är en kombination av latte oc...   \n",
       "15  Frapino Caramel  Det är en blandad eller bättre sagt skakad kaf...   \n",
       "16    Frapino Mocka  Ännu en berömd och utsökt kall dryck för dem s...   \n",
       "17     Apelsinjuice  Vi har inget att säga om vår nypressade apelsi...   \n",
       "18  Frozen Lemonade  Frozen lemonade är en uppfriskande sommardryck...   \n",
       "19          Lemonad  Var känd i Paris först och blev sedan mycket p...   \n",
       "\n",
       "                                          ingredients  \\\n",
       "0                                            [Coffee]   \n",
       "1                             [Espresso, Ångad mjölk]   \n",
       "2              [Espresso, Ångad mjölk, Karamellsirap]   \n",
       "3                       [Espresso, Ångad mjölk, Foam]   \n",
       "4                             [Espresso, Hett vatten]   \n",
       "5                                          [Espresso]   \n",
       "6                                    [Espresso, Foam]   \n",
       "7                    [Espresso, Ångad mjölk, Choklad]   \n",
       "8                                    [Choklad, Mjölk]   \n",
       "9            [Te, Mjölk, Ingefära, Kardemumma, Kanel]   \n",
       "10                    [Matcha-pulver, Mjölk, Socker*]   \n",
       "11                                            [Kaffe]   \n",
       "12                                               [Te]   \n",
       "13                       [Espresso, Mjölk, Is, Sirap]   \n",
       "14                    [Espresso, Is, Mjölk, Choklad ]   \n",
       "15  [coffee, Is, Mjölk, Karamellsirap, Vispgrädde*...   \n",
       "16            [Coffee, Is, Mjölk, Cocoa, Vispgrädde*]   \n",
       "17                             [Färska Apelsiner, Is]   \n",
       "18                          [Citronsaft, Is, Socker*]   \n",
       "19              [Citronsaft, Kolsyrat vatten, Honung]   \n",
       "\n",
       "                                                image  id  \n",
       "0   https://images.unsplash.com/photo-149431467190...   1  \n",
       "1   https://images.unsplash.com/photo-1561882468-9...   2  \n",
       "2   https://images.unsplash.com/photo-159939805406...   3  \n",
       "3   https://images.unsplash.com/photo-1557006021-b...   4  \n",
       "4   https://images.unsplash.com/photo-153200449149...   5  \n",
       "5   https://images.unsplash.com/photo-157999235715...   6  \n",
       "6   https://images.unsplash.com/photo-1557772611-7...   7  \n",
       "7   https://images.unsplash.com/photo-160726055077...   8  \n",
       "8   https://images.unsplash.com/photo-1542990253-0...   9  \n",
       "9   https://images.unsplash.com/photo-157889995210...  10  \n",
       "10  https://images.unsplash.com/photo-153625626395...  11  \n",
       "11  https://images.unsplash.com/photo-161116245832...  12  \n",
       "12  https://images.unsplash.com/photo-157609276824...  13  \n",
       "13  https://images.unsplash.com/photo-151770155092...  14  \n",
       "14  https://images.unsplash.com/photo-164264739107...  15  \n",
       "15  https://images.unsplash.com/photo-166204710260...  16  \n",
       "16  https://images.unsplash.com/photo-153037323921...  17  \n",
       "17  https://images.unsplash.com/photo-160027188674...  18  \n",
       "18  https://images.unsplash.com/photo-152337105410...  19  \n",
       "19  https://images.unsplash.com/photo-162126376492...  20  "
      ]
     },
     "execution_count": 14,
     "metadata": {},
     "output_type": "execute_result"
    }
   ],
   "source": [
    "# ++ EXTRA\n",
    "# We can create dataframes with data from a query\n",
    "import pandas as pd\n",
    "df_cafe = pd.DataFrame(response.json())\n",
    "df_cafe"
   ]
  },
  {
   "cell_type": "code",
   "execution_count": 15,
   "id": "d12db115",
   "metadata": {},
   "outputs": [
    {
     "data": {
      "text/html": [
       "<div>\n",
       "<style scoped>\n",
       "    .dataframe tbody tr th:only-of-type {\n",
       "        vertical-align: middle;\n",
       "    }\n",
       "\n",
       "    .dataframe tbody tr th {\n",
       "        vertical-align: top;\n",
       "    }\n",
       "\n",
       "    .dataframe thead th {\n",
       "        text-align: right;\n",
       "    }\n",
       "</style>\n",
       "<table border=\"1\" class=\"dataframe\">\n",
       "  <thead>\n",
       "    <tr style=\"text-align: right;\">\n",
       "      <th></th>\n",
       "      <th>title</th>\n",
       "      <th>description</th>\n",
       "      <th>ingredients</th>\n",
       "      <th>image</th>\n",
       "    </tr>\n",
       "    <tr>\n",
       "      <th>id</th>\n",
       "      <th></th>\n",
       "      <th></th>\n",
       "      <th></th>\n",
       "      <th></th>\n",
       "    </tr>\n",
       "  </thead>\n",
       "  <tbody>\n",
       "    <tr>\n",
       "      <th>1</th>\n",
       "      <td>Black Coffee</td>\n",
       "      <td>Svart kaffe är så enkelt som det kan bli med m...</td>\n",
       "      <td>[Coffee]</td>\n",
       "      <td>https://images.unsplash.com/photo-149431467190...</td>\n",
       "    </tr>\n",
       "    <tr>\n",
       "      <th>2</th>\n",
       "      <td>Latte</td>\n",
       "      <td>Som den mest populära kaffedrycken där ute bes...</td>\n",
       "      <td>[Espresso, Ångad mjölk]</td>\n",
       "      <td>https://images.unsplash.com/photo-1561882468-9...</td>\n",
       "    </tr>\n",
       "    <tr>\n",
       "      <th>3</th>\n",
       "      <td>Caramel Latte</td>\n",
       "      <td>Om du gillar latte med en speciell smak kan ka...</td>\n",
       "      <td>[Espresso, Ångad mjölk, Karamellsirap]</td>\n",
       "      <td>https://images.unsplash.com/photo-159939805406...</td>\n",
       "    </tr>\n",
       "    <tr>\n",
       "      <th>4</th>\n",
       "      <td>Cappuccino</td>\n",
       "      <td>Cappuccino är en latte som är gjord med mer sk...</td>\n",
       "      <td>[Espresso, Ångad mjölk, Foam]</td>\n",
       "      <td>https://images.unsplash.com/photo-1557006021-b...</td>\n",
       "    </tr>\n",
       "    <tr>\n",
       "      <th>5</th>\n",
       "      <td>Americano</td>\n",
       "      <td>Med en liknande smak som svart kaffe består am...</td>\n",
       "      <td>[Espresso, Hett vatten]</td>\n",
       "      <td>https://images.unsplash.com/photo-153200449149...</td>\n",
       "    </tr>\n",
       "    <tr>\n",
       "      <th>6</th>\n",
       "      <td>Espresso</td>\n",
       "      <td>Ett espressoskott kan serveras ensamt eller an...</td>\n",
       "      <td>[Espresso]</td>\n",
       "      <td>https://images.unsplash.com/photo-157999235715...</td>\n",
       "    </tr>\n",
       "    <tr>\n",
       "      <th>7</th>\n",
       "      <td>Macchiato</td>\n",
       "      <td>Macchiaton är en annan espresso-baserad dryck ...</td>\n",
       "      <td>[Espresso, Foam]</td>\n",
       "      <td>https://images.unsplash.com/photo-1557772611-7...</td>\n",
       "    </tr>\n",
       "    <tr>\n",
       "      <th>8</th>\n",
       "      <td>Mocha</td>\n",
       "      <td>För alla chokladälskare där ute kommer ni att ...</td>\n",
       "      <td>[Espresso, Ångad mjölk, Choklad]</td>\n",
       "      <td>https://images.unsplash.com/photo-160726055077...</td>\n",
       "    </tr>\n",
       "    <tr>\n",
       "      <th>9</th>\n",
       "      <td>Hot Chocolate</td>\n",
       "      <td>Under kalla vinterdagar får en kopp varm chokl...</td>\n",
       "      <td>[Choklad, Mjölk]</td>\n",
       "      <td>https://images.unsplash.com/photo-1542990253-0...</td>\n",
       "    </tr>\n",
       "    <tr>\n",
       "      <th>10</th>\n",
       "      <td>Chai Latte</td>\n",
       "      <td>Om du letar efter en smakfull varm dryck mitt ...</td>\n",
       "      <td>[Te, Mjölk, Ingefära, Kardemumma, Kanel]</td>\n",
       "      <td>https://images.unsplash.com/photo-157889995210...</td>\n",
       "    </tr>\n",
       "    <tr>\n",
       "      <th>11</th>\n",
       "      <td>Matcha Latte</td>\n",
       "      <td>Matcha latte är en grön, hälsosam kaffedryck m...</td>\n",
       "      <td>[Matcha-pulver, Mjölk, Socker*]</td>\n",
       "      <td>https://images.unsplash.com/photo-153625626395...</td>\n",
       "    </tr>\n",
       "    <tr>\n",
       "      <th>12</th>\n",
       "      <td>Seasonal Brew</td>\n",
       "      <td>Säsongs kaffe med olika smaktoner som karamell...</td>\n",
       "      <td>[Kaffe]</td>\n",
       "      <td>https://images.unsplash.com/photo-161116245832...</td>\n",
       "    </tr>\n",
       "    <tr>\n",
       "      <th>13</th>\n",
       "      <td>Svart Te</td>\n",
       "      <td>Svart te föddes i Kina. Det är tillverkat av b...</td>\n",
       "      <td>[Te]</td>\n",
       "      <td>https://images.unsplash.com/photo-157609276824...</td>\n",
       "    </tr>\n",
       "    <tr>\n",
       "      <th>14</th>\n",
       "      <td>Islatte</td>\n",
       "      <td>Iced latte är en kyld kaffedryck som görs geno...</td>\n",
       "      <td>[Espresso, Mjölk, Is, Sirap]</td>\n",
       "      <td>https://images.unsplash.com/photo-151770155092...</td>\n",
       "    </tr>\n",
       "    <tr>\n",
       "      <th>15</th>\n",
       "      <td>Islatte Mocha</td>\n",
       "      <td>Iced latte Mocha är en kombination av latte oc...</td>\n",
       "      <td>[Espresso, Is, Mjölk, Choklad ]</td>\n",
       "      <td>https://images.unsplash.com/photo-164264739107...</td>\n",
       "    </tr>\n",
       "    <tr>\n",
       "      <th>16</th>\n",
       "      <td>Frapino Caramel</td>\n",
       "      <td>Det är en blandad eller bättre sagt skakad kaf...</td>\n",
       "      <td>[coffee, Is, Mjölk, Karamellsirap, Vispgrädde*...</td>\n",
       "      <td>https://images.unsplash.com/photo-166204710260...</td>\n",
       "    </tr>\n",
       "    <tr>\n",
       "      <th>17</th>\n",
       "      <td>Frapino Mocka</td>\n",
       "      <td>Ännu en berömd och utsökt kall dryck för dem s...</td>\n",
       "      <td>[Coffee, Is, Mjölk, Cocoa, Vispgrädde*]</td>\n",
       "      <td>https://images.unsplash.com/photo-153037323921...</td>\n",
       "    </tr>\n",
       "    <tr>\n",
       "      <th>18</th>\n",
       "      <td>Apelsinjuice</td>\n",
       "      <td>Vi har inget att säga om vår nypressade apelsi...</td>\n",
       "      <td>[Färska Apelsiner, Is]</td>\n",
       "      <td>https://images.unsplash.com/photo-160027188674...</td>\n",
       "    </tr>\n",
       "    <tr>\n",
       "      <th>19</th>\n",
       "      <td>Frozen Lemonade</td>\n",
       "      <td>Frozen lemonade är en uppfriskande sommardryck...</td>\n",
       "      <td>[Citronsaft, Is, Socker*]</td>\n",
       "      <td>https://images.unsplash.com/photo-152337105410...</td>\n",
       "    </tr>\n",
       "    <tr>\n",
       "      <th>20</th>\n",
       "      <td>Lemonad</td>\n",
       "      <td>Var känd i Paris först och blev sedan mycket p...</td>\n",
       "      <td>[Citronsaft, Kolsyrat vatten, Honung]</td>\n",
       "      <td>https://images.unsplash.com/photo-162126376492...</td>\n",
       "    </tr>\n",
       "  </tbody>\n",
       "</table>\n",
       "</div>"
      ],
      "text/plain": [
       "              title                                        description  \\\n",
       "id                                                                       \n",
       "1      Black Coffee  Svart kaffe är så enkelt som det kan bli med m...   \n",
       "2             Latte  Som den mest populära kaffedrycken där ute bes...   \n",
       "3     Caramel Latte  Om du gillar latte med en speciell smak kan ka...   \n",
       "4        Cappuccino  Cappuccino är en latte som är gjord med mer sk...   \n",
       "5         Americano  Med en liknande smak som svart kaffe består am...   \n",
       "6          Espresso  Ett espressoskott kan serveras ensamt eller an...   \n",
       "7         Macchiato  Macchiaton är en annan espresso-baserad dryck ...   \n",
       "8             Mocha  För alla chokladälskare där ute kommer ni att ...   \n",
       "9     Hot Chocolate  Under kalla vinterdagar får en kopp varm chokl...   \n",
       "10       Chai Latte  Om du letar efter en smakfull varm dryck mitt ...   \n",
       "11     Matcha Latte  Matcha latte är en grön, hälsosam kaffedryck m...   \n",
       "12    Seasonal Brew  Säsongs kaffe med olika smaktoner som karamell...   \n",
       "13         Svart Te  Svart te föddes i Kina. Det är tillverkat av b...   \n",
       "14          Islatte  Iced latte är en kyld kaffedryck som görs geno...   \n",
       "15    Islatte Mocha  Iced latte Mocha är en kombination av latte oc...   \n",
       "16  Frapino Caramel  Det är en blandad eller bättre sagt skakad kaf...   \n",
       "17    Frapino Mocka  Ännu en berömd och utsökt kall dryck för dem s...   \n",
       "18     Apelsinjuice  Vi har inget att säga om vår nypressade apelsi...   \n",
       "19  Frozen Lemonade  Frozen lemonade är en uppfriskande sommardryck...   \n",
       "20          Lemonad  Var känd i Paris först och blev sedan mycket p...   \n",
       "\n",
       "                                          ingredients  \\\n",
       "id                                                      \n",
       "1                                            [Coffee]   \n",
       "2                             [Espresso, Ångad mjölk]   \n",
       "3              [Espresso, Ångad mjölk, Karamellsirap]   \n",
       "4                       [Espresso, Ångad mjölk, Foam]   \n",
       "5                             [Espresso, Hett vatten]   \n",
       "6                                          [Espresso]   \n",
       "7                                    [Espresso, Foam]   \n",
       "8                    [Espresso, Ångad mjölk, Choklad]   \n",
       "9                                    [Choklad, Mjölk]   \n",
       "10           [Te, Mjölk, Ingefära, Kardemumma, Kanel]   \n",
       "11                    [Matcha-pulver, Mjölk, Socker*]   \n",
       "12                                            [Kaffe]   \n",
       "13                                               [Te]   \n",
       "14                       [Espresso, Mjölk, Is, Sirap]   \n",
       "15                    [Espresso, Is, Mjölk, Choklad ]   \n",
       "16  [coffee, Is, Mjölk, Karamellsirap, Vispgrädde*...   \n",
       "17            [Coffee, Is, Mjölk, Cocoa, Vispgrädde*]   \n",
       "18                             [Färska Apelsiner, Is]   \n",
       "19                          [Citronsaft, Is, Socker*]   \n",
       "20              [Citronsaft, Kolsyrat vatten, Honung]   \n",
       "\n",
       "                                                image  \n",
       "id                                                     \n",
       "1   https://images.unsplash.com/photo-149431467190...  \n",
       "2   https://images.unsplash.com/photo-1561882468-9...  \n",
       "3   https://images.unsplash.com/photo-159939805406...  \n",
       "4   https://images.unsplash.com/photo-1557006021-b...  \n",
       "5   https://images.unsplash.com/photo-153200449149...  \n",
       "6   https://images.unsplash.com/photo-157999235715...  \n",
       "7   https://images.unsplash.com/photo-1557772611-7...  \n",
       "8   https://images.unsplash.com/photo-160726055077...  \n",
       "9   https://images.unsplash.com/photo-1542990253-0...  \n",
       "10  https://images.unsplash.com/photo-157889995210...  \n",
       "11  https://images.unsplash.com/photo-153625626395...  \n",
       "12  https://images.unsplash.com/photo-161116245832...  \n",
       "13  https://images.unsplash.com/photo-157609276824...  \n",
       "14  https://images.unsplash.com/photo-151770155092...  \n",
       "15  https://images.unsplash.com/photo-164264739107...  \n",
       "16  https://images.unsplash.com/photo-166204710260...  \n",
       "17  https://images.unsplash.com/photo-153037323921...  \n",
       "18  https://images.unsplash.com/photo-160027188674...  \n",
       "19  https://images.unsplash.com/photo-152337105410...  \n",
       "20  https://images.unsplash.com/photo-162126376492...  "
      ]
     },
     "execution_count": 15,
     "metadata": {},
     "output_type": "execute_result"
    }
   ],
   "source": [
    "# ++EXTRA\n",
    "# We can choose a column as Dataframe index\n",
    "df_cafe = df_cafe.set_index('id')\n",
    "df_cafe"
   ]
  },
  {
   "cell_type": "code",
   "execution_count": 16,
   "id": "69026c49-17fa-4056-a44f-68ff6b415a06",
   "metadata": {},
   "outputs": [
    {
     "data": {
      "text/plain": [
       "[{'id': 1,\n",
       "  'title': 'Inside Out',\n",
       "  'posterURL': 'https://m.media-amazon.com/images/M/MV5BOTgxMDQwMDk0OF5BMl5BanBnXkFtZTgwNjU5OTg2NDE@._V1_SX300.jpg',\n",
       "  'imdbId': 'tt2096673'},\n",
       " {'id': 2,\n",
       "  'title': 'Coco',\n",
       "  'posterURL': 'https://m.media-amazon.com/images/M/MV5BYjQ5NjM0Y2YtNjZkNC00ZDhkLWJjMWItN2QyNzFkMDE3ZjAxXkEyXkFqcGdeQXVyODIxMzk5NjA@._V1_SX300.jpg',\n",
       "  'imdbId': 'tt2380307'},\n",
       " {'id': 3,\n",
       "  'title': 'Incredibles 2',\n",
       "  'posterURL': 'https://m.media-amazon.com/images/M/MV5BMTEzNzY0OTg0NTdeQTJeQWpwZ15BbWU4MDU3OTg3MjUz._V1_SX300.jpg',\n",
       "  'imdbId': 'tt3606756'},\n",
       " {'id': 4,\n",
       "  'title': 'Snow White and the Seven Dwarfs',\n",
       "  'posterURL': 'https://m.media-amazon.com/images/M/MV5BMTQwMzE2Mzc4M15BMl5BanBnXkFtZTcwMTE4NTc1Nw@@._V1_SX300.jpg',\n",
       "  'imdbId': 'tt0029583'},\n",
       " {'id': 5,\n",
       "  'title': 'Zootopia',\n",
       "  'posterURL': 'https://m.media-amazon.com/images/M/MV5BOTMyMjEyNzIzMV5BMl5BanBnXkFtZTgwNzIyNjU0NzE@._V1_SX300.jpg',\n",
       "  'imdbId': 'tt2948356'},\n",
       " {'id': 6,\n",
       "  'title': 'Toy Story 2',\n",
       "  'posterURL': 'https://m.media-amazon.com/images/M/MV5BMWM5ZDcxMTYtNTEyNS00MDRkLWI3YTItNThmMGExMWY4NDIwXkEyXkFqcGdeQXVyNjUwNzk3NDc@._V1_SX300.jpg',\n",
       "  'imdbId': 'tt0120363'},\n",
       " {'id': 7,\n",
       "  'title': 'Up',\n",
       "  'posterURL': 'https://m.media-amazon.com/images/M/MV5BMTk3NDE2NzI4NF5BMl5BanBnXkFtZTgwNzE1MzEyMTE@._V1_SX300.jpg',\n",
       "  'imdbId': 'tt1049413'},\n",
       " {'id': 8,\n",
       "  'title': 'Toy Story 3',\n",
       "  'posterURL': 'https://m.media-amazon.com/images/M/MV5BMTgxOTY4Mjc0MF5BMl5BanBnXkFtZTcwNTA4MDQyMw@@._V1_SX300.jpg',\n",
       "  'imdbId': 'tt0435761'},\n",
       " {'id': 9,\n",
       "  'title': 'Finding Nemo',\n",
       "  'posterURL': 'https://m.media-amazon.com/images/M/MV5BZTAzNWZlNmUtZDEzYi00ZjA5LWIwYjEtZGM1NWE1MjE4YWRhXkEyXkFqcGdeQXVyNjU0OTQ0OTY@._V1_SX300.jpg',\n",
       "  'imdbId': 'tt0266543'},\n",
       " {'id': 10,\n",
       "  'title': 'Finding Dory',\n",
       "  'posterURL': 'https://m.media-amazon.com/images/M/MV5BNzg4MjM2NDQ4MV5BMl5BanBnXkFtZTgwMzk3MTgyODE@._V1_SX300.jpg',\n",
       "  'imdbId': 'tt2277860'},\n",
       " {'id': 11,\n",
       "  'title': 'Pinocchio',\n",
       "  'posterURL': 'https://m.media-amazon.com/images/M/MV5BMTU4Mzk3ODIyOF5BMl5BanBnXkFtZTgwODgyNzk2NjE@._V1_SX300.jpg',\n",
       "  'imdbId': 'tt0032910'},\n",
       " {'id': 12,\n",
       "  'title': 'Moana',\n",
       "  'posterURL': 'https://m.media-amazon.com/images/M/MV5BMjI4MzU5NTExNF5BMl5BanBnXkFtZTgwNzY1MTEwMDI@._V1_SX300.jpg',\n",
       "  'imdbId': 'tt3521164'},\n",
       " {'id': 13,\n",
       "  'title': 'Toy Story',\n",
       "  'posterURL': 'https://m.media-amazon.com/images/M/MV5BMDU2ZWJlMjktMTRhMy00ZTA5LWEzNDgtYmNmZTEwZTViZWJkXkEyXkFqcGdeQXVyNDQ2OTk4MzI@._V1_SX300.jpg',\n",
       "  'imdbId': 'tt0114709'},\n",
       " {'id': 14,\n",
       "  'title': 'Kubo and the Two Strings',\n",
       "  'posterURL': 'https://m.media-amazon.com/images/M/MV5BMjA2Mzg2NDMzNl5BMl5BanBnXkFtZTgwMjcwODUzOTE@._V1_SX300.jpg',\n",
       "  'imdbId': 'tt4302938'},\n",
       " {'id': 15,\n",
       "  'title': 'How to Train Your Dragon',\n",
       "  'posterURL': 'https://m.media-amazon.com/images/M/MV5BMjA5NDQyMjc2NF5BMl5BanBnXkFtZTcwMjg5ODcyMw@@._V1_SX300.jpg',\n",
       "  'imdbId': 'tt0892769'},\n",
       " {'id': 16,\n",
       "  'title': 'Shaun the Sheep Movie',\n",
       "  'posterURL': 'https://m.media-amazon.com/images/M/MV5BOTc1ODY5MTQ1Nl5BMl5BanBnXkFtZTgwMDM5ODI1NjE@._V1_SX300.jpg',\n",
       "  'imdbId': 'tt2872750'},\n",
       " {'id': 17,\n",
       "  'title': 'Isle of Dogs',\n",
       "  'posterURL': 'https://m.media-amazon.com/images/M/MV5BMTYyOTUwNjAxM15BMl5BanBnXkFtZTgwODcyMzE0NDM@._V1_SX300.jpg',\n",
       "  'imdbId': 'tt5104604'},\n",
       " {'id': 18,\n",
       "  'title': 'Dumbo',\n",
       "  'posterURL': 'https://m.media-amazon.com/images/M/MV5BNWVmNWQ2OTQtNzJlNC00ZmQwLTg4ZTktZTNmM2IxZTlkOGM3L2ltYWdlXkEyXkFqcGdeQXVyNTAyODkwOQ@@._V1_SX300.jpg',\n",
       "  'imdbId': 'tt0033563'},\n",
       " {'id': 19,\n",
       "  'title': 'WALL-E',\n",
       "  'posterURL': 'https://m.media-amazon.com/images/M/MV5BMjExMTg5OTU0NF5BMl5BanBnXkFtZTcwMjMxMzMzMw@@._V1_SX300.jpg',\n",
       "  'imdbId': 'tt0910970'},\n",
       " {'id': 20,\n",
       "  'title': 'The Lego Movie',\n",
       "  'posterURL': 'https://m.media-amazon.com/images/M/MV5BMTg4MDk1ODExN15BMl5BanBnXkFtZTgwNzIyNjg3MDE@._V1_SX300.jpg',\n",
       "  'imdbId': 'tt1490017'},\n",
       " {'id': 21,\n",
       "  'title': 'Ratatouille',\n",
       "  'posterURL': 'https://m.media-amazon.com/images/M/MV5BMTMzODU0NTkxMF5BMl5BanBnXkFtZTcwMjQ4MzMzMw@@._V1_SX300.jpg',\n",
       "  'imdbId': 'tt0382932'},\n",
       " {'id': 22,\n",
       "  'title': 'The Incredibles',\n",
       "  'posterURL': 'https://m.media-amazon.com/images/M/MV5BMTY5OTU0OTc2NV5BMl5BanBnXkFtZTcwMzU4MDcyMQ@@._V1_SX300.jpg',\n",
       "  'imdbId': 'tt0317705'},\n",
       " {'id': 23,\n",
       "  'title': 'Only Yesterday',\n",
       "  'posterURL': 'https://m.media-amazon.com/images/M/MV5BMTY5NjI2MjQxMl5BMl5BanBnXkFtZTgwMDA2MzM2NzE@._V1_SX300.jpg',\n",
       "  'imdbId': 'tt0102587'},\n",
       " {'id': 24,\n",
       "  'title': 'Yellow Submarine',\n",
       "  'posterURL': 'https://m.media-amazon.com/images/M/MV5BMGExODFmMjQtZTgxOC00ZDE0LWJmM2MtOTQzM2YzNDZlMzNmL2ltYWdlL2ltYWdlXkEyXkFqcGdeQXVyNjc1NTYyMjg@._V1_SX300.jpg',\n",
       "  'imdbId': 'tt0063823'},\n",
       " {'id': 25,\n",
       "  'title': 'Beauty and the Beast',\n",
       "  'posterURL': 'https://m.media-amazon.com/images/M/MV5BMzE5MDM1NDktY2I0OC00YWI5LTk2NzUtYjczNDczOWQxYjM0XkEyXkFqcGdeQXVyMTQxNzMzNDI@._V1_SX300.jpg',\n",
       "  'imdbId': 'tt0101414'},\n",
       " {'id': 26,\n",
       "  'title': 'Chicken Run',\n",
       "  'posterURL': 'https://m.media-amazon.com/images/M/MV5BY2UyYjFkNzAtYzIyMC00MGI1LTlkNDktNzUyOGQ5NTI2ZGFjXkEyXkFqcGdeQXVyNTUyMzE4Mzg@._V1_SX300.jpg',\n",
       "  'imdbId': 'tt0120630'},\n",
       " {'id': 27,\n",
       "  'title': 'The Lego Batman Movie',\n",
       "  'posterURL': 'https://m.media-amazon.com/images/M/MV5BMTcyNTEyOTY0M15BMl5BanBnXkFtZTgwOTAyNzU3MDI@._V1_SX300.jpg',\n",
       "  'imdbId': 'tt4116284'},\n",
       " {'id': 28,\n",
       "  'title': 'The Nightmare Before Christmas',\n",
       "  'posterURL': 'https://m.media-amazon.com/images/M/MV5BNWE4OTNiM2ItMjY4Ni00ZTViLWFiZmEtZGEyNGY2ZmNlMzIyXkEyXkFqcGdeQXVyMDU5NDcxNw@@._V1_SX300.jpg',\n",
       "  'imdbId': 'tt0107688'},\n",
       " {'id': 29,\n",
       "  'title': 'Monsters, Inc.',\n",
       "  'posterURL': 'https://m.media-amazon.com/images/M/MV5BMTY1NTI0ODUyOF5BMl5BanBnXkFtZTgwNTEyNjQ0MDE@._V1_SX300.jpg',\n",
       "  'imdbId': 'tt0198781'},\n",
       " {'id': 30,\n",
       "  'title': 'The Iron Giant',\n",
       "  'posterURL': 'https://m.media-amazon.com/images/M/MV5BMjIxNDU2Njk0OV5BMl5BanBnXkFtZTgwODc3Njc3NjE@._V1_SX300.jpg',\n",
       "  'imdbId': 'tt0129167'},\n",
       " {'id': 31,\n",
       "  'title': 'Tower',\n",
       "  'posterURL': 'https://m.media-amazon.com/images/M/MV5BNjI1Nzg3NTgyOV5BMl5BanBnXkFtZTgwNzIwMjIxMDI@._V1_SX300.jpg',\n",
       "  'imdbId': 'tt5116410'},\n",
       " {'id': 32,\n",
       "  'title': 'Anomalisa',\n",
       "  'posterURL': 'https://m.media-amazon.com/images/M/MV5BMTkyMzI2MzQ1N15BMl5BanBnXkFtZTgwNDg0MzQxNzE@._V1_SX300.jpg',\n",
       "  'imdbId': 'tt2401878'},\n",
       " {'id': 33,\n",
       "  'title': 'Song of the Sea',\n",
       "  'posterURL': 'https://m.media-amazon.com/images/M/MV5BMTQ2MDMwNjEwNV5BMl5BanBnXkFtZTgwOTkxMzI0MzE@._V1_SX300.jpg',\n",
       "  'imdbId': 'tt1865505'},\n",
       " {'id': 34,\n",
       "  'title': 'The Lion King',\n",
       "  'posterURL': 'https://m.media-amazon.com/images/M/MV5BYTYxNGMyZTYtMjE3MS00MzNjLWFjNmYtMDk3N2FmM2JiM2M1XkEyXkFqcGdeQXVyNjY5NDU4NzI@._V1_SX300.jpg',\n",
       "  'imdbId': 'tt0110357'},\n",
       " {'id': 35,\n",
       "  'title': 'Who Framed Roger Rabbit',\n",
       "  'posterURL': 'https://m.media-amazon.com/images/M/MV5BMDhiOTM2OTctODk3Ny00NWI4LThhZDgtNGQ4NjRiYjFkZGQzXkEyXkFqcGdeQXVyMTA0MjU0Ng@@._V1_SX300.jpg',\n",
       "  'imdbId': 'tt0096438'},\n",
       " {'id': 36,\n",
       "  'title': 'Waltz with Bashir',\n",
       "  'posterURL': 'https://m.media-amazon.com/images/M/MV5BNjM2OTI3NzQyNl5BMl5BanBnXkFtZTcwNjkzNzQ5MQ@@._V1_SX300.jpg',\n",
       "  'imdbId': 'tt1185616'},\n",
       " {'id': 37,\n",
       "  'title': 'Persepolis',\n",
       "  'posterURL': 'https://m.media-amazon.com/images/M/MV5BMGRkZThmYzEtYjQxZC00OWEzLThjYjAtYzFkMjY0NGZkZWI4XkEyXkFqcGdeQXVyNTAyODkwOQ@@._V1_SX300.jpg',\n",
       "  'imdbId': 'tt0808417'},\n",
       " {'id': 38,\n",
       "  'title': 'Wallace & Gromit: The Curse of the Were-Rabbit',\n",
       "  'posterURL': 'https://m.media-amazon.com/images/M/MV5BMTk1NzIwNTM1NV5BMl5BanBnXkFtZTcwMDA1NzkyMw@@._V1_SX300.jpg',\n",
       "  'imdbId': 'tt0312004'},\n",
       " {'id': 39,\n",
       "  'title': 'Fantasia',\n",
       "  'posterURL': 'https://m.media-amazon.com/images/M/MV5BYjhlYzNkOGEtZjNkZC00OTQ4LWJiMzEtMTM3YzBiM2FkMDUxXkEyXkFqcGdeQXVyNzY1NDgwNjQ@._V1_SX300.jpg',\n",
       "  'imdbId': 'tt0032455'},\n",
       " {'id': 40,\n",
       "  'title': 'Fantastic Mr. Fox',\n",
       "  'posterURL': 'https://m.media-amazon.com/images/M/MV5BOGUwYTU4NGEtNDM4MS00NDRjLTkwNmQtOTkwMWMyMjhmMjdlXkEyXkFqcGdeQXVyMTMxODk2OTU@._V1_SX300.jpg',\n",
       "  'imdbId': 'tt0432283'},\n",
       " {'id': 41,\n",
       "  'title': 'Aladdin',\n",
       "  'posterURL': 'https://m.media-amazon.com/images/M/MV5BY2Q2NDI1MjUtM2Q5ZS00MTFlLWJiYWEtNTZmNjQ3OGJkZDgxXkEyXkFqcGdeQXVyNTI4MjkwNjA@._V1_SX300.jpg',\n",
       "  'imdbId': 'tt0103639'},\n",
       " {'id': 42,\n",
       "  'title': 'Frozen',\n",
       "  'posterURL': 'https://m.media-amazon.com/images/M/MV5BMTQ1MjQwMTE5OF5BMl5BanBnXkFtZTgwNjk3MTcyMDE@._V1_SX300.jpg',\n",
       "  'imdbId': 'tt2294629'},\n",
       " {'id': 43,\n",
       "  'title': 'How to Train Your Dragon 2',\n",
       "  'posterURL': 'https://m.media-amazon.com/images/M/MV5BMzMwMTAwODczN15BMl5BanBnXkFtZTgwMDk2NDA4MTE@._V1_SX300.jpg',\n",
       "  'imdbId': 'tt1646971'},\n",
       " {'id': 44,\n",
       "  'title': 'The Breadwinner',\n",
       "  'posterURL': 'https://m.media-amazon.com/images/M/MV5BMWM2MzQ4YTAtMTBkZS00ODA1LWFmNTEtMjEwNzk3ZGJiZDc3XkEyXkFqcGdeQXVyMjM4NTM5NDY@._V1_SX300.jpg',\n",
       "  'imdbId': 'tt3901826'},\n",
       " {'id': 45,\n",
       "  'title': 'Coraline',\n",
       "  'posterURL': 'https://m.media-amazon.com/images/M/MV5BMzQxNjM5NzkxNV5BMl5BanBnXkFtZTcwMzg5NDMwMg@@._V1_SX300.jpg',\n",
       "  'imdbId': 'tt0327597'},\n",
       " {'id': 46,\n",
       "  'title': 'The Little Mermaid',\n",
       "  'posterURL': 'https://m.media-amazon.com/images/M/MV5BN2JlZTBhYTEtZDE3OC00NTA3LTk5NTQtNjg5M2RjODllM2M0XkEyXkFqcGdeQXVyNjk1Njg5NTA@._V1_SX300.jpg',\n",
       "  'imdbId': 'tt0097757'},\n",
       " {'id': 47,\n",
       "  'title': 'Lady and the Tramp',\n",
       "  'posterURL': 'https://m.media-amazon.com/images/M/MV5BYTI1ZDc1OTItM2EzNS00ODMxLWIxYzctOTc5YWNiYzI3NGZiXkEyXkFqcGdeQXVyNDE5MTU2MDE@._V1_SX300.jpg',\n",
       "  'imdbId': 'tt0048280'},\n",
       " {'id': 48,\n",
       "  'title': 'Antz',\n",
       "  'posterURL': 'https://m.media-amazon.com/images/M/MV5BMzMzMDdlMDktODg4OC00Y2E5LTk1ZjMtNzM2MzIxZGQ0ZGI3XkEyXkFqcGdeQXVyMTQxNzMzNDI@._V1_SX300.jpg',\n",
       "  'imdbId': 'tt0120587'},\n",
       " {'id': 49,\n",
       "  'title': 'The Triplets of Belleville',\n",
       "  'posterURL': 'https://m.media-amazon.com/images/M/MV5BMjAzMzUxNzc5M15BMl5BanBnXkFtZTgwODc2NDE2MDE@._V1_SX300.jpg',\n",
       "  'imdbId': 'tt0286244'},\n",
       " {'id': 50,\n",
       "  'title': 'Bambi',\n",
       "  'posterURL': 'https://m.media-amazon.com/images/M/MV5BMTY1NzM4NDg5MV5BMl5BanBnXkFtZTgwMjI1MTkzMjE@._V1_SX300.jpg',\n",
       "  'imdbId': 'tt0034492'},\n",
       " {'id': 51,\n",
       "  'title': 'My Neighbor Totoro',\n",
       "  'posterURL': 'https://m.media-amazon.com/images/M/MV5BNTdiOTQ0YmUtOGE3YS00NDg5LWI3YTEtNDAxZmE0MzRmZWM5L2ltYWdlXkEyXkFqcGdeQXVyNTAyODkwOQ@@._V1_SX300.jpg',\n",
       "  'imdbId': 'tt0096283'},\n",
       " {'id': 52,\n",
       "  'title': 'Big Hero 6',\n",
       "  'posterURL': 'https://m.media-amazon.com/images/M/MV5BMDliOTIzNmUtOTllOC00NDU3LWFiNjYtMGM0NDc1YTMxNjYxXkEyXkFqcGdeQXVyNTM3NzExMDQ@._V1_SX300.jpg',\n",
       "  'imdbId': 'tt2245084'},\n",
       " {'id': 53,\n",
       "  'title': 'Arthur Christmas',\n",
       "  'posterURL': 'https://m.media-amazon.com/images/M/MV5BMTYyMjMyMzEzMl5BMl5BanBnXkFtZTcwMDg4NTM5Ng@@._V1_SX300.jpg',\n",
       "  'imdbId': 'tt1430607'},\n",
       " {'id': 54,\n",
       "  'title': \"A Bug's Life\",\n",
       "  'posterURL': 'https://m.media-amazon.com/images/M/MV5BNThmZGY4NzgtMTM4OC00NzNkLWEwNmEtMjdhMGY5YTc1NDE4XkEyXkFqcGdeQXVyMTQxNzMzNDI@._V1_SX300.jpg',\n",
       "  'imdbId': 'tt0120623'},\n",
       " {'id': 55,\n",
       "  'title': 'Mary and Max',\n",
       "  'posterURL': 'https://m.media-amazon.com/images/M/MV5BMDgzYjQwMDMtNGUzYi00MTRmLWIyMGMtNjE1OGZkNzY2YWIzL2ltYWdlXkEyXkFqcGdeQXVyNjU0OTQ0OTY@._V1_SX300.jpg',\n",
       "  'imdbId': 'tt0978762'},\n",
       " {'id': 56,\n",
       "  'title': 'Teen Titans Go! To the Movies',\n",
       "  'posterURL': 'https://m.media-amazon.com/images/M/MV5BOTZhMTIwZDUtYjZjZS00MmViLTg3NzEtNWE5NzI1NDUwNDJmXkEyXkFqcGdeQXVyODQxMTI4MjM@._V1_SX300.jpg',\n",
       "  'imdbId': 'tt7424200'},\n",
       " {'id': 57,\n",
       "  'title': 'Bolt',\n",
       "  'posterURL': 'https://m.media-amazon.com/images/M/MV5BNDQyNDE5NjQ1N15BMl5BanBnXkFtZTcwMDExMTAwMg@@._V1_SX300.jpg',\n",
       "  'imdbId': 'tt0397892'},\n",
       " {'id': 58,\n",
       "  'title': 'Shrek 2',\n",
       "  'posterURL': 'https://m.media-amazon.com/images/M/MV5BMDJhMGRjN2QtNDUxYy00NGM3LThjNGQtMmZiZTRhNjM4YzUxL2ltYWdlL2ltYWdlXkEyXkFqcGdeQXVyMTQxNzMzNDI@._V1_SX300.jpg',\n",
       "  'imdbId': 'tt0298148'},\n",
       " {'id': 59,\n",
       "  'title': 'Tangled',\n",
       "  'posterURL': 'https://m.media-amazon.com/images/M/MV5BMTAxNDYxMjg0MjNeQTJeQWpwZ15BbWU3MDcyNTk2OTM@._V1_SX300.jpg',\n",
       "  'imdbId': 'tt0398286'},\n",
       " {'id': 60,\n",
       "  'title': 'The Simpsons Movie',\n",
       "  'posterURL': 'https://m.media-amazon.com/images/M/MV5BMTgxMDczMTA5N15BMl5BanBnXkFtZTcwMzk1MzMzMw@@._V1_SX300.jpg',\n",
       "  'imdbId': 'tt0462538'},\n",
       " {'id': 61,\n",
       "  'title': 'James and the Giant Peach',\n",
       "  'posterURL': 'https://m.media-amazon.com/images/M/MV5BMTNkNWIwNGUtNTJlOC00NDU3LTk0NWEtNjNjNDM4NzRiNThkXkEyXkFqcGdeQXVyMTQxNzMzNDI@._V1_SX300.jpg',\n",
       "  'imdbId': 'tt0116683'},\n",
       " {'id': 62,\n",
       "  'title': 'Shrek',\n",
       "  'posterURL': 'https://m.media-amazon.com/images/M/MV5BOGZhM2FhNTItODAzNi00YjA0LWEyN2UtNjJlYWQzYzU1MDg5L2ltYWdlL2ltYWdlXkEyXkFqcGdeQXVyMTQxNzMzNDI@._V1_SX300.jpg',\n",
       "  'imdbId': 'tt0126029'},\n",
       " {'id': 63,\n",
       "  'title': 'Frankenweenie',\n",
       "  'posterURL': 'https://m.media-amazon.com/images/M/MV5BY2UwYWI3MTktM2MxNC00MjRhLTlkMWEtYTNjMjRkOTIwOTkyXkEyXkFqcGdeQXVyNTAyODkwOQ@@._V1_SX300.jpg',\n",
       "  'imdbId': 'tt1142977'},\n",
       " {'id': 64,\n",
       "  'title': 'Sleeping Beauty',\n",
       "  'posterURL': 'https://m.media-amazon.com/images/M/MV5BOTJmZjA3MjMtMWNmZS00YTliLWFhMWUtZDU2NGJhNTlmY2ZkL2ltYWdlL2ltYWdlXkEyXkFqcGdeQXVyMTQxNzMzNDI@._V1_SX300.jpg',\n",
       "  'imdbId': 'tt0053285'},\n",
       " {'id': 65,\n",
       "  'title': 'Rango',\n",
       "  'posterURL': 'https://m.media-amazon.com/images/M/MV5BMTc4NjEyODE1OV5BMl5BanBnXkFtZTcwMjYzNTkxNA@@._V1_SX300.jpg',\n",
       "  'imdbId': 'tt1192628'},\n",
       " {'id': 66,\n",
       "  'title': 'Winnie the Pooh',\n",
       "  'posterURL': 'https://m.media-amazon.com/images/M/MV5BYzBlYTJkMGQtYzQ4MS00Zjk3LTk4MmEtYTZiNTEzNmRlMjUxXkEyXkFqcGdeQXVyMzI0NDc4ODY@._V1_SX300.jpg',\n",
       "  'imdbId': 'tt1449283'},\n",
       " {'id': 67,\n",
       "  'title': 'ParaNorman',\n",
       "  'posterURL': 'https://m.media-amazon.com/images/M/MV5BMjA1OTU1NDM3N15BMl5BanBnXkFtZTcwMjYxNTg0Nw@@._V1_SX300.jpg',\n",
       "  'imdbId': 'tt1623288'},\n",
       " {'id': 68,\n",
       "  'title': 'The Peanuts Movie',\n",
       "  'posterURL': 'https://m.media-amazon.com/images/M/MV5BNTE5NzMxNzkwNl5BMl5BanBnXkFtZTgwOTQ0Nzk5NzE@._V1_SX300.jpg',\n",
       "  'imdbId': 'tt2452042'},\n",
       " {'id': 69,\n",
       "  'title': 'Kung Fu Panda',\n",
       "  'posterURL': 'https://m.media-amazon.com/images/M/MV5BODJkZTZhMWItMDI3Yy00ZWZlLTk4NjQtOTI1ZjU5NjBjZTVjXkEyXkFqcGdeQXVyODE5NzE3OTE@._V1_SX300.jpg',\n",
       "  'imdbId': 'tt0441773'},\n",
       " {'id': 70,\n",
       "  'title': 'Tarzan',\n",
       "  'posterURL': 'https://m.media-amazon.com/images/M/MV5BY2ZiYWUxN2ItYmQxZi00NDlkLWE2NDAtOTNmYTg1MDI0NDk1XkEyXkFqcGdeQXVyNjUwNzk3NDc@._V1_SX300.jpg',\n",
       "  'imdbId': 'tt0120855'},\n",
       " {'id': 71,\n",
       "  'title': 'Wreck-It Ralph',\n",
       "  'posterURL': 'https://m.media-amazon.com/images/M/MV5BNzMxNTExOTkyMF5BMl5BanBnXkFtZTcwMzEyNDc0OA@@._V1_SX300.jpg',\n",
       "  'imdbId': 'tt1772341'},\n",
       " {'id': 72,\n",
       "  'title': 'Kung Fu Panda 3',\n",
       "  'posterURL': 'https://m.media-amazon.com/images/M/MV5BMTUyNzgxNjg2M15BMl5BanBnXkFtZTgwMTY1NDI1NjE@._V1_SX300.jpg',\n",
       "  'imdbId': 'tt2267968'},\n",
       " {'id': 73,\n",
       "  'title': 'Sausage Party',\n",
       "  'posterURL': 'https://m.media-amazon.com/images/M/MV5BMjkxOTk1MzY4MF5BMl5BanBnXkFtZTgwODQzOTU5ODE@._V1_SX300.jpg',\n",
       "  'imdbId': 'tt1700841'},\n",
       " {'id': 74,\n",
       "  'title': 'Akira',\n",
       "  'posterURL': 'https://m.media-amazon.com/images/M/MV5BM2ZiZTk1ODgtMTZkNS00NTYxLWIxZTUtNWExZGYwZTRjODViXkEyXkFqcGdeQXVyMTE2MzA3MDM@._V1_SX300.jpg',\n",
       "  'imdbId': 'tt0094625'},\n",
       " {'id': 75,\n",
       "  'title': 'Tokyo Godfathers',\n",
       "  'posterURL': 'https://m.media-amazon.com/images/M/MV5BYmJmMjFiY2ItNDBkZS00MGQyLWE3ZjQtZWMzNjQ5ZTA5YjcwL2ltYWdlL2ltYWdlXkEyXkFqcGdeQXVyMzM4MjM0Nzg@._V1_SX300.jpg',\n",
       "  'imdbId': 'tt0388473'},\n",
       " {'id': 76,\n",
       "  'title': 'The Pirates! Band of Misfits',\n",
       "  'posterURL': 'https://m.media-amazon.com/images/M/MV5BNDhkOGZkZWMtNGI4Mi00ZWI3LTgyYTgtMDU4ZDI3NTNjMWFiXkEyXkFqcGdeQXVyNjk1Njg5NTA@._V1_SX300.jpg',\n",
       "  'imdbId': 'tt1430626'},\n",
       " {'id': 77,\n",
       "  'title': 'The Princess and the Frog',\n",
       "  'posterURL': 'https://m.media-amazon.com/images/M/MV5BMjEyOTQ5NzAzNl5BMl5BanBnXkFtZTcwMTcyNTU1Mg@@._V1_SX300.jpg',\n",
       "  'imdbId': 'tt0780521'}]"
      ]
     },
     "execution_count": 16,
     "metadata": {},
     "output_type": "execute_result"
    }
   ],
   "source": [
    "# Change the endpoint and point to movies\n",
    "# https://sampleapis.com/api-list/movies\n",
    "# Choose the animation movies\n",
    "# Shows the result of the query\n",
    "endpoint = 'https://api.sampleapis.com/movies/animation'\n",
    "response = requests.get(endpoint)\n",
    "response.json()"
   ]
  },
  {
   "cell_type": "code",
   "execution_count": 17,
   "id": "1d1bf40a-f619-425c-906d-634cc3728daf",
   "metadata": {},
   "outputs": [
    {
     "data": {
      "text/plain": [
       "77"
      ]
     },
     "execution_count": 17,
     "metadata": {},
     "output_type": "execute_result"
    }
   ],
   "source": [
    "# Count or number of animated films\n",
    "len(response.json())"
   ]
  },
  {
   "cell_type": "code",
   "execution_count": 18,
   "id": "dd6fa827-4f59-497d-ac06-ab70c6a23692",
   "metadata": {},
   "outputs": [
    {
     "data": {
      "text/plain": [
       "{'Date': 'Tue, 03 Dec 2024 11:27:04 GMT', 'Content-Type': 'application/json; charset=utf-8', 'Transfer-Encoding': 'chunked', 'Connection': 'keep-alive', 'X-Powered-By': 'Express', 'Access-Control-Allow-Origin': '*', 'X-RateLimit-Limit': '5000', 'X-RateLimit-Remaining': '4826', 'X-RateLimit-Reset': '1733226011', 'X-Content-Type-Options': 'nosniff', 'ETag': 'W/\"3795-naZ/qSuX4cU2bymxM/WxSs534qA\"', 'CF-Cache-Status': 'DYNAMIC', 'Report-To': '{\"endpoints\":[{\"url\":\"https:\\\\/\\\\/a.nel.cloudflare.com\\\\/report\\\\/v4?s=Ntx5cNGJcuY1wRjgjmyylD96xw0Sz%2Fmpz4QW1VUBRyMfFjjYr0rSfUuwovcKqV0S%2ByK8DfqhxMdlRZz9a8iCKk9LAS6ah35mosVLB1o5eVcKT95nS2O%2BSzLOmxBM1nhoEnl6nLI%3D\"}],\"group\":\"cf-nel\",\"max_age\":604800}', 'NEL': '{\"success_fraction\":0,\"report_to\":\"cf-nel\",\"max_age\":604800}', 'Server': 'cloudflare', 'CF-RAY': '8ec334957879c901-MAD', 'Content-Encoding': 'gzip', 'alt-svc': 'h3=\":443\"; ma=86400', 'server-timing': 'cfL4;desc=\"?proto=TCP&rtt=19679&min_rtt=18982&rtt_var=6548&sent=4&recv=7&lost=0&retrans=0&sent_bytes=2847&recv_bytes=784&delivery_rate=131852&cwnd=231&unsent_bytes=0&cid=8968442a6ecbadd4&ts=171&x=0\"'}"
      ]
     },
     "execution_count": 18,
     "metadata": {},
     "output_type": "execute_result"
    }
   ],
   "source": [
    "# Check the type of server behind the API (consult the headers)\n",
    "response.headers"
   ]
  },
  {
   "cell_type": "code",
   "execution_count": 19,
   "id": "03cdec15",
   "metadata": {},
   "outputs": [
    {
     "data": {
      "text/plain": [
       "'cloudflare'"
      ]
     },
     "execution_count": 19,
     "metadata": {},
     "output_type": "execute_result"
    }
   ],
   "source": [
    "response.headers['Server']"
   ]
  },
  {
   "cell_type": "code",
   "execution_count": 20,
   "id": "72077c6c-0337-49eb-b3bf-e7c4e7124156",
   "metadata": {},
   "outputs": [
    {
     "data": {
      "text/plain": [
       "'cloudflare'"
      ]
     },
     "execution_count": 20,
     "metadata": {},
     "output_type": "execute_result"
    }
   ],
   "source": [
    "# Check if it is the same server used for the coffee API.\n",
    "endpoint = 'https://api.sampleapis.com/coffee/hot'\n",
    "response = requests.get(endpoint)\n",
    "response.headers['Server']"
   ]
  },
  {
   "cell_type": "code",
   "execution_count": 21,
   "id": "c2781912-fea4-4ea2-aae1-395dd614b076",
   "metadata": {},
   "outputs": [
    {
     "data": {
      "text/plain": [
       "'application/json; charset=utf-8'"
      ]
     },
     "execution_count": 21,
     "metadata": {},
     "output_type": "execute_result"
    }
   ],
   "source": [
    "# Consult the following header information: Content-Type\n",
    "response.headers['Content-Type']"
   ]
  },
  {
   "cell_type": "code",
   "execution_count": null,
   "id": "edf098f7",
   "metadata": {},
   "outputs": [],
   "source": []
  },
  {
   "cell_type": "markdown",
   "id": "de908d8d-f6ec-4c85-924c-00f7bbfabaf5",
   "metadata": {},
   "source": [
    "### Extra"
   ]
  },
  {
   "cell_type": "code",
   "execution_count": 22,
   "id": "009c1c23-3769-467d-a848-059ce9b660df",
   "metadata": {},
   "outputs": [
    {
     "data": {
      "text/plain": [
       "{'id': 1,\n",
       " 'title': 'Inside Out',\n",
       " 'posterURL': 'https://m.media-amazon.com/images/M/MV5BOTgxMDQwMDk0OF5BMl5BanBnXkFtZTgwNjU5OTg2NDE@._V1_SX300.jpg',\n",
       " 'imdbId': 'tt2096673'}"
      ]
     },
     "execution_count": 22,
     "metadata": {},
     "output_type": "execute_result"
    }
   ],
   "source": [
    "# Show the data of the first film\n",
    "endpoint = 'https://api.sampleapis.com/movies/animation'\n",
    "response = requests.get(endpoint)\n",
    "response.json()[0]"
   ]
  },
  {
   "cell_type": "code",
   "execution_count": 23,
   "id": "93148307-5955-4d18-9cb9-bc774ef93c73",
   "metadata": {},
   "outputs": [],
   "source": [
    "# Save the url of the image in a variable\n",
    "imaxeURL = response.json()[0]['posterURL']"
   ]
  },
  {
   "cell_type": "code",
   "execution_count": 24,
   "id": "68270a98-4933-4b77-ab0d-09eda9da24f1",
   "metadata": {},
   "outputs": [
    {
     "data": {
      "image/jpeg": "[encoded data removed]",
      "text/plain": [
       "<IPython.core.display.Image object>"
      ]
     },
     "execution_count": 24,
     "metadata": {},
     "output_type": "execute_result"
    }
   ],
   "source": [
    "# Show the image\n",
    "from IPython import display\n",
    "display.Image(imaxeURL)"
   ]
  },
  {
   "cell_type": "code",
   "execution_count": 26,
   "id": "cf24d3d7",
   "metadata": {},
   "outputs": [
    {
     "name": "stdout",
     "output_type": "stream",
     "text": [
      "{'id': 74, 'title': 'Akira', 'posterURL': 'https://m.media-amazon.com/images/M/MV5BM2ZiZTk1ODgtMTZkNS00NTYxLWIxZTUtNWExZGYwZTRjODViXkEyXkFqcGdeQXVyMTE2MzA3MDM@._V1_SX300.jpg', 'imdbId': 'tt0094625'}\n"
     ]
    }
   ],
   "source": [
    "# Iterate the results to show only 'Akira' movie (all data)\n",
    "for movie in response.json():\n",
    "    if movie['title']=='Akira':\n",
    "        print(movie)"
   ]
  },
  {
   "cell_type": "code",
   "execution_count": null,
   "id": "847c525b",
   "metadata": {},
   "outputs": [],
   "source": [
    "# Use jsonpath to get the same result: show only 'Akira' movie (all data)\n"
   ]
  },
  {
   "cell_type": "code",
   "execution_count": null,
   "id": "c567d417",
   "metadata": {},
   "outputs": [
    {
     "name": "stdout",
     "output_type": "stream",
     "text": [
      "Collecting jsonpath_ng\n",
      "  Downloading jsonpath_ng-1.7.0-py3-none-any.whl.metadata (18 kB)\n",
      "Collecting ply (from jsonpath_ng)\n",
      "  Downloading ply-3.11-py2.py3-none-any.whl.metadata (844 bytes)\n",
      "Downloading jsonpath_ng-1.7.0-py3-none-any.whl (30 kB)\n",
      "Downloading ply-3.11-py2.py3-none-any.whl (49 kB)\n",
      "Installing collected packages: ply, jsonpath_ng\n",
      "Successfully installed jsonpath_ng-1.7.0 ply-3.11\n"
     ]
    }
   ],
   "source": [
    "#!pip install jsonpath_ng"
   ]
  },
  {
   "cell_type": "code",
   "execution_count": 33,
   "id": "c76bb96f",
   "metadata": {},
   "outputs": [
    {
     "name": "stdout",
     "output_type": "stream",
     "text": [
      "['Inside Out', 'Coco', 'Incredibles 2', 'Snow White and the Seven Dwarfs', 'Zootopia', 'Toy Story 2', 'Up', 'Toy Story 3', 'Finding Nemo', 'Finding Dory', 'Pinocchio', 'Moana', 'Toy Story', 'Kubo and the Two Strings', 'How to Train Your Dragon', 'Shaun the Sheep Movie', 'Isle of Dogs', 'Dumbo', 'WALL-E', 'The Lego Movie', 'Ratatouille', 'The Incredibles', 'Only Yesterday', 'Yellow Submarine', 'Beauty and the Beast', 'Chicken Run', 'The Lego Batman Movie', 'The Nightmare Before Christmas', 'Monsters, Inc.', 'The Iron Giant', 'Tower', 'Anomalisa', 'Song of the Sea', 'The Lion King', 'Who Framed Roger Rabbit', 'Waltz with Bashir', 'Persepolis', 'Wallace & Gromit: The Curse of the Were-Rabbit', 'Fantasia', 'Fantastic Mr. Fox', 'Aladdin', 'Frozen', 'How to Train Your Dragon 2', 'The Breadwinner', 'Coraline', 'The Little Mermaid', 'Lady and the Tramp', 'Antz', 'The Triplets of Belleville', 'Bambi', 'My Neighbor Totoro', 'Big Hero 6', 'Arthur Christmas', \"A Bug's Life\", 'Mary and Max', 'Teen Titans Go! To the Movies', 'Bolt', 'Shrek 2', 'Tangled', 'The Simpsons Movie', 'James and the Giant Peach', 'Shrek', 'Frankenweenie', 'Sleeping Beauty', 'Rango', 'Winnie the Pooh', 'ParaNorman', 'The Peanuts Movie', 'Kung Fu Panda', 'Tarzan', 'Wreck-It Ralph', 'Kung Fu Panda 3', 'Sausage Party', 'Akira', 'Tokyo Godfathers', 'The Pirates! Band of Misfits', 'The Princess and the Frog']\n"
     ]
    }
   ],
   "source": [
    "from jsonpath_ng.ext import parse\n",
    "\n",
    "jsonpath_expr = parse('$[*].title')\n",
    "names = [match.value for match in jsonpath_expr.find(response.json())]\n",
    "print(names)\n"
   ]
  },
  {
   "cell_type": "code",
   "execution_count": null,
   "id": "a67d0f8b",
   "metadata": {},
   "outputs": [],
   "source": []
  },
  {
   "cell_type": "code",
   "execution_count": null,
   "id": "6f10e3c6",
   "metadata": {},
   "outputs": [
    {
     "name": "stdout",
     "output_type": "stream",
     "text": [
      "['Inside Out', 'Coco', 'Incredibles 2', 'Snow White and the Seven Dwarfs', 'Zootopia', 'Toy Story 2', 'Up', 'Toy Story 3', 'Finding Nemo', 'Finding Dory', 'Pinocchio', 'Moana', 'Toy Story', 'Kubo and the Two Strings', 'How to Train Your Dragon', 'Shaun the Sheep Movie', 'Isle of Dogs', 'Dumbo', 'WALL-E', 'The Lego Movie', 'Ratatouille', 'The Incredibles', 'Only Yesterday', 'Yellow Submarine', 'Beauty and the Beast', 'Chicken Run', 'The Lego Batman Movie', 'The Nightmare Before Christmas', 'Monsters, Inc.', 'The Iron Giant', 'Tower', 'Anomalisa', 'Song of the Sea', 'The Lion King', 'Who Framed Roger Rabbit', 'Waltz with Bashir', 'Persepolis', 'Wallace & Gromit: The Curse of the Were-Rabbit', 'Fantasia', 'Fantastic Mr. Fox', 'Aladdin', 'Frozen', 'How to Train Your Dragon 2', 'The Breadwinner', 'Coraline', 'The Little Mermaid', 'Lady and the Tramp', 'Antz', 'The Triplets of Belleville', 'Bambi', 'My Neighbor Totoro', 'Big Hero 6', 'Arthur Christmas', \"A Bug's Life\", 'Mary and Max', 'Teen Titans Go! To the Movies', 'Bolt', 'Shrek 2', 'Tangled', 'The Simpsons Movie', 'James and the Giant Peach', 'Shrek', 'Frankenweenie', 'Sleeping Beauty', 'Rango', 'Winnie the Pooh', 'ParaNorman', 'The Peanuts Movie', 'Kung Fu Panda', 'Tarzan', 'Wreck-It Ralph', 'Kung Fu Panda 3', 'Sausage Party', 'Akira', 'Tokyo Godfathers', 'The Pirates! Band of Misfits', 'The Princess and the Frog']\n"
     ]
    }
   ],
   "source": []
  },
  {
   "cell_type": "code",
   "execution_count": 42,
   "id": "b6af8a64",
   "metadata": {},
   "outputs": [
    {
     "name": "stdout",
     "output_type": "stream",
     "text": [
      "[{'id': 74, 'title': 'Akira', 'posterURL': 'https://m.media-amazon.com/images/M/MV5BM2ZiZTk1ODgtMTZkNS00NTYxLWIxZTUtNWExZGYwZTRjODViXkEyXkFqcGdeQXVyMTE2MzA3MDM@._V1_SX300.jpg', 'imdbId': 'tt0094625'}]\n"
     ]
    }
   ],
   "source": [
    "# Search for objects where title is 'Akira'\n",
    "jsonpath_expr = parse('$[?(@.title == \"Akira\" )]')\n",
    "results = [match.value for match in jsonpath_expr.find(response.json())]\n",
    "print(results) "
   ]
  },
  {
   "cell_type": "code",
   "execution_count": null,
   "id": "6863d21f",
   "metadata": {},
   "outputs": [],
   "source": []
  },
  {
   "cell_type": "code",
   "execution_count": null,
   "id": "7736e7da",
   "metadata": {},
   "outputs": [],
   "source": []
  }
 ],
 "metadata": {
  "kernelspec": {
   "display_name": "sistemas24",
   "language": "python",
   "name": "python3"
  },
  "language_info": {
   "codemirror_mode": {
    "name": "ipython",
    "version": 3
   },
   "file_extension": ".py",
   "mimetype": "text/x-python",
   "name": "python",
   "nbconvert_exporter": "python",
   "pygments_lexer": "ipython3",
   "version": "3.13.0"
  }
 },
 "nbformat": 4,
 "nbformat_minor": 5
}

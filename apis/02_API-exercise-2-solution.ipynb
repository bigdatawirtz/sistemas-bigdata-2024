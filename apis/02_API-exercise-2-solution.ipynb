{
 "cells": [
  {
   "cell_type": "markdown",
   "id": "18b0f087",
   "metadata": {},
   "source": [
    "# APIs. Exercise 2. Solution\n",
    "## Meteogalicia API"
   ]
  },
  {
   "cell_type": "code",
   "execution_count": null,
   "id": "a4a78c8f-6cdb-4fcd-89f5-729135106c5e",
   "metadata": {},
   "outputs": [],
   "source": [
    "# METEOGALICIA\n",
    "# Look for the documentation for the meteorological forecast by counties in the short term (\"Predición por concellos\")\n",
    "# In the main page go to RSS, GeoRSS and JSON\n",
    "# Copy the PDF file url\n",
    "# LINK HERE: https://www.meteogalicia.gal/datosred/infoweb/meteo/docs/rss/JSON_Pred_Concello_gl.pdf"
   ]
  },
  {
   "cell_type": "code",
   "execution_count": null,
   "id": "53daf6d1",
   "metadata": {},
   "outputs": [],
   "source": [
    "# Each API has its specific documentation, sometimes in web format, sometimes PDF, ... \n",
    "# Take a look at the documentation offered by Meteogalicia for the short term forecasting by municipality\n",
    "# to understand the type of service and data offered and to be able to carry out the exercise."
   ]
  },
  {
   "cell_type": "code",
   "execution_count": null,
   "id": "583581b9-0b93-42ae-b56e-54372b957b65",
   "metadata": {},
   "outputs": [],
   "source": [
    "# Query the short term forecast for the municipality of Monfero.\n",
    "# Use the documentation to understand how the API works and what the results mean\n",
    "# It's enough to get the JSON with the prediction\n",
    "# You can try to access the different elements"
   ]
  },
  {
   "cell_type": "code",
   "execution_count": 1,
   "id": "d6bb683a-95ab-4dbc-a7ce-6504a7ac5b2e",
   "metadata": {},
   "outputs": [],
   "source": [
    "import requests"
   ]
  },
  {
   "cell_type": "code",
   "execution_count": 2,
   "id": "da695bc1-6cd9-4494-8b56-e499dc294cf8",
   "metadata": {},
   "outputs": [
    {
     "data": {
      "text/plain": [
       "{'predConcello': {'idConcello': 15050,\n",
       "  'listaPredDiaConcello': [{'ceo': {'manha': 103, 'noite': 204, 'tarde': 104},\n",
       "    'dataPredicion': '2024-02-21T00:00:00',\n",
       "    'nivelAviso': 0,\n",
       "    'pchoiva': {'manha': 5, 'noite': 50, 'tarde': 45},\n",
       "    'tMax': 14,\n",
       "    'tMin': 10,\n",
       "    'tmaxFranxa': {'manha': 13, 'noite': 13, 'tarde': 14},\n",
       "    'tminFranxa': {'manha': 10, 'noite': 12, 'tarde': 12},\n",
       "    'uvMax': 3,\n",
       "    'vento': {'manha': 306, 'noite': 314, 'tarde': 314}},\n",
       "   {'ceo': {'manha': 111, 'noite': 208, 'tarde': 108},\n",
       "    'dataPredicion': '2024-02-22T00:00:00',\n",
       "    'nivelAviso': 0,\n",
       "    'pchoiva': {'manha': 95, 'noite': 95, 'tarde': 95},\n",
       "    'tMax': 13,\n",
       "    'tMin': 5,\n",
       "    'tmaxFranxa': {'manha': 13, 'noite': 6, 'tarde': 9},\n",
       "    'tminFranxa': {'manha': 10, 'noite': 5, 'tarde': 5},\n",
       "    'uvMax': 3,\n",
       "    'vento': {'manha': 314, 'noite': 307, 'tarde': 316}},\n",
       "   {'ceo': {'manha': 108, 'noite': 208, 'tarde': 108},\n",
       "    'dataPredicion': '2024-02-23T00:00:00',\n",
       "    'nivelAviso': 0,\n",
       "    'pchoiva': {'manha': 95, 'noite': 95, 'tarde': 95},\n",
       "    'tMax': 8,\n",
       "    'tMin': 5,\n",
       "    'tmaxFranxa': {'manha': -9999, 'noite': -9999, 'tarde': -9999},\n",
       "    'tminFranxa': {'manha': -9999, 'noite': -9999, 'tarde': -9999},\n",
       "    'uvMax': 2,\n",
       "    'vento': {'manha': 315, 'noite': 316, 'tarde': 315}},\n",
       "   {'ceo': {'manha': 108, 'noite': 211, 'tarde': 108},\n",
       "    'dataPredicion': '2024-02-24T00:00:00',\n",
       "    'nivelAviso': None,\n",
       "    'pchoiva': {'manha': 95, 'noite': 95, 'tarde': 95},\n",
       "    'tMax': 9,\n",
       "    'tMin': 5,\n",
       "    'tmaxFranxa': {'manha': -9999, 'noite': -9999, 'tarde': -9999},\n",
       "    'tminFranxa': {'manha': -9999, 'noite': -9999, 'tarde': -9999},\n",
       "    'uvMax': 2,\n",
       "    'vento': {'manha': 308, 'noite': 306, 'tarde': 315}}],\n",
       "  'nome': 'Monfero'}}"
      ]
     },
     "execution_count": 2,
     "metadata": {},
     "output_type": "execute_result"
    }
   ],
   "source": [
    "idConcello = '15050' # Monfero\n",
    "endpoint = 'https://servizos.meteogalicia.gal/mgrss/predicion/jsonPredConcellos.action'\n",
    "payload = {'idConc': idConcello}\n",
    "response = requests.get(endpoint, params = payload)\n",
    "response.json()"
   ]
  },
  {
   "cell_type": "code",
   "execution_count": 6,
   "id": "069beef4-2ad2-4db0-93da-6d559c17b7c8",
   "metadata": {},
   "outputs": [
    {
     "data": {
      "text/plain": [
       "'Temperaturas: 15/7'"
      ]
     },
     "execution_count": 6,
     "metadata": {},
     "output_type": "execute_result"
    }
   ],
   "source": [
    "# Check the maximum and minimum temperatures forecast in the short term for the municipality of Paderne.\n",
    "# In concrete, for the day after the current one (for tomorrow)\n",
    "idConcello = '15064' # Paderne\n",
    "endpoint = 'https://servizos.meteogalicia.gal/mgrss/predicion/jsonPredConcellos.action'\n",
    "payload = {'idConc': idConcello}\n",
    "response = requests.get(endpoint, params = payload)\n",
    "tMax = response.json()['predConcello']['listaPredDiaConcello'][1]['tMax']\n",
    "tMin = response.json()['predConcello']['listaPredDiaConcello'][1]['tMin']\n",
    "print(\"Temperaturas: \" + str(tMax) + \"/\" + str(tMin))"
   ]
  },
  {
   "cell_type": "code",
   "execution_count": 8,
   "id": "d2b6aa37-d01c-44cf-ba3a-50e62f12751e",
   "metadata": {},
   "outputs": [
    {
     "data": {
      "text/plain": [
       "'Temperaturas Min/Max: 7º/15º'"
      ]
     },
     "execution_count": 8,
     "metadata": {},
     "output_type": "execute_result"
    }
   ],
   "source": [
    "# Another way of printing text: Fancier Output Formatting\n",
    "f'Temperaturas Min/Max: {tMin}º/{tMax}º'"
   ]
  },
  {
   "cell_type": "code",
   "execution_count": null,
   "id": "3d339555",
   "metadata": {},
   "outputs": [],
   "source": [
    "# Meteogalicia also offers information about the beaches through its API.\n",
    "# https://www.meteogalicia.gal/datosred/infoweb/meteo/docs/rss/JSON_Pred_Praia_gl.pdf"
   ]
  },
  {
   "cell_type": "code",
   "execution_count": 9,
   "id": "46c52797-4aaa-49d2-8555-2245597c2a3d",
   "metadata": {},
   "outputs": [
    {
     "data": {
      "text/plain": [
       "'Temperatura da auga en Riazor:13º e Temperatura da auga nas Catedrais:13º'"
      ]
     },
     "execution_count": 9,
     "metadata": {},
     "output_type": "execute_result"
    }
   ],
   "source": [
    "# Check the prediction for the temperature of the water in Riazor beach and compare it with that of the Catedrais beach.\n",
    "idPraia = '2448' # Praia de Riazor\n",
    "endpoint = 'https://servizos.meteogalicia.gal/mgrss/predicion/jsonPredPraia.action'\n",
    "response = requests.get(endpoint, params = {'idPraia': idPraia})\n",
    "tempRiazor = response.json()['predPraia']['listaPredDiaPraia'][0]['tAuga']\n",
    "idPraia = '1987' # Praia das Catedrais\n",
    "response = requests.get(endpoint, params = {'idPraia': idPraia})\n",
    "tempCatedrais = response.json()['predPraia']['listaPredDiaPraia'][0]['tAuga']\n",
    "f'Temperatura da auga en Riazor:{tempRiazor}º e Temperatura da auga nas Catedrais:{tempCatedrais}º'"
   ]
  },
  {
   "cell_type": "code",
   "execution_count": null,
   "id": "6b64ab7c",
   "metadata": {},
   "outputs": [],
   "source": [
    "# Research on the Meteogalicia website among the different services available.\n",
    "# Connect to one of the services and extract some information.\n",
    "# Imagine a use case for this data (it can be something simple, you don't have to think in BigData)\n",
    "# If it's something simple, you can try programming it!!!"
   ]
  },
  {
   "cell_type": "code",
   "execution_count": 10,
   "id": "126bf753",
   "metadata": {},
   "outputs": [
    {
     "name": "stdout",
     "output_type": "stream",
     "text": [
      "NON hai que regar\n"
     ]
    }
   ],
   "source": [
    " # I am experimenting with an intelligent automatic irrigation system in Monfero. In summer there are times when it rains little and I have to water the garden, but I have little water and I have to economize. By combining the three-day rain forecast I can tell my system whether it is worth watering or waiting for rain.\n",
    "\n",
    "# I still have to refine the calculation of probabilities, but for the moment I have enough with observing the prediction of the following day (later I will expand to 3). I will take the data of the 3 probabilities per day (morning, evening and afternoon).\n",
    "\n",
    "# I took the decision NOT to irrigate if the probability of rainfall is above 40% the following day in any period of the day.\n",
    "\n",
    "idConcello = '15050' # Monfero\n",
    "endpoint = 'https://servizos.meteogalicia.gal/mgrss/predicion/jsonPredConcellos.action'\n",
    "payload = {'idConc': idConcello}\n",
    "response = requests.get(endpoint, params = payload)\n",
    "choivaManha = response.json()['predConcello']['listaPredDiaConcello'][1]['pchoiva']['manha']\n",
    "choivaTarde = response.json()['predConcello']['listaPredDiaConcello'][1]['pchoiva']['tarde']\n",
    "choivaNoite = response.json()['predConcello']['listaPredDiaConcello'][1]['pchoiva']['noite']\n",
    "#f'Choivas: {choivaManha}%/{choivaTarde}%/{choivaNoite}%'\n",
    "if max(choivaManha,choivaTarde,choivaNoite)>40:\n",
    "    print('NON hai que regar')"
   ]
  },
  {
   "cell_type": "code",
   "execution_count": null,
   "id": "caa27221",
   "metadata": {},
   "outputs": [],
   "source": []
  },
  {
   "cell_type": "code",
   "execution_count": null,
   "id": "161aa399",
   "metadata": {},
   "outputs": [],
   "source": []
  }
 ],
 "metadata": {
  "kernelspec": {
   "display_name": "systems",
   "language": "python",
   "name": "python3"
  },
  "language_info": {
   "codemirror_mode": {
    "name": "ipython",
    "version": 3
   },
   "file_extension": ".py",
   "mimetype": "text/x-python",
   "name": "python",
   "nbconvert_exporter": "python",
   "pygments_lexer": "ipython3",
   "version": "3.7.15"
  },
  "vscode": {
   "interpreter": {
    "hash": "63eb1e5c3aa5268319f56c3b664e0523445c946ec0f1445e261f1f92702f6b14"
   }
  }
 },
 "nbformat": 4,
 "nbformat_minor": 5
}

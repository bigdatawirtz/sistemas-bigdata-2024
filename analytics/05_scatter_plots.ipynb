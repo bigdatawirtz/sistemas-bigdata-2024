{
 "cells": [
  {
   "cell_type": "markdown",
   "id": "8cc94896-5d3d-453d-b71e-ad27e7326dba",
   "metadata": {},
   "source": [
    "# Graphs with python. 4\n",
    "## Scatter Plots\n",
    "\n",
    "API SEABORN - Scatter Plots\n",
    "\n",
    "https://seaborn.pydata.org/generated/seaborn.scatterplot.html\n",
    "\n",
    "Scatter plots are useful for understanding the relationship between two continuous variables.\n",
    "\n",
    "We can add a third categorical variable (with colors, or with another type of graphs).\n",
    "\n",
    "Remember that in bar charts the relationship was between a numerical variable and another categorical variable.\n"
   ]
  },
  {
   "cell_type": "code",
   "execution_count": 24,
   "id": "8767a83b",
   "metadata": {},
   "outputs": [],
   "source": [
    "# Summary:\n",
    "# - scatterplot (scatter plot)\n",
    "# - regplot (linear regression line)\n",
    "# - lmplot (scatterplot with categorical variable and linear regression lines)\n",
    "# - swarmplot (categorical scatterplot)"
   ]
  },
  {
   "cell_type": "code",
   "execution_count": null,
   "id": "f94f5426",
   "metadata": {},
   "outputs": [],
   "source": [
    "# Example taken from kaggle: data visualizations tutorials\n",
    "# https://www.kaggle.com/learn/data-visualization"
   ]
  },
  {
   "cell_type": "code",
   "execution_count": null,
   "id": "161ec80d-1c6c-4a92-8183-deef4bdf08aa",
   "metadata": {},
   "outputs": [],
   "source": [
    "import pandas as pd\n",
    "import matplotlib.pyplot as plt\n",
    "import seaborn as sns"
   ]
  },
  {
   "cell_type": "code",
   "execution_count": null,
   "id": "6ed4ca0f-d7bc-41a2-83c1-0c8bc21d051c",
   "metadata": {},
   "outputs": [],
   "source": [
    "# Dataset with insurance data\n",
    "df_seguros = pd.read_csv(\"../datasets/insurance.csv\")"
   ]
  },
  {
   "cell_type": "code",
   "execution_count": null,
   "id": "2b01034c-7f57-4b46-83e8-8f834db9f9a6",
   "metadata": {},
   "outputs": [],
   "source": [
    "df_seguros.head()"
   ]
  },
  {
   "cell_type": "code",
   "execution_count": null,
   "id": "e9821f29-c5b4-4b65-9a33-b5b6792551b8",
   "metadata": {},
   "outputs": [],
   "source": [
    "# scatter plot of charges (what they pay) vs. body mass index (bmi)\n",
    "sns.scatterplot(x=df_seguros.bmi, y=df_seguros.charges)"
   ]
  },
  {
   "cell_type": "code",
   "execution_count": null,
   "id": "1b74ef85-b544-4418-b3f5-00057457be46",
   "metadata": {},
   "outputs": [],
   "source": [
    "# The graph seems to show that there is a certain correlation,\n",
    "# A higher bmi correlates with higher charges"
   ]
  },
  {
   "cell_type": "code",
   "execution_count": null,
   "id": "bfad2a6f-65a3-4d1c-97d9-ac73139bd3b5",
   "metadata": {},
   "outputs": [],
   "source": [
    "# A linear regression can be added to be sure"
   ]
  },
  {
   "cell_type": "code",
   "execution_count": null,
   "id": "521cfafe-4681-47d7-aca2-c808ddb379bb",
   "metadata": {},
   "outputs": [],
   "source": [
    "sns.regplot(x=df_seguros.bmi, y=df_seguros.charges)"
   ]
  },
  {
   "cell_type": "code",
   "execution_count": null,
   "id": "cdc3717e",
   "metadata": {},
   "outputs": [],
   "source": [
    "# The regression line shows a slight upward trend as the bmi increases."
   ]
  },
  {
   "cell_type": "code",
   "execution_count": null,
   "id": "c84fff35-9a9f-48d0-98d0-89d3db4deba3",
   "metadata": {},
   "outputs": [],
   "source": [
    "# Add a third variable using color\n",
    "sns.scatterplot(x=df_seguros['bmi'], y=df_seguros['charges'], hue=df_seguros['smoker'])"
   ]
  },
  {
   "cell_type": "code",
   "execution_count": null,
   "id": "9df9ff55",
   "metadata": {},
   "outputs": [],
   "source": [
    "# Two groups are identified quite clearly\n",
    "# In the group of non-smokers there is not much relation with bmi\n",
    "# In the group of smokers the relationship seems to be more pronounced"
   ]
  },
  {
   "cell_type": "code",
   "execution_count": null,
   "id": "0b8cd5ba-f215-4d44-8eba-7a3b5b9ddad0",
   "metadata": {},
   "outputs": [],
   "source": [
    "sns.lmplot(x=\"bmi\", y=\"charges\", hue=\"smoker\", data=df_seguros)"
   ]
  },
  {
   "cell_type": "code",
   "execution_count": null,
   "id": "d04d0379",
   "metadata": {},
   "outputs": [],
   "source": [
    "# The regression shows different relationships for the different groups.\n",
    "# Costs for non-smokers hardly increase as their bmi increases\n",
    "# Costs for smokers skyrockets as their bmi rises"
   ]
  }
 ],
 "metadata": {
  "kernelspec": {
   "display_name": "sistemas24",
   "language": "python",
   "name": "python3"
  },
  "language_info": {
   "codemirror_mode": {
    "name": "ipython",
    "version": 3
   },
   "file_extension": ".py",
   "mimetype": "text/x-python",
   "name": "python",
   "nbconvert_exporter": "python",
   "pygments_lexer": "ipython3",
   "version": "3.13.0"
  }
 },
 "nbformat": 4,
 "nbformat_minor": 5
}
